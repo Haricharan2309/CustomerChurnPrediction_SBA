{
 "cells": [
  {
   "cell_type": "markdown",
   "id": "62834763",
   "metadata": {},
   "source": [
    "\n",
    "\n",
    "## Summary\n",
    "- Train and tune classification model\n",
    "- Perform feature engineering to improve model performance\n",
    "- Explain/interpret and debug model\n",
    "\n",
    "## Tasks\n",
    "\n",
    "The project will include following tasks:\n",
    "- Load dataset. Don't use \"index\" column for training.\n",
    "- Clean up the data:\n",
    "    - Encode replace missing values\n",
    "    - Replace features values that appear incorrect\n",
    "    - Encode numerical variables that come as strings, for example string `$100.01` should be converted to numerical value\n",
    "- Encode categorical variables\n",
    "- Split dataset to Train/Test/Validation. If you perform cross-validation while tuning hyper-parameters, you don't need validation dataset.\n",
    "- Adding engineered features. Simple encoding (Target encoding) for individual feature doesn't count to the 10 required engineered features\n",
    "- Train and tune ML models\n",
    "- Provide final metrics using Test (hold-out) dataset:\n",
    "    - Classification: AUC\n",
    "    - Confusion matrix for best F1\n",
    "- Interpret final trained model using Test dataset:\n",
    "    - Global feature importance using both Shapley values and permutation feature importance\n",
    "    - Summary plot with Shapley values \n",
    "    - Individual observations analysis using Shapley values. Two records for each of the scenarios with significant probability:\n",
    "        - Label `0` is correctly identified\n",
    "        - Label `0` is identified as `1`\n",
    "        - Label `1` is correctly identified\n",
    "        - Label `1` is identified as `0`\n",
    "        - Significant probability means high probability of being correct/in-correct (depending on the scenario)"
   ]
  },
  {
   "cell_type": "markdown",
   "id": "15dff2a2",
   "metadata": {},
   "source": [
    "## Datasets\n",
    "There were several changes made to the dataset: columns dropped/added. \n",
    "\n",
    "The dataset is from the U.S. Small Business Administration (SBA) The U.S. SBA was founded in 1953 on the principle of promoting and assisting small enterprises in the U.S. credit market (SBA Overview and History, US Small Business Administration (2015)). Small businesses have been a primary source of job creation in the United States; therefore, fostering small business formation and growth has social benefits by creating job opportunities and reducing unemployment. There have been many success stories of start-ups receiving SBA loan guarantees such as FedEx and Apple Computer. However, there have also been stories of small businesses and/or start-ups that have defaulted on their SBA-guaranteed loans.  \n",
    "More info on the original dataset: https://www.kaggle.com/mirbektoktogaraev/should-this-loan-be-approved-or-denied."
   ]
  },
  {
   "cell_type": "markdown",
   "id": "9caf6b74",
   "metadata": {},
   "source": [
    "## Models\n",
    "train and tune two types of models:\n",
    "- GBM (H2O)\n",
    "- LightGBM. To install LightGBM, run following command from your terminal after activating class virtual environment:\n",
    "train and tune 2 models for each task for the total of 2 final models. \n",
    "\n",
    "First, split he dataset to Train/Validation/Test, before applying any encodings clean-up or feature engineering. \n",
    "It is important to understand all the steps before model training, so that you can reliably replicate and test them to produce scoring function."
   ]
  },
  {
   "cell_type": "markdown",
   "id": "c28b07b5",
   "metadata": {},
   "source": [
    "## Load Data example"
   ]
  },
  {
   "cell_type": "markdown",
   "id": "2c68e4e6",
   "metadata": {},
   "source": [
    "Light GBM"
   ]
  },
  {
   "cell_type": "code",
   "execution_count": 1,
   "id": "d9bdff8e",
   "metadata": {},
   "outputs": [],
   "source": [
    "import pandas as pd\n",
    "df = pd.read_csv(\"SBA_loans_project_2(1).zip\")"
   ]
  },
  {
   "cell_type": "code",
   "execution_count": 2,
   "id": "c3d65f4f",
   "metadata": {},
   "outputs": [
    {
     "data": {
      "text/plain": [
       "0    82.438293\n",
       "1    17.561707\n",
       "Name: MIS_Status, dtype: float64"
      ]
     },
     "execution_count": 2,
     "metadata": {},
     "output_type": "execute_result"
    }
   ],
   "source": [
    "(df['MIS_Status'].value_counts()) / len(df) * 100"
   ]
  },
  {
   "cell_type": "code",
   "execution_count": 3,
   "id": "de9dc1d1",
   "metadata": {},
   "outputs": [
    {
     "data": {
      "text/plain": [
       "index                   0\n",
       "City                   26\n",
       "State                  13\n",
       "Zip                     0\n",
       "Bank                 1347\n",
       "BankState            1353\n",
       "NAICS                   0\n",
       "NoEmp                   0\n",
       "NewExist              122\n",
       "CreateJob               0\n",
       "RetainedJob             0\n",
       "FranchiseCode           0\n",
       "UrbanRural              0\n",
       "RevLineCr            4090\n",
       "LowDoc               2291\n",
       "DisbursementGross       0\n",
       "BalanceGross            0\n",
       "GrAppv                  0\n",
       "SBA_Appv                0\n",
       "LoanInd                 0\n",
       "MIS_Status              0\n",
       "dtype: int64"
      ]
     },
     "execution_count": 3,
     "metadata": {},
     "output_type": "execute_result"
    }
   ],
   "source": [
    "df.isnull().sum()"
   ]
  },
  {
   "cell_type": "code",
   "execution_count": 4,
   "id": "0325b720",
   "metadata": {},
   "outputs": [
    {
     "name": "stdout",
     "output_type": "stream",
     "text": [
      "   index           City State    Zip                      Bank BankState  \\\n",
      "0      0      PRINCETON    MN  55371  PEOPLES BANK OF COMMERCE        MN   \n",
      "1      1    Kansas city    MO  64116              BANK OF HAYS        KS   \n",
      "2      2       BELLWOOD    PA  16617   FIRST COMMONWEALTH BANK        PA   \n",
      "3      3  GRAND PRAIRIE    TX  75050           PROSPERITY BANK        TX   \n",
      "4      4        EL PASO    TX  79925             WESTSTAR BANK        TX   \n",
      "\n",
      "    NAICS  NoEmp  NewExist  CreateJob  ...  FranchiseCode  UrbanRural  \\\n",
      "0  441120      4       2.0          0  ...              1           0   \n",
      "1  481111     14       1.0          0  ...              0           1   \n",
      "2  334417     10       1.0          0  ...              1           1   \n",
      "3       0     18       1.0          0  ...              1           0   \n",
      "4  423220      4       1.0          0  ...              0           1   \n",
      "\n",
      "   RevLineCr LowDoc DisbursementGross BalanceGross        GrAppv  \\\n",
      "0          N      N      $114,577.00        $0.00   $114,577.00    \n",
      "1          N      N       $25,000.00        $0.00    $25,000.00    \n",
      "2          0      N       $85,000.00        $0.00    $85,000.00    \n",
      "3          N      N      $230,000.00        $0.00   $230,000.00    \n",
      "4          N      N       $32,000.00        $0.00    $32,000.00    \n",
      "\n",
      "       SBA_Appv LoanInd  MIS_Status  \n",
      "0   $85,933.00        1           0  \n",
      "1   $12,500.00        7           0  \n",
      "2   $42,500.00        4           0  \n",
      "3  $195,500.00        5           0  \n",
      "4   $16,000.00        9           0  \n",
      "\n",
      "[5 rows x 21 columns]\n"
     ]
    }
   ],
   "source": [
    "null_cols = df.columns[df.isnull().any()]\n",
    "\n",
    "# Replace null values in numerical columns with the mean of the column\n",
    "for col in df.select_dtypes(include='number').columns:\n",
    "    if col in null_cols:\n",
    "        df[col].fillna(df[col].mean(), inplace=True)\n",
    "\n",
    "# Replace null values in categorical columns with the mode of the column\n",
    "for col in df.select_dtypes(include='object').columns:\n",
    "    if col in null_cols:\n",
    "        df[col].fillna(df[col].mode()[0], inplace=True)\n",
    "\n",
    "# Print the updated dataframe to verify changes\n",
    "print(df.head())"
   ]
  },
  {
   "cell_type": "code",
   "execution_count": 5,
   "id": "b344a63c",
   "metadata": {},
   "outputs": [
    {
     "data": {
      "text/plain": [
       "index                0\n",
       "City                 0\n",
       "State                0\n",
       "Zip                  0\n",
       "Bank                 0\n",
       "BankState            0\n",
       "NAICS                0\n",
       "NoEmp                0\n",
       "NewExist             0\n",
       "CreateJob            0\n",
       "RetainedJob          0\n",
       "FranchiseCode        0\n",
       "UrbanRural           0\n",
       "RevLineCr            0\n",
       "LowDoc               0\n",
       "DisbursementGross    0\n",
       "BalanceGross         0\n",
       "GrAppv               0\n",
       "SBA_Appv             0\n",
       "LoanInd              0\n",
       "MIS_Status           0\n",
       "dtype: int64"
      ]
     },
     "execution_count": 5,
     "metadata": {},
     "output_type": "execute_result"
    }
   ],
   "source": [
    "df.isnull().sum()"
   ]
  },
  {
   "cell_type": "code",
   "execution_count": 6,
   "id": "2a612dec",
   "metadata": {},
   "outputs": [],
   "source": [
    "c1=['DisbursementGross', 'BalanceGross', 'GrAppv', 'SBA_Appv']\n",
    "df[c1] = df[c1].replace('[\\$,]', '', regex=True).astype(float)"
   ]
  },
  {
   "cell_type": "code",
   "execution_count": 7,
   "id": "b86f47e6",
   "metadata": {},
   "outputs": [
    {
     "data": {
      "text/html": [
       "<div>\n",
       "<style scoped>\n",
       "    .dataframe tbody tr th:only-of-type {\n",
       "        vertical-align: middle;\n",
       "    }\n",
       "\n",
       "    .dataframe tbody tr th {\n",
       "        vertical-align: top;\n",
       "    }\n",
       "\n",
       "    .dataframe thead th {\n",
       "        text-align: right;\n",
       "    }\n",
       "</style>\n",
       "<table border=\"1\" class=\"dataframe\">\n",
       "  <thead>\n",
       "    <tr style=\"text-align: right;\">\n",
       "      <th></th>\n",
       "      <th>index</th>\n",
       "      <th>City</th>\n",
       "      <th>State</th>\n",
       "      <th>Zip</th>\n",
       "      <th>Bank</th>\n",
       "      <th>BankState</th>\n",
       "      <th>NAICS</th>\n",
       "      <th>NoEmp</th>\n",
       "      <th>NewExist</th>\n",
       "      <th>CreateJob</th>\n",
       "      <th>...</th>\n",
       "      <th>FranchiseCode</th>\n",
       "      <th>UrbanRural</th>\n",
       "      <th>RevLineCr</th>\n",
       "      <th>LowDoc</th>\n",
       "      <th>DisbursementGross</th>\n",
       "      <th>BalanceGross</th>\n",
       "      <th>GrAppv</th>\n",
       "      <th>SBA_Appv</th>\n",
       "      <th>LoanInd</th>\n",
       "      <th>MIS_Status</th>\n",
       "    </tr>\n",
       "  </thead>\n",
       "  <tbody>\n",
       "    <tr>\n",
       "      <th>0</th>\n",
       "      <td>0</td>\n",
       "      <td>PRINCETON</td>\n",
       "      <td>MN</td>\n",
       "      <td>55371</td>\n",
       "      <td>PEOPLES BANK OF COMMERCE</td>\n",
       "      <td>MN</td>\n",
       "      <td>441120</td>\n",
       "      <td>4</td>\n",
       "      <td>2.0</td>\n",
       "      <td>0</td>\n",
       "      <td>...</td>\n",
       "      <td>1</td>\n",
       "      <td>0</td>\n",
       "      <td>N</td>\n",
       "      <td>N</td>\n",
       "      <td>114577.0</td>\n",
       "      <td>0.0</td>\n",
       "      <td>114577.0</td>\n",
       "      <td>85933.0</td>\n",
       "      <td>1</td>\n",
       "      <td>0</td>\n",
       "    </tr>\n",
       "    <tr>\n",
       "      <th>1</th>\n",
       "      <td>1</td>\n",
       "      <td>Kansas city</td>\n",
       "      <td>MO</td>\n",
       "      <td>64116</td>\n",
       "      <td>BANK OF HAYS</td>\n",
       "      <td>KS</td>\n",
       "      <td>481111</td>\n",
       "      <td>14</td>\n",
       "      <td>1.0</td>\n",
       "      <td>0</td>\n",
       "      <td>...</td>\n",
       "      <td>0</td>\n",
       "      <td>1</td>\n",
       "      <td>N</td>\n",
       "      <td>N</td>\n",
       "      <td>25000.0</td>\n",
       "      <td>0.0</td>\n",
       "      <td>25000.0</td>\n",
       "      <td>12500.0</td>\n",
       "      <td>7</td>\n",
       "      <td>0</td>\n",
       "    </tr>\n",
       "    <tr>\n",
       "      <th>2</th>\n",
       "      <td>2</td>\n",
       "      <td>BELLWOOD</td>\n",
       "      <td>PA</td>\n",
       "      <td>16617</td>\n",
       "      <td>FIRST COMMONWEALTH BANK</td>\n",
       "      <td>PA</td>\n",
       "      <td>334417</td>\n",
       "      <td>10</td>\n",
       "      <td>1.0</td>\n",
       "      <td>0</td>\n",
       "      <td>...</td>\n",
       "      <td>1</td>\n",
       "      <td>1</td>\n",
       "      <td>0</td>\n",
       "      <td>N</td>\n",
       "      <td>85000.0</td>\n",
       "      <td>0.0</td>\n",
       "      <td>85000.0</td>\n",
       "      <td>42500.0</td>\n",
       "      <td>4</td>\n",
       "      <td>0</td>\n",
       "    </tr>\n",
       "    <tr>\n",
       "      <th>3</th>\n",
       "      <td>3</td>\n",
       "      <td>GRAND PRAIRIE</td>\n",
       "      <td>TX</td>\n",
       "      <td>75050</td>\n",
       "      <td>PROSPERITY BANK</td>\n",
       "      <td>TX</td>\n",
       "      <td>0</td>\n",
       "      <td>18</td>\n",
       "      <td>1.0</td>\n",
       "      <td>0</td>\n",
       "      <td>...</td>\n",
       "      <td>1</td>\n",
       "      <td>0</td>\n",
       "      <td>N</td>\n",
       "      <td>N</td>\n",
       "      <td>230000.0</td>\n",
       "      <td>0.0</td>\n",
       "      <td>230000.0</td>\n",
       "      <td>195500.0</td>\n",
       "      <td>5</td>\n",
       "      <td>0</td>\n",
       "    </tr>\n",
       "    <tr>\n",
       "      <th>4</th>\n",
       "      <td>4</td>\n",
       "      <td>EL PASO</td>\n",
       "      <td>TX</td>\n",
       "      <td>79925</td>\n",
       "      <td>WESTSTAR BANK</td>\n",
       "      <td>TX</td>\n",
       "      <td>423220</td>\n",
       "      <td>4</td>\n",
       "      <td>1.0</td>\n",
       "      <td>0</td>\n",
       "      <td>...</td>\n",
       "      <td>0</td>\n",
       "      <td>1</td>\n",
       "      <td>N</td>\n",
       "      <td>N</td>\n",
       "      <td>32000.0</td>\n",
       "      <td>0.0</td>\n",
       "      <td>32000.0</td>\n",
       "      <td>16000.0</td>\n",
       "      <td>9</td>\n",
       "      <td>0</td>\n",
       "    </tr>\n",
       "  </tbody>\n",
       "</table>\n",
       "<p>5 rows × 21 columns</p>\n",
       "</div>"
      ],
      "text/plain": [
       "   index           City State    Zip                      Bank BankState  \\\n",
       "0      0      PRINCETON    MN  55371  PEOPLES BANK OF COMMERCE        MN   \n",
       "1      1    Kansas city    MO  64116              BANK OF HAYS        KS   \n",
       "2      2       BELLWOOD    PA  16617   FIRST COMMONWEALTH BANK        PA   \n",
       "3      3  GRAND PRAIRIE    TX  75050           PROSPERITY BANK        TX   \n",
       "4      4        EL PASO    TX  79925             WESTSTAR BANK        TX   \n",
       "\n",
       "    NAICS  NoEmp  NewExist  CreateJob  ...  FranchiseCode  UrbanRural  \\\n",
       "0  441120      4       2.0          0  ...              1           0   \n",
       "1  481111     14       1.0          0  ...              0           1   \n",
       "2  334417     10       1.0          0  ...              1           1   \n",
       "3       0     18       1.0          0  ...              1           0   \n",
       "4  423220      4       1.0          0  ...              0           1   \n",
       "\n",
       "   RevLineCr LowDoc DisbursementGross  BalanceGross    GrAppv  SBA_Appv  \\\n",
       "0          N      N          114577.0           0.0  114577.0   85933.0   \n",
       "1          N      N           25000.0           0.0   25000.0   12500.0   \n",
       "2          0      N           85000.0           0.0   85000.0   42500.0   \n",
       "3          N      N          230000.0           0.0  230000.0  195500.0   \n",
       "4          N      N           32000.0           0.0   32000.0   16000.0   \n",
       "\n",
       "   LoanInd  MIS_Status  \n",
       "0        1           0  \n",
       "1        7           0  \n",
       "2        4           0  \n",
       "3        5           0  \n",
       "4        9           0  \n",
       "\n",
       "[5 rows x 21 columns]"
      ]
     },
     "execution_count": 7,
     "metadata": {},
     "output_type": "execute_result"
    }
   ],
   "source": [
    "df.head()"
   ]
  },
  {
   "cell_type": "code",
   "execution_count": 8,
   "id": "0329de90",
   "metadata": {},
   "outputs": [
    {
     "name": "stdout",
     "output_type": "stream",
     "text": [
      "Training set: (565215, 20), (565215,)\n",
      "Testing set: (121117, 20), (121117,)\n",
      "Validation set: (121118, 20), (121118,)\n"
     ]
    }
   ],
   "source": [
    "import numpy as np\n",
    "from sklearn.model_selection import train_test_split\n",
    "\n",
    "X = df.iloc[:, :-1]\n",
    "y = df.iloc[:, -1]\n",
    "# Split the data into training and testing sets with 70% for training\n",
    "X_train, X_test_val, y_train, y_test_val = train_test_split(X, y, test_size=0.3, random_state=42)\n",
    "\n",
    "# Split the testing and validation sets equally\n",
    "X_test, X_val, y_test, y_val = train_test_split(X_test_val, y_test_val, test_size=0.5, random_state=42)\n",
    "\n",
    "# Verify the shape of each set\n",
    "print(f\"Training set: {X_train.shape}, {y_train.shape}\")\n",
    "print(f\"Testing set: {X_test.shape}, {y_test.shape}\")\n",
    "print(f\"Validation set: {X_val.shape}, {y_val.shape}\")\n"
   ]
  },
  {
   "cell_type": "code",
   "execution_count": 9,
   "id": "162576d6",
   "metadata": {},
   "outputs": [],
   "source": [
    "train_ohe = pd.get_dummies(X_train[['LowDoc']])\n",
    "X_train = pd.concat([X_train,train_ohe], axis=1)"
   ]
  },
  {
   "cell_type": "code",
   "execution_count": 10,
   "id": "f031ab79",
   "metadata": {},
   "outputs": [],
   "source": [
    "X_train=X_train.drop(['LowDoc'],axis=1)"
   ]
  },
  {
   "cell_type": "code",
   "execution_count": 11,
   "id": "3e8b5f36",
   "metadata": {},
   "outputs": [
    {
     "data": {
      "text/html": [
       "<div>\n",
       "<style scoped>\n",
       "    .dataframe tbody tr th:only-of-type {\n",
       "        vertical-align: middle;\n",
       "    }\n",
       "\n",
       "    .dataframe tbody tr th {\n",
       "        vertical-align: top;\n",
       "    }\n",
       "\n",
       "    .dataframe thead th {\n",
       "        text-align: right;\n",
       "    }\n",
       "</style>\n",
       "<table border=\"1\" class=\"dataframe\">\n",
       "  <thead>\n",
       "    <tr style=\"text-align: right;\">\n",
       "      <th></th>\n",
       "      <th>index</th>\n",
       "      <th>City</th>\n",
       "      <th>State</th>\n",
       "      <th>Zip</th>\n",
       "      <th>Bank</th>\n",
       "      <th>BankState</th>\n",
       "      <th>NAICS</th>\n",
       "      <th>NoEmp</th>\n",
       "      <th>NewExist</th>\n",
       "      <th>CreateJob</th>\n",
       "      <th>...</th>\n",
       "      <th>SBA_Appv</th>\n",
       "      <th>LoanInd</th>\n",
       "      <th>LowDoc_0</th>\n",
       "      <th>LowDoc_1</th>\n",
       "      <th>LowDoc_A</th>\n",
       "      <th>LowDoc_C</th>\n",
       "      <th>LowDoc_N</th>\n",
       "      <th>LowDoc_R</th>\n",
       "      <th>LowDoc_S</th>\n",
       "      <th>LowDoc_Y</th>\n",
       "    </tr>\n",
       "  </thead>\n",
       "  <tbody>\n",
       "    <tr>\n",
       "      <th>52431</th>\n",
       "      <td>52431</td>\n",
       "      <td>SIOUX FALLS</td>\n",
       "      <td>SD</td>\n",
       "      <td>57106</td>\n",
       "      <td>U.S. BANK NATIONAL ASSOCIATION</td>\n",
       "      <td>OH</td>\n",
       "      <td>445310</td>\n",
       "      <td>5</td>\n",
       "      <td>1.0</td>\n",
       "      <td>0</td>\n",
       "      <td>...</td>\n",
       "      <td>41850.0</td>\n",
       "      <td>8</td>\n",
       "      <td>0</td>\n",
       "      <td>0</td>\n",
       "      <td>0</td>\n",
       "      <td>0</td>\n",
       "      <td>1</td>\n",
       "      <td>0</td>\n",
       "      <td>0</td>\n",
       "      <td>0</td>\n",
       "    </tr>\n",
       "    <tr>\n",
       "      <th>645688</th>\n",
       "      <td>645688</td>\n",
       "      <td>HIGHLANDS RANCH</td>\n",
       "      <td>CO</td>\n",
       "      <td>80126</td>\n",
       "      <td>COMERICA BANK</td>\n",
       "      <td>CA</td>\n",
       "      <td>0</td>\n",
       "      <td>12</td>\n",
       "      <td>1.0</td>\n",
       "      <td>0</td>\n",
       "      <td>...</td>\n",
       "      <td>81000.0</td>\n",
       "      <td>7</td>\n",
       "      <td>0</td>\n",
       "      <td>0</td>\n",
       "      <td>0</td>\n",
       "      <td>0</td>\n",
       "      <td>1</td>\n",
       "      <td>0</td>\n",
       "      <td>0</td>\n",
       "      <td>0</td>\n",
       "    </tr>\n",
       "    <tr>\n",
       "      <th>207920</th>\n",
       "      <td>207920</td>\n",
       "      <td>MOUNT VERNON</td>\n",
       "      <td>WA</td>\n",
       "      <td>98273</td>\n",
       "      <td>HERITAGE BANK</td>\n",
       "      <td>WA</td>\n",
       "      <td>532230</td>\n",
       "      <td>3</td>\n",
       "      <td>1.0</td>\n",
       "      <td>0</td>\n",
       "      <td>...</td>\n",
       "      <td>63000.0</td>\n",
       "      <td>5</td>\n",
       "      <td>0</td>\n",
       "      <td>0</td>\n",
       "      <td>0</td>\n",
       "      <td>0</td>\n",
       "      <td>0</td>\n",
       "      <td>0</td>\n",
       "      <td>0</td>\n",
       "      <td>1</td>\n",
       "    </tr>\n",
       "    <tr>\n",
       "      <th>758666</th>\n",
       "      <td>758666</td>\n",
       "      <td>Lynnwood</td>\n",
       "      <td>WA</td>\n",
       "      <td>98036</td>\n",
       "      <td>CAPITAL ONE NATL ASSOC</td>\n",
       "      <td>VA</td>\n",
       "      <td>511210</td>\n",
       "      <td>10</td>\n",
       "      <td>1.0</td>\n",
       "      <td>0</td>\n",
       "      <td>...</td>\n",
       "      <td>50000.0</td>\n",
       "      <td>3</td>\n",
       "      <td>0</td>\n",
       "      <td>0</td>\n",
       "      <td>0</td>\n",
       "      <td>0</td>\n",
       "      <td>1</td>\n",
       "      <td>0</td>\n",
       "      <td>0</td>\n",
       "      <td>0</td>\n",
       "    </tr>\n",
       "    <tr>\n",
       "      <th>734445</th>\n",
       "      <td>734445</td>\n",
       "      <td>BURLINGTON</td>\n",
       "      <td>MA</td>\n",
       "      <td>1803</td>\n",
       "      <td>BANK OF AMERICA NATL ASSOC</td>\n",
       "      <td>RI</td>\n",
       "      <td>541310</td>\n",
       "      <td>1</td>\n",
       "      <td>1.0</td>\n",
       "      <td>0</td>\n",
       "      <td>...</td>\n",
       "      <td>12500.0</td>\n",
       "      <td>5</td>\n",
       "      <td>0</td>\n",
       "      <td>0</td>\n",
       "      <td>0</td>\n",
       "      <td>0</td>\n",
       "      <td>1</td>\n",
       "      <td>0</td>\n",
       "      <td>0</td>\n",
       "      <td>0</td>\n",
       "    </tr>\n",
       "  </tbody>\n",
       "</table>\n",
       "<p>5 rows × 27 columns</p>\n",
       "</div>"
      ],
      "text/plain": [
       "         index             City State    Zip                            Bank  \\\n",
       "52431    52431      SIOUX FALLS    SD  57106  U.S. BANK NATIONAL ASSOCIATION   \n",
       "645688  645688  HIGHLANDS RANCH    CO  80126                   COMERICA BANK   \n",
       "207920  207920     MOUNT VERNON    WA  98273                   HERITAGE BANK   \n",
       "758666  758666         Lynnwood    WA  98036          CAPITAL ONE NATL ASSOC   \n",
       "734445  734445       BURLINGTON    MA   1803      BANK OF AMERICA NATL ASSOC   \n",
       "\n",
       "       BankState   NAICS  NoEmp  NewExist  CreateJob  ...  SBA_Appv  LoanInd  \\\n",
       "52431         OH  445310      5       1.0          0  ...   41850.0        8   \n",
       "645688        CA       0     12       1.0          0  ...   81000.0        7   \n",
       "207920        WA  532230      3       1.0          0  ...   63000.0        5   \n",
       "758666        VA  511210     10       1.0          0  ...   50000.0        3   \n",
       "734445        RI  541310      1       1.0          0  ...   12500.0        5   \n",
       "\n",
       "        LowDoc_0 LowDoc_1  LowDoc_A  LowDoc_C  LowDoc_N  LowDoc_R  LowDoc_S  \\\n",
       "52431          0        0         0         0         1         0         0   \n",
       "645688         0        0         0         0         1         0         0   \n",
       "207920         0        0         0         0         0         0         0   \n",
       "758666         0        0         0         0         1         0         0   \n",
       "734445         0        0         0         0         1         0         0   \n",
       "\n",
       "        LowDoc_Y  \n",
       "52431          0  \n",
       "645688         0  \n",
       "207920         1  \n",
       "758666         0  \n",
       "734445         0  \n",
       "\n",
       "[5 rows x 27 columns]"
      ]
     },
     "execution_count": 11,
     "metadata": {},
     "output_type": "execute_result"
    }
   ],
   "source": [
    "X_train.head()"
   ]
  },
  {
   "cell_type": "code",
   "execution_count": 12,
   "id": "92a86ab8",
   "metadata": {},
   "outputs": [],
   "source": [
    "X_train = X_train.drop('index', axis=1)"
   ]
  },
  {
   "cell_type": "code",
   "execution_count": 13,
   "id": "2abce80b",
   "metadata": {},
   "outputs": [],
   "source": [
    "import pandas as pd\n",
    "from sklearn.model_selection import train_test_split\n",
    "from category_encoders import TargetEncoder\n",
    "\n",
    "# create target encoder\n",
    "encoder = TargetEncoder()\n",
    "\n",
    "# fit on train set and transform both train and test sets\n",
    "X_train = encoder.fit_transform(X_train, y_train)\n"
   ]
  },
  {
   "cell_type": "code",
   "execution_count": 14,
   "id": "823bb567",
   "metadata": {},
   "outputs": [],
   "source": [
    "test_ohe = pd.get_dummies(X_test[['LowDoc']])\n",
    "X_test = pd.concat([X_test,test_ohe], axis=1)\n",
    "X_test=X_test.drop(['LowDoc'],axis=1)\n",
    "X_test = encoder.transform(X_test)\n",
    "val_ohe = pd.get_dummies(X_val[['LowDoc']])\n",
    "X_val = pd.concat([X_val,val_ohe], axis=1)\n",
    "X_val=X_val.drop(['LowDoc'],axis=1)\n",
    "X_val = encoder.transform(X_val)"
   ]
  },
  {
   "cell_type": "code",
   "execution_count": 15,
   "id": "f3a82020",
   "metadata": {},
   "outputs": [],
   "source": [
    "te_columns = []\n",
    "orig_categorical_columns = [\"City\", \"State\", \"Bank\", \"BankState\", \"RevLineCr\"]\n",
    "for col in orig_categorical_columns:\n",
    "    X_train[col+\"_te\"] = X_train[col]\n",
    "    X_test[col+\"_te\"] = X_test[col]\n",
    "    X_val[col+\"_te\"] = X_val[col]\n",
    "    te_columns.append(col+\"_te\")"
   ]
  },
  {
   "cell_type": "code",
   "execution_count": 16,
   "id": "a9b76a38",
   "metadata": {},
   "outputs": [],
   "source": [
    "X_train=X_train.drop([\"City\",'State','Bank','BankState','RevLineCr'],axis=1)\n",
    "X_test=X_test.drop([\"City\",'State','Bank','BankState','RevLineCr'],axis=1)    \n",
    "X_val=X_val.drop([\"City\",'State','Bank','BankState','RevLineCr'],axis=1)"
   ]
  },
  {
   "cell_type": "code",
   "execution_count": 17,
   "id": "074f1663",
   "metadata": {},
   "outputs": [
    {
     "data": {
      "text/html": [
       "<div>\n",
       "<style scoped>\n",
       "    .dataframe tbody tr th:only-of-type {\n",
       "        vertical-align: middle;\n",
       "    }\n",
       "\n",
       "    .dataframe tbody tr th {\n",
       "        vertical-align: top;\n",
       "    }\n",
       "\n",
       "    .dataframe thead th {\n",
       "        text-align: right;\n",
       "    }\n",
       "</style>\n",
       "<table border=\"1\" class=\"dataframe\">\n",
       "  <thead>\n",
       "    <tr style=\"text-align: right;\">\n",
       "      <th></th>\n",
       "      <th>Zip</th>\n",
       "      <th>NAICS</th>\n",
       "      <th>NoEmp</th>\n",
       "      <th>NewExist</th>\n",
       "      <th>CreateJob</th>\n",
       "      <th>RetainedJob</th>\n",
       "      <th>FranchiseCode</th>\n",
       "      <th>UrbanRural</th>\n",
       "      <th>DisbursementGross</th>\n",
       "      <th>BalanceGross</th>\n",
       "      <th>...</th>\n",
       "      <th>LowDoc_C</th>\n",
       "      <th>LowDoc_N</th>\n",
       "      <th>LowDoc_R</th>\n",
       "      <th>LowDoc_S</th>\n",
       "      <th>LowDoc_Y</th>\n",
       "      <th>City_te</th>\n",
       "      <th>State_te</th>\n",
       "      <th>Bank_te</th>\n",
       "      <th>BankState_te</th>\n",
       "      <th>RevLineCr_te</th>\n",
       "    </tr>\n",
       "  </thead>\n",
       "  <tbody>\n",
       "    <tr>\n",
       "      <th>52431</th>\n",
       "      <td>57106</td>\n",
       "      <td>445310</td>\n",
       "      <td>5</td>\n",
       "      <td>1.0</td>\n",
       "      <td>0</td>\n",
       "      <td>0</td>\n",
       "      <td>1</td>\n",
       "      <td>0</td>\n",
       "      <td>46500.0</td>\n",
       "      <td>0.0</td>\n",
       "      <td>...</td>\n",
       "      <td>0</td>\n",
       "      <td>1</td>\n",
       "      <td>0</td>\n",
       "      <td>0</td>\n",
       "      <td>0</td>\n",
       "      <td>0.111111</td>\n",
       "      <td>0.083781</td>\n",
       "      <td>0.173050</td>\n",
       "      <td>0.157658</td>\n",
       "      <td>0.144873</td>\n",
       "    </tr>\n",
       "    <tr>\n",
       "      <th>645688</th>\n",
       "      <td>80126</td>\n",
       "      <td>0</td>\n",
       "      <td>12</td>\n",
       "      <td>1.0</td>\n",
       "      <td>0</td>\n",
       "      <td>0</td>\n",
       "      <td>77174</td>\n",
       "      <td>1</td>\n",
       "      <td>108000.0</td>\n",
       "      <td>0.0</td>\n",
       "      <td>...</td>\n",
       "      <td>0</td>\n",
       "      <td>1</td>\n",
       "      <td>0</td>\n",
       "      <td>0</td>\n",
       "      <td>0</td>\n",
       "      <td>0.269658</td>\n",
       "      <td>0.179177</td>\n",
       "      <td>0.165002</td>\n",
       "      <td>0.219103</td>\n",
       "      <td>0.144873</td>\n",
       "    </tr>\n",
       "    <tr>\n",
       "      <th>207920</th>\n",
       "      <td>98273</td>\n",
       "      <td>532230</td>\n",
       "      <td>3</td>\n",
       "      <td>1.0</td>\n",
       "      <td>0</td>\n",
       "      <td>0</td>\n",
       "      <td>1</td>\n",
       "      <td>0</td>\n",
       "      <td>70000.0</td>\n",
       "      <td>0.0</td>\n",
       "      <td>...</td>\n",
       "      <td>0</td>\n",
       "      <td>0</td>\n",
       "      <td>0</td>\n",
       "      <td>0</td>\n",
       "      <td>1</td>\n",
       "      <td>0.174419</td>\n",
       "      <td>0.143490</td>\n",
       "      <td>0.071664</td>\n",
       "      <td>0.076650</td>\n",
       "      <td>0.144873</td>\n",
       "    </tr>\n",
       "    <tr>\n",
       "      <th>758666</th>\n",
       "      <td>98036</td>\n",
       "      <td>511210</td>\n",
       "      <td>10</td>\n",
       "      <td>1.0</td>\n",
       "      <td>0</td>\n",
       "      <td>10</td>\n",
       "      <td>1</td>\n",
       "      <td>1</td>\n",
       "      <td>100000.0</td>\n",
       "      <td>0.0</td>\n",
       "      <td>...</td>\n",
       "      <td>0</td>\n",
       "      <td>1</td>\n",
       "      <td>0</td>\n",
       "      <td>0</td>\n",
       "      <td>0</td>\n",
       "      <td>0.209194</td>\n",
       "      <td>0.143490</td>\n",
       "      <td>0.412635</td>\n",
       "      <td>0.383535</td>\n",
       "      <td>0.144873</td>\n",
       "    </tr>\n",
       "    <tr>\n",
       "      <th>734445</th>\n",
       "      <td>1803</td>\n",
       "      <td>541310</td>\n",
       "      <td>1</td>\n",
       "      <td>1.0</td>\n",
       "      <td>0</td>\n",
       "      <td>1</td>\n",
       "      <td>1</td>\n",
       "      <td>1</td>\n",
       "      <td>58770.0</td>\n",
       "      <td>0.0</td>\n",
       "      <td>...</td>\n",
       "      <td>0</td>\n",
       "      <td>1</td>\n",
       "      <td>0</td>\n",
       "      <td>0</td>\n",
       "      <td>0</td>\n",
       "      <td>0.096257</td>\n",
       "      <td>0.129872</td>\n",
       "      <td>0.273317</td>\n",
       "      <td>0.204596</td>\n",
       "      <td>0.254863</td>\n",
       "    </tr>\n",
       "  </tbody>\n",
       "</table>\n",
       "<p>5 rows × 26 columns</p>\n",
       "</div>"
      ],
      "text/plain": [
       "          Zip   NAICS  NoEmp  NewExist  CreateJob  RetainedJob  FranchiseCode  \\\n",
       "52431   57106  445310      5       1.0          0            0              1   \n",
       "645688  80126       0     12       1.0          0            0          77174   \n",
       "207920  98273  532230      3       1.0          0            0              1   \n",
       "758666  98036  511210     10       1.0          0           10              1   \n",
       "734445   1803  541310      1       1.0          0            1              1   \n",
       "\n",
       "        UrbanRural  DisbursementGross  BalanceGross  ...  LowDoc_C  LowDoc_N  \\\n",
       "52431            0            46500.0           0.0  ...         0         1   \n",
       "645688           1           108000.0           0.0  ...         0         1   \n",
       "207920           0            70000.0           0.0  ...         0         0   \n",
       "758666           1           100000.0           0.0  ...         0         1   \n",
       "734445           1            58770.0           0.0  ...         0         1   \n",
       "\n",
       "        LowDoc_R  LowDoc_S  LowDoc_Y   City_te  State_te   Bank_te  \\\n",
       "52431          0         0         0  0.111111  0.083781  0.173050   \n",
       "645688         0         0         0  0.269658  0.179177  0.165002   \n",
       "207920         0         0         1  0.174419  0.143490  0.071664   \n",
       "758666         0         0         0  0.209194  0.143490  0.412635   \n",
       "734445         0         0         0  0.096257  0.129872  0.273317   \n",
       "\n",
       "        BankState_te  RevLineCr_te  \n",
       "52431       0.157658      0.144873  \n",
       "645688      0.219103      0.144873  \n",
       "207920      0.076650      0.144873  \n",
       "758666      0.383535      0.144873  \n",
       "734445      0.204596      0.254863  \n",
       "\n",
       "[5 rows x 26 columns]"
      ]
     },
     "execution_count": 17,
     "metadata": {},
     "output_type": "execute_result"
    }
   ],
   "source": [
    "X_train.head()"
   ]
  },
  {
   "cell_type": "code",
   "execution_count": 18,
   "id": "76627197",
   "metadata": {},
   "outputs": [],
   "source": [
    "def preprocess_data(df):\n",
    "    df[\"Employment_Growth\"] = (df[\"CreateJob\"] - df[\"RetainedJob\"])\n",
    "    df[\"Employment_Opportunity\"] = df[\"NoEmp\"] * df[\"NewExist\"]\n",
    "    df['AppvDisbursed'] = (df[\"DisbursementGross\"] == df[\"GrAppv\"]).astype(int)\n",
    "    df[\"Employees_more_than_10_and_GrAppv_100K\"] = ((df['NoEmp'] > 10) & (df[\"GrAppv\"] > 100000)).astype(int)\n",
    "    df['SBA_AppvPct'] = df['SBA_Appv'] / (df['GrAppv'] + 1)\n",
    "    df[\"NoEmp_per_CreateJob\"] = df[\"NoEmp\"] / (df[\"CreateJob\"] + 1)\n",
    "    df[\"DisbursementGross_per_Employee\"] = df[\"DisbursementGross\"] / (df[\"NoEmp\"] + 1)\n",
    "    df[\"DisbursementGross_per_CreateJob\"] = df[\"DisbursementGross\"] / (df[\"CreateJob\"] + 1)\n",
    "    df[\"DisbursementGross_BalanceGross_Ratio\"] = df[\"DisbursementGross\"] / (df[\"BalanceGross\"] + 1)\n",
    "    df[\"CreateJob_per_NoEmp\"] = df[\"CreateJob\"] / (df[\"NoEmp\"] + 1)\n",
    "    return df.drop(['Zip', 'FranchiseCode', 'NAICS', 'LoanInd'], axis=1)\n",
    "\n",
    "X_train = preprocess_data(X_train)\n",
    "X_test = preprocess_data(X_test)\n",
    "X_val = preprocess_data(X_val)\n"
   ]
  },
  {
   "cell_type": "code",
   "execution_count": 19,
   "id": "81135638",
   "metadata": {},
   "outputs": [
    {
     "data": {
      "text/html": [
       "<div>\n",
       "<style scoped>\n",
       "    .dataframe tbody tr th:only-of-type {\n",
       "        vertical-align: middle;\n",
       "    }\n",
       "\n",
       "    .dataframe tbody tr th {\n",
       "        vertical-align: top;\n",
       "    }\n",
       "\n",
       "    .dataframe thead th {\n",
       "        text-align: right;\n",
       "    }\n",
       "</style>\n",
       "<table border=\"1\" class=\"dataframe\">\n",
       "  <thead>\n",
       "    <tr style=\"text-align: right;\">\n",
       "      <th></th>\n",
       "      <th>NoEmp</th>\n",
       "      <th>NewExist</th>\n",
       "      <th>CreateJob</th>\n",
       "      <th>RetainedJob</th>\n",
       "      <th>UrbanRural</th>\n",
       "      <th>DisbursementGross</th>\n",
       "      <th>BalanceGross</th>\n",
       "      <th>GrAppv</th>\n",
       "      <th>SBA_Appv</th>\n",
       "      <th>LowDoc_0</th>\n",
       "      <th>...</th>\n",
       "      <th>Employment_Growth</th>\n",
       "      <th>Employment_Opportunity</th>\n",
       "      <th>AppvDisbursed</th>\n",
       "      <th>Employees_more_than_10_and_GrAppv_100K</th>\n",
       "      <th>SBA_AppvPct</th>\n",
       "      <th>NoEmp_per_CreateJob</th>\n",
       "      <th>DisbursementGross_per_Employee</th>\n",
       "      <th>DisbursementGross_per_CreateJob</th>\n",
       "      <th>DisbursementGross_BalanceGross_Ratio</th>\n",
       "      <th>CreateJob_per_NoEmp</th>\n",
       "    </tr>\n",
       "  </thead>\n",
       "  <tbody>\n",
       "    <tr>\n",
       "      <th>52431</th>\n",
       "      <td>5</td>\n",
       "      <td>1.0</td>\n",
       "      <td>0</td>\n",
       "      <td>0</td>\n",
       "      <td>0</td>\n",
       "      <td>46500.0</td>\n",
       "      <td>0.0</td>\n",
       "      <td>46500.0</td>\n",
       "      <td>41850.0</td>\n",
       "      <td>0</td>\n",
       "      <td>...</td>\n",
       "      <td>0</td>\n",
       "      <td>5.0</td>\n",
       "      <td>1</td>\n",
       "      <td>0</td>\n",
       "      <td>0.899981</td>\n",
       "      <td>5.0</td>\n",
       "      <td>7750.000000</td>\n",
       "      <td>46500.0</td>\n",
       "      <td>46500.0</td>\n",
       "      <td>0.0</td>\n",
       "    </tr>\n",
       "    <tr>\n",
       "      <th>645688</th>\n",
       "      <td>12</td>\n",
       "      <td>1.0</td>\n",
       "      <td>0</td>\n",
       "      <td>0</td>\n",
       "      <td>1</td>\n",
       "      <td>108000.0</td>\n",
       "      <td>0.0</td>\n",
       "      <td>108000.0</td>\n",
       "      <td>81000.0</td>\n",
       "      <td>0</td>\n",
       "      <td>...</td>\n",
       "      <td>0</td>\n",
       "      <td>12.0</td>\n",
       "      <td>1</td>\n",
       "      <td>1</td>\n",
       "      <td>0.749993</td>\n",
       "      <td>12.0</td>\n",
       "      <td>8307.692308</td>\n",
       "      <td>108000.0</td>\n",
       "      <td>108000.0</td>\n",
       "      <td>0.0</td>\n",
       "    </tr>\n",
       "    <tr>\n",
       "      <th>207920</th>\n",
       "      <td>3</td>\n",
       "      <td>1.0</td>\n",
       "      <td>0</td>\n",
       "      <td>0</td>\n",
       "      <td>0</td>\n",
       "      <td>70000.0</td>\n",
       "      <td>0.0</td>\n",
       "      <td>70000.0</td>\n",
       "      <td>63000.0</td>\n",
       "      <td>0</td>\n",
       "      <td>...</td>\n",
       "      <td>0</td>\n",
       "      <td>3.0</td>\n",
       "      <td>1</td>\n",
       "      <td>0</td>\n",
       "      <td>0.899987</td>\n",
       "      <td>3.0</td>\n",
       "      <td>17500.000000</td>\n",
       "      <td>70000.0</td>\n",
       "      <td>70000.0</td>\n",
       "      <td>0.0</td>\n",
       "    </tr>\n",
       "    <tr>\n",
       "      <th>758666</th>\n",
       "      <td>10</td>\n",
       "      <td>1.0</td>\n",
       "      <td>0</td>\n",
       "      <td>10</td>\n",
       "      <td>1</td>\n",
       "      <td>100000.0</td>\n",
       "      <td>0.0</td>\n",
       "      <td>100000.0</td>\n",
       "      <td>50000.0</td>\n",
       "      <td>0</td>\n",
       "      <td>...</td>\n",
       "      <td>-10</td>\n",
       "      <td>10.0</td>\n",
       "      <td>1</td>\n",
       "      <td>0</td>\n",
       "      <td>0.499995</td>\n",
       "      <td>10.0</td>\n",
       "      <td>9090.909091</td>\n",
       "      <td>100000.0</td>\n",
       "      <td>100000.0</td>\n",
       "      <td>0.0</td>\n",
       "    </tr>\n",
       "    <tr>\n",
       "      <th>734445</th>\n",
       "      <td>1</td>\n",
       "      <td>1.0</td>\n",
       "      <td>0</td>\n",
       "      <td>1</td>\n",
       "      <td>1</td>\n",
       "      <td>58770.0</td>\n",
       "      <td>0.0</td>\n",
       "      <td>25000.0</td>\n",
       "      <td>12500.0</td>\n",
       "      <td>0</td>\n",
       "      <td>...</td>\n",
       "      <td>-1</td>\n",
       "      <td>1.0</td>\n",
       "      <td>0</td>\n",
       "      <td>0</td>\n",
       "      <td>0.499980</td>\n",
       "      <td>1.0</td>\n",
       "      <td>29385.000000</td>\n",
       "      <td>58770.0</td>\n",
       "      <td>58770.0</td>\n",
       "      <td>0.0</td>\n",
       "    </tr>\n",
       "  </tbody>\n",
       "</table>\n",
       "<p>5 rows × 32 columns</p>\n",
       "</div>"
      ],
      "text/plain": [
       "        NoEmp  NewExist  CreateJob  RetainedJob  UrbanRural  \\\n",
       "52431       5       1.0          0            0           0   \n",
       "645688     12       1.0          0            0           1   \n",
       "207920      3       1.0          0            0           0   \n",
       "758666     10       1.0          0           10           1   \n",
       "734445      1       1.0          0            1           1   \n",
       "\n",
       "        DisbursementGross  BalanceGross    GrAppv  SBA_Appv  LowDoc_0  ...  \\\n",
       "52431             46500.0           0.0   46500.0   41850.0         0  ...   \n",
       "645688           108000.0           0.0  108000.0   81000.0         0  ...   \n",
       "207920            70000.0           0.0   70000.0   63000.0         0  ...   \n",
       "758666           100000.0           0.0  100000.0   50000.0         0  ...   \n",
       "734445            58770.0           0.0   25000.0   12500.0         0  ...   \n",
       "\n",
       "        Employment_Growth  Employment_Opportunity  AppvDisbursed  \\\n",
       "52431                   0                     5.0              1   \n",
       "645688                  0                    12.0              1   \n",
       "207920                  0                     3.0              1   \n",
       "758666                -10                    10.0              1   \n",
       "734445                 -1                     1.0              0   \n",
       "\n",
       "        Employees_more_than_10_and_GrAppv_100K  SBA_AppvPct  \\\n",
       "52431                                        0     0.899981   \n",
       "645688                                       1     0.749993   \n",
       "207920                                       0     0.899987   \n",
       "758666                                       0     0.499995   \n",
       "734445                                       0     0.499980   \n",
       "\n",
       "        NoEmp_per_CreateJob  DisbursementGross_per_Employee  \\\n",
       "52431                   5.0                     7750.000000   \n",
       "645688                 12.0                     8307.692308   \n",
       "207920                  3.0                    17500.000000   \n",
       "758666                 10.0                     9090.909091   \n",
       "734445                  1.0                    29385.000000   \n",
       "\n",
       "        DisbursementGross_per_CreateJob  DisbursementGross_BalanceGross_Ratio  \\\n",
       "52431                           46500.0                               46500.0   \n",
       "645688                         108000.0                              108000.0   \n",
       "207920                          70000.0                               70000.0   \n",
       "758666                         100000.0                              100000.0   \n",
       "734445                          58770.0                               58770.0   \n",
       "\n",
       "        CreateJob_per_NoEmp  \n",
       "52431                   0.0  \n",
       "645688                  0.0  \n",
       "207920                  0.0  \n",
       "758666                  0.0  \n",
       "734445                  0.0  \n",
       "\n",
       "[5 rows x 32 columns]"
      ]
     },
     "execution_count": 19,
     "metadata": {},
     "output_type": "execute_result"
    }
   ],
   "source": [
    "X_train.head()"
   ]
  },
  {
   "cell_type": "code",
   "execution_count": 20,
   "id": "8843e60b",
   "metadata": {},
   "outputs": [
    {
     "data": {
      "text/plain": [
       "Index(['NoEmp', 'NewExist', 'CreateJob', 'RetainedJob', 'UrbanRural',\n",
       "       'DisbursementGross', 'BalanceGross', 'GrAppv', 'SBA_Appv', 'LowDoc_0',\n",
       "       'LowDoc_1', 'LowDoc_A', 'LowDoc_C', 'LowDoc_N', 'LowDoc_R', 'LowDoc_S',\n",
       "       'LowDoc_Y', 'City_te', 'State_te', 'Bank_te', 'BankState_te',\n",
       "       'RevLineCr_te', 'Employment_Growth', 'Employment_Opportunity',\n",
       "       'AppvDisbursed', 'Employees_more_than_10_and_GrAppv_100K',\n",
       "       'SBA_AppvPct', 'NoEmp_per_CreateJob', 'DisbursementGross_per_Employee',\n",
       "       'DisbursementGross_per_CreateJob',\n",
       "       'DisbursementGross_BalanceGross_Ratio', 'CreateJob_per_NoEmp'],\n",
       "      dtype='object')"
      ]
     },
     "execution_count": 20,
     "metadata": {},
     "output_type": "execute_result"
    }
   ],
   "source": [
    "X_train.columns"
   ]
  },
  {
   "cell_type": "code",
   "execution_count": 21,
   "id": "2fd5fe53",
   "metadata": {},
   "outputs": [],
   "source": [
    "import numpy as np\n",
    "import optuna\n",
    "import lightgbm as lgb\n",
    "from sklearn.metrics import f1_score, accuracy_score\n",
    "from sklearn.model_selection import train_test_split"
   ]
  },
  {
   "cell_type": "code",
   "execution_count": 22,
   "id": "4ad85796",
   "metadata": {},
   "outputs": [],
   "source": [
    "def objective(trial):\n",
    "    params = {\n",
    "        'objective': 'binary',\n",
    "        'metric': 'binary_logloss',\n",
    "        'n_estimators': trial.suggest_int('n_estimators', 10, 300),\n",
    "        'learning_rate': trial.suggest_float('learning_rate', 0.001, 0.2),\n",
    "        'num_leaves': trial.suggest_int('num_leaves', 10, 50),\n",
    "        'min_child_samples': trial.suggest_int('min_child_samples', 5, 50),\n",
    "        'max_depth': trial.suggest_int('max_depth', -1, 10),\n",
    "        'colsample_bytree': trial.suggest_float('colsample_bytree', 0.6, 1.0),\n",
    "        'subsample': trial.suggest_float('subsample', 0.6, 1.0),\n",
    "        'reg_alpha': trial.suggest_float('reg_alpha', 0, 1.5),\n",
    "        'reg_lambda': trial.suggest_float('reg_lambda', 0, 1.5),\n",
    "    }\n",
    "    gbm = lgb.LGBMClassifier(**params)\n",
    "    gbm.fit(X_train, y_train, eval_set=[(X_val, y_val)], early_stopping_rounds=10, verbose=False)\n",
    "    y_pred_val = gbm.predict(X_val)\n",
    "    f1 = f1_score(y_val, y_pred_val)\n",
    "    return f1"
   ]
  },
  {
   "cell_type": "code",
   "execution_count": 23,
   "id": "a6d0e274",
   "metadata": {},
   "outputs": [
    {
     "name": "stderr",
     "output_type": "stream",
     "text": [
      "\u001b[32m[I 2023-05-07 18:11:00,878]\u001b[0m A new study created in memory with name: no-name-b597572e-af6b-46bb-9df0-01047d185984\u001b[0m\n",
      "C:\\Users\\haric\\anaconda3\\lib\\site-packages\\lightgbm\\sklearn.py:726: UserWarning: 'early_stopping_rounds' argument is deprecated and will be removed in a future release of LightGBM. Pass 'early_stopping()' callback via 'callbacks' argument instead.\n",
      "  _log_warning(\"'early_stopping_rounds' argument is deprecated and will be removed in a future release of LightGBM. \"\n",
      "C:\\Users\\haric\\anaconda3\\lib\\site-packages\\lightgbm\\sklearn.py:736: UserWarning: 'verbose' argument is deprecated and will be removed in a future release of LightGBM. Pass 'log_evaluation()' callback via 'callbacks' argument instead.\n",
      "  _log_warning(\"'verbose' argument is deprecated and will be removed in a future release of LightGBM. \"\n",
      "\u001b[32m[I 2023-05-07 18:11:02,376]\u001b[0m Trial 0 finished with value: 0.2677434030937216 and parameters: {'n_estimators': 118, 'learning_rate': 0.19019214697557332, 'num_leaves': 40, 'min_child_samples': 32, 'max_depth': 0, 'colsample_bytree': 0.662397808134481, 'subsample': 0.6232334448672797, 'reg_alpha': 1.2992642186624028, 'reg_lambda': 0.9016725176148133}. Best is trial 0 with value: 0.2677434030937216.\u001b[0m\n",
      "C:\\Users\\haric\\anaconda3\\lib\\site-packages\\lightgbm\\sklearn.py:726: UserWarning: 'early_stopping_rounds' argument is deprecated and will be removed in a future release of LightGBM. Pass 'early_stopping()' callback via 'callbacks' argument instead.\n",
      "  _log_warning(\"'early_stopping_rounds' argument is deprecated and will be removed in a future release of LightGBM. \"\n",
      "C:\\Users\\haric\\anaconda3\\lib\\site-packages\\lightgbm\\sklearn.py:736: UserWarning: 'verbose' argument is deprecated and will be removed in a future release of LightGBM. Pass 'log_evaluation()' callback via 'callbacks' argument instead.\n",
      "  _log_warning(\"'verbose' argument is deprecated and will be removed in a future release of LightGBM. \"\n",
      "\u001b[32m[I 2023-05-07 18:11:04,423]\u001b[0m Trial 1 finished with value: 0.0 and parameters: {'n_estimators': 216, 'learning_rate': 0.005096314364864687, 'num_leaves': 49, 'min_child_samples': 43, 'max_depth': 1, 'colsample_bytree': 0.6727299868828402, 'subsample': 0.6733618039413735, 'reg_alpha': 0.4563633644393066, 'reg_lambda': 0.7871346474483567}. Best is trial 0 with value: 0.2677434030937216.\u001b[0m\n",
      "C:\\Users\\haric\\anaconda3\\lib\\site-packages\\lightgbm\\sklearn.py:726: UserWarning: 'early_stopping_rounds' argument is deprecated and will be removed in a future release of LightGBM. Pass 'early_stopping()' callback via 'callbacks' argument instead.\n",
      "  _log_warning(\"'early_stopping_rounds' argument is deprecated and will be removed in a future release of LightGBM. \"\n",
      "C:\\Users\\haric\\anaconda3\\lib\\site-packages\\lightgbm\\sklearn.py:736: UserWarning: 'verbose' argument is deprecated and will be removed in a future release of LightGBM. Pass 'log_evaluation()' callback via 'callbacks' argument instead.\n",
      "  _log_warning(\"'verbose' argument is deprecated and will be removed in a future release of LightGBM. \"\n",
      "\u001b[32m[I 2023-05-07 18:11:06,179]\u001b[0m Trial 2 finished with value: 0.21011058451816747 and parameters: {'n_estimators': 135, 'learning_rate': 0.05895459889941034, 'num_leaves': 35, 'min_child_samples': 11, 'max_depth': 2, 'colsample_bytree': 0.7465447373174767, 'subsample': 0.7824279936868144, 'reg_alpha': 1.1777639420895203, 'reg_lambda': 0.2995106732375396}. Best is trial 0 with value: 0.2677434030937216.\u001b[0m\n",
      "C:\\Users\\haric\\anaconda3\\lib\\site-packages\\lightgbm\\sklearn.py:726: UserWarning: 'early_stopping_rounds' argument is deprecated and will be removed in a future release of LightGBM. Pass 'early_stopping()' callback via 'callbacks' argument instead.\n",
      "  _log_warning(\"'early_stopping_rounds' argument is deprecated and will be removed in a future release of LightGBM. \"\n",
      "C:\\Users\\haric\\anaconda3\\lib\\site-packages\\lightgbm\\sklearn.py:736: UserWarning: 'verbose' argument is deprecated and will be removed in a future release of LightGBM. Pass 'log_evaluation()' callback via 'callbacks' argument instead.\n",
      "  _log_warning(\"'verbose' argument is deprecated and will be removed in a future release of LightGBM. \"\n",
      "\u001b[32m[I 2023-05-07 18:11:08,135]\u001b[0m Trial 3 finished with value: 0.1929754380350428 and parameters: {'n_estimators': 159, 'learning_rate': 0.11889049920354645, 'num_leaves': 11, 'min_child_samples': 32, 'max_depth': 1, 'colsample_bytree': 0.6260206371941118, 'subsample': 0.9795542149013333, 'reg_alpha': 1.448448049611839, 'reg_lambda': 1.2125960221746916}. Best is trial 0 with value: 0.2677434030937216.\u001b[0m\n",
      "C:\\Users\\haric\\anaconda3\\lib\\site-packages\\lightgbm\\sklearn.py:726: UserWarning: 'early_stopping_rounds' argument is deprecated and will be removed in a future release of LightGBM. Pass 'early_stopping()' callback via 'callbacks' argument instead.\n",
      "  _log_warning(\"'early_stopping_rounds' argument is deprecated and will be removed in a future release of LightGBM. \"\n",
      "C:\\Users\\haric\\anaconda3\\lib\\site-packages\\lightgbm\\sklearn.py:736: UserWarning: 'verbose' argument is deprecated and will be removed in a future release of LightGBM. Pass 'log_evaluation()' callback via 'callbacks' argument instead.\n",
      "  _log_warning(\"'verbose' argument is deprecated and will be removed in a future release of LightGBM. \"\n",
      "\u001b[32m[I 2023-05-07 18:11:10,665]\u001b[0m Trial 4 finished with value: 0.21712647796488715 and parameters: {'n_estimators': 98, 'learning_rate': 0.020436750687270393, 'num_leaves': 38, 'min_child_samples': 25, 'max_depth': 0, 'colsample_bytree': 0.798070764044508, 'subsample': 0.6137554084460873, 'reg_alpha': 1.3639806031181732, 'reg_lambda': 0.3881699724000254}. Best is trial 0 with value: 0.2677434030937216.\u001b[0m\n",
      "C:\\Users\\haric\\anaconda3\\lib\\site-packages\\lightgbm\\sklearn.py:726: UserWarning: 'early_stopping_rounds' argument is deprecated and will be removed in a future release of LightGBM. Pass 'early_stopping()' callback via 'callbacks' argument instead.\n",
      "  _log_warning(\"'early_stopping_rounds' argument is deprecated and will be removed in a future release of LightGBM. \"\n",
      "C:\\Users\\haric\\anaconda3\\lib\\site-packages\\lightgbm\\sklearn.py:736: UserWarning: 'verbose' argument is deprecated and will be removed in a future release of LightGBM. Pass 'log_evaluation()' callback via 'callbacks' argument instead.\n",
      "  _log_warning(\"'verbose' argument is deprecated and will be removed in a future release of LightGBM. \"\n",
      "\u001b[32m[I 2023-05-07 18:11:12,640]\u001b[0m Trial 5 finished with value: 0.17176566314076486 and parameters: {'n_estimators': 202, 'learning_rate': 0.06303050414179279, 'num_leaves': 31, 'min_child_samples': 30, 'max_depth': 1, 'colsample_bytree': 0.9878338511058234, 'subsample': 0.9100531293444458, 'reg_alpha': 1.4092484123462836, 'reg_lambda': 1.3422410256414732}. Best is trial 0 with value: 0.2677434030937216.\u001b[0m\n",
      "C:\\Users\\haric\\anaconda3\\lib\\site-packages\\lightgbm\\sklearn.py:726: UserWarning: 'early_stopping_rounds' argument is deprecated and will be removed in a future release of LightGBM. Pass 'early_stopping()' callback via 'callbacks' argument instead.\n",
      "  _log_warning(\"'early_stopping_rounds' argument is deprecated and will be removed in a future release of LightGBM. \"\n",
      "C:\\Users\\haric\\anaconda3\\lib\\site-packages\\lightgbm\\sklearn.py:736: UserWarning: 'verbose' argument is deprecated and will be removed in a future release of LightGBM. Pass 'log_evaluation()' callback via 'callbacks' argument instead.\n",
      "  _log_warning(\"'verbose' argument is deprecated and will be removed in a future release of LightGBM. \"\n",
      "\u001b[32m[I 2023-05-07 18:11:14,008]\u001b[0m Trial 6 finished with value: 0.2762368815592204 and parameters: {'n_estimators': 183, 'learning_rate': 0.18445297276960027, 'num_leaves': 13, 'min_child_samples': 14, 'max_depth': -1, 'colsample_bytree': 0.7301321323053057, 'subsample': 0.7554709158757928, 'reg_alpha': 0.40702354766084387, 'reg_lambda': 1.243106263727894}. Best is trial 6 with value: 0.2762368815592204.\u001b[0m\n",
      "C:\\Users\\haric\\anaconda3\\lib\\site-packages\\lightgbm\\sklearn.py:726: UserWarning: 'early_stopping_rounds' argument is deprecated and will be removed in a future release of LightGBM. Pass 'early_stopping()' callback via 'callbacks' argument instead.\n",
      "  _log_warning(\"'early_stopping_rounds' argument is deprecated and will be removed in a future release of LightGBM. \"\n",
      "C:\\Users\\haric\\anaconda3\\lib\\site-packages\\lightgbm\\sklearn.py:736: UserWarning: 'verbose' argument is deprecated and will be removed in a future release of LightGBM. Pass 'log_evaluation()' callback via 'callbacks' argument instead.\n",
      "  _log_warning(\"'verbose' argument is deprecated and will be removed in a future release of LightGBM. \"\n",
      "\u001b[32m[I 2023-05-07 18:11:16,081]\u001b[0m Trial 7 finished with value: 0.2522798681891332 and parameters: {'n_estimators': 113, 'learning_rate': 0.05690596742778878, 'num_leaves': 32, 'min_child_samples': 11, 'max_depth': 8, 'colsample_bytree': 0.6298202574719083, 'subsample': 0.9947547746402069, 'reg_alpha': 1.1583671539449862, 'reg_lambda': 0.2980735223012586}. Best is trial 6 with value: 0.2762368815592204.\u001b[0m\n",
      "C:\\Users\\haric\\anaconda3\\lib\\site-packages\\lightgbm\\sklearn.py:726: UserWarning: 'early_stopping_rounds' argument is deprecated and will be removed in a future release of LightGBM. Pass 'early_stopping()' callback via 'callbacks' argument instead.\n",
      "  _log_warning(\"'early_stopping_rounds' argument is deprecated and will be removed in a future release of LightGBM. \"\n",
      "C:\\Users\\haric\\anaconda3\\lib\\site-packages\\lightgbm\\sklearn.py:736: UserWarning: 'verbose' argument is deprecated and will be removed in a future release of LightGBM. Pass 'log_evaluation()' callback via 'callbacks' argument instead.\n",
      "  _log_warning(\"'verbose' argument is deprecated and will be removed in a future release of LightGBM. \"\n",
      "\u001b[32m[I 2023-05-07 18:11:16,985]\u001b[0m Trial 8 finished with value: 0.1914068809562268 and parameters: {'n_estimators': 11, 'learning_rate': 0.163276824262512, 'num_leaves': 38, 'min_child_samples': 38, 'max_depth': 8, 'colsample_bytree': 0.6296178606936361, 'subsample': 0.7433862914177091, 'reg_alpha': 0.17380358928769457, 'reg_lambda': 1.2946551388133902}. Best is trial 6 with value: 0.2762368815592204.\u001b[0m\n",
      "C:\\Users\\haric\\anaconda3\\lib\\site-packages\\lightgbm\\sklearn.py:726: UserWarning: 'early_stopping_rounds' argument is deprecated and will be removed in a future release of LightGBM. Pass 'early_stopping()' callback via 'callbacks' argument instead.\n",
      "  _log_warning(\"'early_stopping_rounds' argument is deprecated and will be removed in a future release of LightGBM. \"\n",
      "C:\\Users\\haric\\anaconda3\\lib\\site-packages\\lightgbm\\sklearn.py:736: UserWarning: 'verbose' argument is deprecated and will be removed in a future release of LightGBM. Pass 'log_evaluation()' callback via 'callbacks' argument instead.\n",
      "  _log_warning(\"'verbose' argument is deprecated and will be removed in a future release of LightGBM. \"\n",
      "\u001b[32m[I 2023-05-07 18:11:19,081]\u001b[0m Trial 9 finished with value: 0.26676568882287416 and parameters: {'n_estimators': 191, 'learning_rate': 0.0668487069456772, 'num_leaves': 12, 'min_child_samples': 19, 'max_depth': 2, 'colsample_bytree': 0.8918424713352255, 'subsample': 0.8550229885420852, 'reg_alpha': 1.3308191138644898, 'reg_lambda': 0.7083223877429239}. Best is trial 6 with value: 0.2762368815592204.\u001b[0m\n",
      "C:\\Users\\haric\\anaconda3\\lib\\site-packages\\lightgbm\\sklearn.py:726: UserWarning: 'early_stopping_rounds' argument is deprecated and will be removed in a future release of LightGBM. Pass 'early_stopping()' callback via 'callbacks' argument instead.\n",
      "  _log_warning(\"'early_stopping_rounds' argument is deprecated and will be removed in a future release of LightGBM. \"\n",
      "C:\\Users\\haric\\anaconda3\\lib\\site-packages\\lightgbm\\sklearn.py:736: UserWarning: 'verbose' argument is deprecated and will be removed in a future release of LightGBM. Pass 'log_evaluation()' callback via 'callbacks' argument instead.\n",
      "  _log_warning(\"'verbose' argument is deprecated and will be removed in a future release of LightGBM. \"\n",
      "\u001b[32m[I 2023-05-07 18:11:20,236]\u001b[0m Trial 10 finished with value: 0.23081438578640473 and parameters: {'n_estimators': 44, 'learning_rate': 0.142935712657376, 'num_leaves': 41, 'min_child_samples': 30, 'max_depth': 8, 'colsample_bytree': 0.7975182385457563, 'subsample': 0.8090931317527976, 'reg_alpha': 0.6413115275378245, 'reg_lambda': 0.03812869011614278}. Best is trial 6 with value: 0.2762368815592204.\u001b[0m\n",
      "C:\\Users\\haric\\anaconda3\\lib\\site-packages\\lightgbm\\sklearn.py:726: UserWarning: 'early_stopping_rounds' argument is deprecated and will be removed in a future release of LightGBM. Pass 'early_stopping()' callback via 'callbacks' argument instead.\n",
      "  _log_warning(\"'early_stopping_rounds' argument is deprecated and will be removed in a future release of LightGBM. \"\n",
      "C:\\Users\\haric\\anaconda3\\lib\\site-packages\\lightgbm\\sklearn.py:736: UserWarning: 'verbose' argument is deprecated and will be removed in a future release of LightGBM. Pass 'log_evaluation()' callback via 'callbacks' argument instead.\n",
      "  _log_warning(\"'verbose' argument is deprecated and will be removed in a future release of LightGBM. \"\n",
      "\u001b[32m[I 2023-05-07 18:11:21,564]\u001b[0m Trial 11 finished with value: 0.0 and parameters: {'n_estimators': 41, 'learning_rate': 0.007254407951660116, 'num_leaves': 36, 'min_child_samples': 19, 'max_depth': 5, 'colsample_bytree': 0.9630265895704372, 'subsample': 0.69971689165955, 'reg_alpha': 0.6155743845534446, 'reg_lambda': 1.133326707814573}. Best is trial 6 with value: 0.2762368815592204.\u001b[0m\n",
      "C:\\Users\\haric\\anaconda3\\lib\\site-packages\\lightgbm\\sklearn.py:726: UserWarning: 'early_stopping_rounds' argument is deprecated and will be removed in a future release of LightGBM. Pass 'early_stopping()' callback via 'callbacks' argument instead.\n",
      "  _log_warning(\"'early_stopping_rounds' argument is deprecated and will be removed in a future release of LightGBM. \"\n",
      "C:\\Users\\haric\\anaconda3\\lib\\site-packages\\lightgbm\\sklearn.py:736: UserWarning: 'verbose' argument is deprecated and will be removed in a future release of LightGBM. Pass 'log_evaluation()' callback via 'callbacks' argument instead.\n",
      "  _log_warning(\"'verbose' argument is deprecated and will be removed in a future release of LightGBM. \"\n",
      "\u001b[32m[I 2023-05-07 18:11:23,397]\u001b[0m Trial 12 finished with value: 0.05960833974040071 and parameters: {'n_estimators': 76, 'learning_rate': 0.016319002055929805, 'num_leaves': 21, 'min_child_samples': 12, 'max_depth': 10, 'colsample_bytree': 0.9232481518257668, 'subsample': 0.8533615026041694, 'reg_alpha': 1.3071908852815766, 'reg_lambda': 1.2055081153486717}. Best is trial 6 with value: 0.2762368815592204.\u001b[0m\n",
      "C:\\Users\\haric\\anaconda3\\lib\\site-packages\\lightgbm\\sklearn.py:726: UserWarning: 'early_stopping_rounds' argument is deprecated and will be removed in a future release of LightGBM. Pass 'early_stopping()' callback via 'callbacks' argument instead.\n",
      "  _log_warning(\"'early_stopping_rounds' argument is deprecated and will be removed in a future release of LightGBM. \"\n",
      "C:\\Users\\haric\\anaconda3\\lib\\site-packages\\lightgbm\\sklearn.py:736: UserWarning: 'verbose' argument is deprecated and will be removed in a future release of LightGBM. Pass 'log_evaluation()' callback via 'callbacks' argument instead.\n",
      "  _log_warning(\"'verbose' argument is deprecated and will be removed in a future release of LightGBM. \"\n",
      "\u001b[32m[I 2023-05-07 18:11:24,623]\u001b[0m Trial 13 finished with value: 0.24164286265729942 and parameters: {'n_estimators': 64, 'learning_rate': 0.17861924069950558, 'num_leaves': 32, 'min_child_samples': 42, 'max_depth': 9, 'colsample_bytree': 0.7272013899887455, 'subsample': 0.6440207698110707, 'reg_alpha': 0.3419027438129125, 'reg_lambda': 0.6406616829393845}. Best is trial 6 with value: 0.2762368815592204.\u001b[0m\n",
      "C:\\Users\\haric\\anaconda3\\lib\\site-packages\\lightgbm\\sklearn.py:726: UserWarning: 'early_stopping_rounds' argument is deprecated and will be removed in a future release of LightGBM. Pass 'early_stopping()' callback via 'callbacks' argument instead.\n",
      "  _log_warning(\"'early_stopping_rounds' argument is deprecated and will be removed in a future release of LightGBM. \"\n",
      "C:\\Users\\haric\\anaconda3\\lib\\site-packages\\lightgbm\\sklearn.py:736: UserWarning: 'verbose' argument is deprecated and will be removed in a future release of LightGBM. Pass 'log_evaluation()' callback via 'callbacks' argument instead.\n",
      "  _log_warning(\"'verbose' argument is deprecated and will be removed in a future release of LightGBM. \"\n",
      "\u001b[32m[I 2023-05-07 18:11:25,818]\u001b[0m Trial 14 finished with value: 0.26985016627433395 and parameters: {'n_estimators': 248, 'learning_rate': 0.17228538606801236, 'num_leaves': 10, 'min_child_samples': 28, 'max_depth': 4, 'colsample_bytree': 0.6888431241882921, 'subsample': 0.6479461469334731, 'reg_alpha': 0.5064227571054419, 'reg_lambda': 1.4143645558687787}. Best is trial 6 with value: 0.2762368815592204.\u001b[0m\n",
      "C:\\Users\\haric\\anaconda3\\lib\\site-packages\\lightgbm\\sklearn.py:726: UserWarning: 'early_stopping_rounds' argument is deprecated and will be removed in a future release of LightGBM. Pass 'early_stopping()' callback via 'callbacks' argument instead.\n",
      "  _log_warning(\"'early_stopping_rounds' argument is deprecated and will be removed in a future release of LightGBM. \"\n",
      "C:\\Users\\haric\\anaconda3\\lib\\site-packages\\lightgbm\\sklearn.py:736: UserWarning: 'verbose' argument is deprecated and will be removed in a future release of LightGBM. Pass 'log_evaluation()' callback via 'callbacks' argument instead.\n",
      "  _log_warning(\"'verbose' argument is deprecated and will be removed in a future release of LightGBM. \"\n",
      "\u001b[32m[I 2023-05-07 18:11:27,247]\u001b[0m Trial 15 finished with value: 0.24371849628689063 and parameters: {'n_estimators': 104, 'learning_rate': 0.10423933372692985, 'num_leaves': 38, 'min_child_samples': 21, 'max_depth': 10, 'colsample_bytree': 0.9849789179768444, 'subsample': 0.7007129183301457, 'reg_alpha': 0.7458727588385782, 'reg_lambda': 0.4513174647251545}. Best is trial 6 with value: 0.2762368815592204.\u001b[0m\n",
      "C:\\Users\\haric\\anaconda3\\lib\\site-packages\\lightgbm\\sklearn.py:726: UserWarning: 'early_stopping_rounds' argument is deprecated and will be removed in a future release of LightGBM. Pass 'early_stopping()' callback via 'callbacks' argument instead.\n",
      "  _log_warning(\"'early_stopping_rounds' argument is deprecated and will be removed in a future release of LightGBM. \"\n",
      "C:\\Users\\haric\\anaconda3\\lib\\site-packages\\lightgbm\\sklearn.py:736: UserWarning: 'verbose' argument is deprecated and will be removed in a future release of LightGBM. Pass 'log_evaluation()' callback via 'callbacks' argument instead.\n",
      "  _log_warning(\"'verbose' argument is deprecated and will be removed in a future release of LightGBM. \"\n",
      "\u001b[32m[I 2023-05-07 18:11:29,455]\u001b[0m Trial 16 finished with value: 0.0 and parameters: {'n_estimators': 92, 'learning_rate': 0.008340502523552028, 'num_leaves': 34, 'min_child_samples': 28, 'max_depth': -1, 'colsample_bytree': 0.7114585856946446, 'subsample': 0.9633063543866615, 'reg_alpha': 0.35934283600045863, 'reg_lambda': 0.21734230813683464}. Best is trial 6 with value: 0.2762368815592204.\u001b[0m\n",
      "C:\\Users\\haric\\anaconda3\\lib\\site-packages\\lightgbm\\sklearn.py:726: UserWarning: 'early_stopping_rounds' argument is deprecated and will be removed in a future release of LightGBM. Pass 'early_stopping()' callback via 'callbacks' argument instead.\n",
      "  _log_warning(\"'early_stopping_rounds' argument is deprecated and will be removed in a future release of LightGBM. \"\n",
      "C:\\Users\\haric\\anaconda3\\lib\\site-packages\\lightgbm\\sklearn.py:736: UserWarning: 'verbose' argument is deprecated and will be removed in a future release of LightGBM. Pass 'log_evaluation()' callback via 'callbacks' argument instead.\n",
      "  _log_warning(\"'verbose' argument is deprecated and will be removed in a future release of LightGBM. \"\n",
      "\u001b[32m[I 2023-05-07 18:11:30,623]\u001b[0m Trial 17 finished with value: 0.2641139669857541 and parameters: {'n_estimators': 152, 'learning_rate': 0.19714444036800954, 'num_leaves': 19, 'min_child_samples': 35, 'max_depth': 8, 'colsample_bytree': 0.6950550175969599, 'subsample': 0.8912865394447438, 'reg_alpha': 0.5516746990788799, 'reg_lambda': 0.9484587458903693}. Best is trial 6 with value: 0.2762368815592204.\u001b[0m\n",
      "C:\\Users\\haric\\anaconda3\\lib\\site-packages\\lightgbm\\sklearn.py:726: UserWarning: 'early_stopping_rounds' argument is deprecated and will be removed in a future release of LightGBM. Pass 'early_stopping()' callback via 'callbacks' argument instead.\n",
      "  _log_warning(\"'early_stopping_rounds' argument is deprecated and will be removed in a future release of LightGBM. \"\n",
      "C:\\Users\\haric\\anaconda3\\lib\\site-packages\\lightgbm\\sklearn.py:736: UserWarning: 'verbose' argument is deprecated and will be removed in a future release of LightGBM. Pass 'log_evaluation()' callback via 'callbacks' argument instead.\n",
      "  _log_warning(\"'verbose' argument is deprecated and will be removed in a future release of LightGBM. \"\n",
      "\u001b[32m[I 2023-05-07 18:11:32,819]\u001b[0m Trial 18 finished with value: 0.2694312090530077 and parameters: {'n_estimators': 194, 'learning_rate': 0.10761916213087694, 'num_leaves': 13, 'min_child_samples': 43, 'max_depth': 2, 'colsample_bytree': 0.6746074041599417, 'subsample': 0.6163100566219055, 'reg_alpha': 0.8863394147823627, 'reg_lambda': 1.0163465427634235}. Best is trial 6 with value: 0.2762368815592204.\u001b[0m\n",
      "C:\\Users\\haric\\anaconda3\\lib\\site-packages\\lightgbm\\sklearn.py:726: UserWarning: 'early_stopping_rounds' argument is deprecated and will be removed in a future release of LightGBM. Pass 'early_stopping()' callback via 'callbacks' argument instead.\n",
      "  _log_warning(\"'early_stopping_rounds' argument is deprecated and will be removed in a future release of LightGBM. \"\n",
      "C:\\Users\\haric\\anaconda3\\lib\\site-packages\\lightgbm\\sklearn.py:736: UserWarning: 'verbose' argument is deprecated and will be removed in a future release of LightGBM. Pass 'log_evaluation()' callback via 'callbacks' argument instead.\n",
      "  _log_warning(\"'verbose' argument is deprecated and will be removed in a future release of LightGBM. \"\n",
      "\u001b[32m[I 2023-05-07 18:11:33,636]\u001b[0m Trial 19 finished with value: 0.0 and parameters: {'n_estimators': 14, 'learning_rate': 0.10290651860155692, 'num_leaves': 19, 'min_child_samples': 34, 'max_depth': 1, 'colsample_bytree': 0.8763750952409863, 'subsample': 0.7546941385202149, 'reg_alpha': 1.4050949831051018, 'reg_lambda': 0.20628141621898988}. Best is trial 6 with value: 0.2762368815592204.\u001b[0m\n",
      "C:\\Users\\haric\\anaconda3\\lib\\site-packages\\lightgbm\\sklearn.py:726: UserWarning: 'early_stopping_rounds' argument is deprecated and will be removed in a future release of LightGBM. Pass 'early_stopping()' callback via 'callbacks' argument instead.\n",
      "  _log_warning(\"'early_stopping_rounds' argument is deprecated and will be removed in a future release of LightGBM. \"\n",
      "C:\\Users\\haric\\anaconda3\\lib\\site-packages\\lightgbm\\sklearn.py:736: UserWarning: 'verbose' argument is deprecated and will be removed in a future release of LightGBM. Pass 'log_evaluation()' callback via 'callbacks' argument instead.\n",
      "  _log_warning(\"'verbose' argument is deprecated and will be removed in a future release of LightGBM. \"\n",
      "\u001b[32m[I 2023-05-07 18:11:34,982]\u001b[0m Trial 20 finished with value: 0.06125850186928517 and parameters: {'n_estimators': 109, 'learning_rate': 0.023581230726877227, 'num_leaves': 47, 'min_child_samples': 45, 'max_depth': 2, 'colsample_bytree': 0.8639936184136716, 'subsample': 0.9268888800804863, 'reg_alpha': 0.8328012173991934, 'reg_lambda': 0.7944758675340098}. Best is trial 6 with value: 0.2762368815592204.\u001b[0m\n",
      "C:\\Users\\haric\\anaconda3\\lib\\site-packages\\lightgbm\\sklearn.py:726: UserWarning: 'early_stopping_rounds' argument is deprecated and will be removed in a future release of LightGBM. Pass 'early_stopping()' callback via 'callbacks' argument instead.\n",
      "  _log_warning(\"'early_stopping_rounds' argument is deprecated and will be removed in a future release of LightGBM. \"\n",
      "C:\\Users\\haric\\anaconda3\\lib\\site-packages\\lightgbm\\sklearn.py:736: UserWarning: 'verbose' argument is deprecated and will be removed in a future release of LightGBM. Pass 'log_evaluation()' callback via 'callbacks' argument instead.\n",
      "  _log_warning(\"'verbose' argument is deprecated and will be removed in a future release of LightGBM. \"\n",
      "\u001b[32m[I 2023-05-07 18:11:36,920]\u001b[0m Trial 21 finished with value: 0.13161057692307693 and parameters: {'n_estimators': 80, 'learning_rate': 0.019527450793373945, 'num_leaves': 46, 'min_child_samples': 46, 'max_depth': 6, 'colsample_bytree': 0.7356119164194803, 'subsample': 0.7396838298450643, 'reg_alpha': 1.088933518305359, 'reg_lambda': 1.3456653899288655}. Best is trial 6 with value: 0.2762368815592204.\u001b[0m\n",
      "C:\\Users\\haric\\anaconda3\\lib\\site-packages\\lightgbm\\sklearn.py:726: UserWarning: 'early_stopping_rounds' argument is deprecated and will be removed in a future release of LightGBM. Pass 'early_stopping()' callback via 'callbacks' argument instead.\n",
      "  _log_warning(\"'early_stopping_rounds' argument is deprecated and will be removed in a future release of LightGBM. \"\n",
      "C:\\Users\\haric\\anaconda3\\lib\\site-packages\\lightgbm\\sklearn.py:736: UserWarning: 'verbose' argument is deprecated and will be removed in a future release of LightGBM. Pass 'log_evaluation()' callback via 'callbacks' argument instead.\n",
      "  _log_warning(\"'verbose' argument is deprecated and will be removed in a future release of LightGBM. \"\n",
      "\u001b[32m[I 2023-05-07 18:11:38,390]\u001b[0m Trial 22 finished with value: 0.2512339774249091 and parameters: {'n_estimators': 268, 'learning_rate': 0.15619523362566715, 'num_leaves': 36, 'min_child_samples': 8, 'max_depth': 0, 'colsample_bytree': 0.9594216754108317, 'subsample': 0.842571623863836, 'reg_alpha': 0.013795577424944472, 'reg_lambda': 0.15220731429904816}. Best is trial 6 with value: 0.2762368815592204.\u001b[0m\n",
      "C:\\Users\\haric\\anaconda3\\lib\\site-packages\\lightgbm\\sklearn.py:726: UserWarning: 'early_stopping_rounds' argument is deprecated and will be removed in a future release of LightGBM. Pass 'early_stopping()' callback via 'callbacks' argument instead.\n",
      "  _log_warning(\"'early_stopping_rounds' argument is deprecated and will be removed in a future release of LightGBM. \"\n",
      "C:\\Users\\haric\\anaconda3\\lib\\site-packages\\lightgbm\\sklearn.py:736: UserWarning: 'verbose' argument is deprecated and will be removed in a future release of LightGBM. Pass 'log_evaluation()' callback via 'callbacks' argument instead.\n",
      "  _log_warning(\"'verbose' argument is deprecated and will be removed in a future release of LightGBM. \"\n",
      "\u001b[32m[I 2023-05-07 18:11:41,694]\u001b[0m Trial 23 finished with value: 0.0 and parameters: {'n_estimators': 203, 'learning_rate': 0.002007255185397519, 'num_leaves': 16, 'min_child_samples': 30, 'max_depth': 7, 'colsample_bytree': 0.8607845038010402, 'subsample': 0.689707723784224, 'reg_alpha': 1.0682688320213038, 'reg_lambda': 0.3558736312452001}. Best is trial 6 with value: 0.2762368815592204.\u001b[0m\n",
      "C:\\Users\\haric\\anaconda3\\lib\\site-packages\\lightgbm\\sklearn.py:726: UserWarning: 'early_stopping_rounds' argument is deprecated and will be removed in a future release of LightGBM. Pass 'early_stopping()' callback via 'callbacks' argument instead.\n",
      "  _log_warning(\"'early_stopping_rounds' argument is deprecated and will be removed in a future release of LightGBM. \"\n",
      "C:\\Users\\haric\\anaconda3\\lib\\site-packages\\lightgbm\\sklearn.py:736: UserWarning: 'verbose' argument is deprecated and will be removed in a future release of LightGBM. Pass 'log_evaluation()' callback via 'callbacks' argument instead.\n",
      "  _log_warning(\"'verbose' argument is deprecated and will be removed in a future release of LightGBM. \"\n",
      "\u001b[32m[I 2023-05-07 18:11:43,179]\u001b[0m Trial 24 finished with value: 0.25 and parameters: {'n_estimators': 104, 'learning_rate': 0.1495517896184868, 'num_leaves': 36, 'min_child_samples': 44, 'max_depth': 6, 'colsample_bytree': 0.8273234413341887, 'subsample': 0.637469907131237, 'reg_alpha': 0.5515737045891502, 'reg_lambda': 0.3978035515225882}. Best is trial 6 with value: 0.2762368815592204.\u001b[0m\n",
      "C:\\Users\\haric\\anaconda3\\lib\\site-packages\\lightgbm\\sklearn.py:726: UserWarning: 'early_stopping_rounds' argument is deprecated and will be removed in a future release of LightGBM. Pass 'early_stopping()' callback via 'callbacks' argument instead.\n",
      "  _log_warning(\"'early_stopping_rounds' argument is deprecated and will be removed in a future release of LightGBM. \"\n",
      "C:\\Users\\haric\\anaconda3\\lib\\site-packages\\lightgbm\\sklearn.py:736: UserWarning: 'verbose' argument is deprecated and will be removed in a future release of LightGBM. Pass 'log_evaluation()' callback via 'callbacks' argument instead.\n",
      "  _log_warning(\"'verbose' argument is deprecated and will be removed in a future release of LightGBM. \"\n",
      "\u001b[32m[I 2023-05-07 18:11:44,487]\u001b[0m Trial 25 finished with value: 0.2966249636310736 and parameters: {'n_estimators': 81, 'learning_rate': 0.1946291003957367, 'num_leaves': 26, 'min_child_samples': 46, 'max_depth': 6, 'colsample_bytree': 0.9179245214166594, 'subsample': 0.8010548372420768, 'reg_alpha': 0.8653558269395387, 'reg_lambda': 0.7387765407282958}. Best is trial 25 with value: 0.2966249636310736.\u001b[0m\n",
      "C:\\Users\\haric\\anaconda3\\lib\\site-packages\\lightgbm\\sklearn.py:726: UserWarning: 'early_stopping_rounds' argument is deprecated and will be removed in a future release of LightGBM. Pass 'early_stopping()' callback via 'callbacks' argument instead.\n",
      "  _log_warning(\"'early_stopping_rounds' argument is deprecated and will be removed in a future release of LightGBM. \"\n",
      "C:\\Users\\haric\\anaconda3\\lib\\site-packages\\lightgbm\\sklearn.py:736: UserWarning: 'verbose' argument is deprecated and will be removed in a future release of LightGBM. Pass 'log_evaluation()' callback via 'callbacks' argument instead.\n",
      "  _log_warning(\"'verbose' argument is deprecated and will be removed in a future release of LightGBM. \"\n",
      "\u001b[32m[I 2023-05-07 18:11:45,855]\u001b[0m Trial 26 finished with value: 0.2674283137284377 and parameters: {'n_estimators': 66, 'learning_rate': 0.14476797093703958, 'num_leaves': 21, 'min_child_samples': 6, 'max_depth': 6, 'colsample_bytree': 0.6708442717628196, 'subsample': 0.9761834337411657, 'reg_alpha': 1.430892865503881, 'reg_lambda': 1.3722965853306728}. Best is trial 25 with value: 0.2966249636310736.\u001b[0m\n",
      "C:\\Users\\haric\\anaconda3\\lib\\site-packages\\lightgbm\\sklearn.py:726: UserWarning: 'early_stopping_rounds' argument is deprecated and will be removed in a future release of LightGBM. Pass 'early_stopping()' callback via 'callbacks' argument instead.\n",
      "  _log_warning(\"'early_stopping_rounds' argument is deprecated and will be removed in a future release of LightGBM. \"\n",
      "C:\\Users\\haric\\anaconda3\\lib\\site-packages\\lightgbm\\sklearn.py:736: UserWarning: 'verbose' argument is deprecated and will be removed in a future release of LightGBM. Pass 'log_evaluation()' callback via 'callbacks' argument instead.\n",
      "  _log_warning(\"'verbose' argument is deprecated and will be removed in a future release of LightGBM. \"\n",
      "\u001b[32m[I 2023-05-07 18:11:48,342]\u001b[0m Trial 27 finished with value: 0.0 and parameters: {'n_estimators': 117, 'learning_rate': 0.004075866689244619, 'num_leaves': 48, 'min_child_samples': 24, 'max_depth': 10, 'colsample_bytree': 0.9854479908357011, 'subsample': 0.941203782186944, 'reg_alpha': 0.44167333810437853, 'reg_lambda': 0.5776465929028879}. Best is trial 25 with value: 0.2966249636310736.\u001b[0m\n",
      "C:\\Users\\haric\\anaconda3\\lib\\site-packages\\lightgbm\\sklearn.py:726: UserWarning: 'early_stopping_rounds' argument is deprecated and will be removed in a future release of LightGBM. Pass 'early_stopping()' callback via 'callbacks' argument instead.\n",
      "  _log_warning(\"'early_stopping_rounds' argument is deprecated and will be removed in a future release of LightGBM. \"\n",
      "C:\\Users\\haric\\anaconda3\\lib\\site-packages\\lightgbm\\sklearn.py:736: UserWarning: 'verbose' argument is deprecated and will be removed in a future release of LightGBM. Pass 'log_evaluation()' callback via 'callbacks' argument instead.\n",
      "  _log_warning(\"'verbose' argument is deprecated and will be removed in a future release of LightGBM. \"\n",
      "\u001b[32m[I 2023-05-07 18:11:50,316]\u001b[0m Trial 28 finished with value: 0.25874818937256994 and parameters: {'n_estimators': 257, 'learning_rate': 0.06406747902609926, 'num_leaves': 16, 'min_child_samples': 30, 'max_depth': 10, 'colsample_bytree': 0.8784119186699892, 'subsample': 0.828024468035746, 'reg_alpha': 0.1457647406561528, 'reg_lambda': 0.9225108400487546}. Best is trial 25 with value: 0.2966249636310736.\u001b[0m\n",
      "C:\\Users\\haric\\anaconda3\\lib\\site-packages\\lightgbm\\sklearn.py:726: UserWarning: 'early_stopping_rounds' argument is deprecated and will be removed in a future release of LightGBM. Pass 'early_stopping()' callback via 'callbacks' argument instead.\n",
      "  _log_warning(\"'early_stopping_rounds' argument is deprecated and will be removed in a future release of LightGBM. \"\n",
      "C:\\Users\\haric\\anaconda3\\lib\\site-packages\\lightgbm\\sklearn.py:736: UserWarning: 'verbose' argument is deprecated and will be removed in a future release of LightGBM. Pass 'log_evaluation()' callback via 'callbacks' argument instead.\n",
      "  _log_warning(\"'verbose' argument is deprecated and will be removed in a future release of LightGBM. \"\n",
      "\u001b[32m[I 2023-05-07 18:11:53,222]\u001b[0m Trial 29 finished with value: 0.2578434358818154 and parameters: {'n_estimators': 298, 'learning_rate': 0.028876719032068284, 'num_leaves': 31, 'min_child_samples': 45, 'max_depth': 7, 'colsample_bytree': 0.8788062963981071, 'subsample': 0.8809936335948436, 'reg_alpha': 0.5392367268296328, 'reg_lambda': 0.44038776639674004}. Best is trial 25 with value: 0.2966249636310736.\u001b[0m\n",
      "C:\\Users\\haric\\anaconda3\\lib\\site-packages\\lightgbm\\sklearn.py:726: UserWarning: 'early_stopping_rounds' argument is deprecated and will be removed in a future release of LightGBM. Pass 'early_stopping()' callback via 'callbacks' argument instead.\n",
      "  _log_warning(\"'early_stopping_rounds' argument is deprecated and will be removed in a future release of LightGBM. \"\n",
      "C:\\Users\\haric\\anaconda3\\lib\\site-packages\\lightgbm\\sklearn.py:736: UserWarning: 'verbose' argument is deprecated and will be removed in a future release of LightGBM. Pass 'log_evaluation()' callback via 'callbacks' argument instead.\n",
      "  _log_warning(\"'verbose' argument is deprecated and will be removed in a future release of LightGBM. \"\n",
      "\u001b[32m[I 2023-05-07 18:11:54,155]\u001b[0m Trial 30 finished with value: 0.24140982723459925 and parameters: {'n_estimators': 245, 'learning_rate': 0.16221256554115698, 'num_leaves': 45, 'min_child_samples': 47, 'max_depth': 5, 'colsample_bytree': 0.8006065178748798, 'subsample': 0.9193180715867101, 'reg_alpha': 0.9749458961666477, 'reg_lambda': 1.052950315886555}. Best is trial 25 with value: 0.2966249636310736.\u001b[0m\n",
      "C:\\Users\\haric\\anaconda3\\lib\\site-packages\\lightgbm\\sklearn.py:726: UserWarning: 'early_stopping_rounds' argument is deprecated and will be removed in a future release of LightGBM. Pass 'early_stopping()' callback via 'callbacks' argument instead.\n",
      "  _log_warning(\"'early_stopping_rounds' argument is deprecated and will be removed in a future release of LightGBM. \"\n",
      "C:\\Users\\haric\\anaconda3\\lib\\site-packages\\lightgbm\\sklearn.py:736: UserWarning: 'verbose' argument is deprecated and will be removed in a future release of LightGBM. Pass 'log_evaluation()' callback via 'callbacks' argument instead.\n",
      "  _log_warning(\"'verbose' argument is deprecated and will be removed in a future release of LightGBM. \"\n",
      "\u001b[32m[I 2023-05-07 18:11:55,115]\u001b[0m Trial 31 finished with value: 0.25796615337703915 and parameters: {'n_estimators': 241, 'learning_rate': 0.17811106302169571, 'num_leaves': 23, 'min_child_samples': 22, 'max_depth': 0, 'colsample_bytree': 0.8313120563984696, 'subsample': 0.6143769095186968, 'reg_alpha': 0.6983970271986902, 'reg_lambda': 0.8139669520613649}. Best is trial 25 with value: 0.2966249636310736.\u001b[0m\n",
      "C:\\Users\\haric\\anaconda3\\lib\\site-packages\\lightgbm\\sklearn.py:726: UserWarning: 'early_stopping_rounds' argument is deprecated and will be removed in a future release of LightGBM. Pass 'early_stopping()' callback via 'callbacks' argument instead.\n",
      "  _log_warning(\"'early_stopping_rounds' argument is deprecated and will be removed in a future release of LightGBM. \"\n",
      "C:\\Users\\haric\\anaconda3\\lib\\site-packages\\lightgbm\\sklearn.py:736: UserWarning: 'verbose' argument is deprecated and will be removed in a future release of LightGBM. Pass 'log_evaluation()' callback via 'callbacks' argument instead.\n",
      "  _log_warning(\"'verbose' argument is deprecated and will be removed in a future release of LightGBM. \"\n",
      "\u001b[32m[I 2023-05-07 18:11:56,516]\u001b[0m Trial 32 finished with value: 0.2738126426887234 and parameters: {'n_estimators': 93, 'learning_rate': 0.11857581885323315, 'num_leaves': 11, 'min_child_samples': 6, 'max_depth': 8, 'colsample_bytree': 0.7440762565645052, 'subsample': 0.6508242050607539, 'reg_alpha': 0.7833648900822066, 'reg_lambda': 1.1549903296479163}. Best is trial 25 with value: 0.2966249636310736.\u001b[0m\n",
      "C:\\Users\\haric\\anaconda3\\lib\\site-packages\\lightgbm\\sklearn.py:726: UserWarning: 'early_stopping_rounds' argument is deprecated and will be removed in a future release of LightGBM. Pass 'early_stopping()' callback via 'callbacks' argument instead.\n",
      "  _log_warning(\"'early_stopping_rounds' argument is deprecated and will be removed in a future release of LightGBM. \"\n",
      "C:\\Users\\haric\\anaconda3\\lib\\site-packages\\lightgbm\\sklearn.py:736: UserWarning: 'verbose' argument is deprecated and will be removed in a future release of LightGBM. Pass 'log_evaluation()' callback via 'callbacks' argument instead.\n",
      "  _log_warning(\"'verbose' argument is deprecated and will be removed in a future release of LightGBM. \"\n",
      "\u001b[32m[I 2023-05-07 18:11:57,592]\u001b[0m Trial 33 finished with value: 0.2611647555823778 and parameters: {'n_estimators': 72, 'learning_rate': 0.12495520468798106, 'num_leaves': 13, 'min_child_samples': 7, 'max_depth': 5, 'colsample_bytree': 0.8162540486440426, 'subsample': 0.8549719605992826, 'reg_alpha': 1.0891370005839924, 'reg_lambda': 1.463778119193802}. Best is trial 25 with value: 0.2966249636310736.\u001b[0m\n",
      "C:\\Users\\haric\\anaconda3\\lib\\site-packages\\lightgbm\\sklearn.py:726: UserWarning: 'early_stopping_rounds' argument is deprecated and will be removed in a future release of LightGBM. Pass 'early_stopping()' callback via 'callbacks' argument instead.\n",
      "  _log_warning(\"'early_stopping_rounds' argument is deprecated and will be removed in a future release of LightGBM. \"\n",
      "C:\\Users\\haric\\anaconda3\\lib\\site-packages\\lightgbm\\sklearn.py:736: UserWarning: 'verbose' argument is deprecated and will be removed in a future release of LightGBM. Pass 'log_evaluation()' callback via 'callbacks' argument instead.\n",
      "  _log_warning(\"'verbose' argument is deprecated and will be removed in a future release of LightGBM. \"\n",
      "\u001b[32m[I 2023-05-07 18:11:59,640]\u001b[0m Trial 34 finished with value: 0.28268655614222943 and parameters: {'n_estimators': 160, 'learning_rate': 0.06526833811530795, 'num_leaves': 42, 'min_child_samples': 17, 'max_depth': 4, 'colsample_bytree': 0.6313825525369063, 'subsample': 0.610140297366183, 'reg_alpha': 1.4439726220168876, 'reg_lambda': 1.2539701807683088}. Best is trial 25 with value: 0.2966249636310736.\u001b[0m\n",
      "C:\\Users\\haric\\anaconda3\\lib\\site-packages\\lightgbm\\sklearn.py:726: UserWarning: 'early_stopping_rounds' argument is deprecated and will be removed in a future release of LightGBM. Pass 'early_stopping()' callback via 'callbacks' argument instead.\n",
      "  _log_warning(\"'early_stopping_rounds' argument is deprecated and will be removed in a future release of LightGBM. \"\n",
      "C:\\Users\\haric\\anaconda3\\lib\\site-packages\\lightgbm\\sklearn.py:736: UserWarning: 'verbose' argument is deprecated and will be removed in a future release of LightGBM. Pass 'log_evaluation()' callback via 'callbacks' argument instead.\n",
      "  _log_warning(\"'verbose' argument is deprecated and will be removed in a future release of LightGBM. \"\n",
      "\u001b[32m[I 2023-05-07 18:12:01,522]\u001b[0m Trial 35 finished with value: 0.26943390612214535 and parameters: {'n_estimators': 212, 'learning_rate': 0.08238163593843971, 'num_leaves': 17, 'min_child_samples': 12, 'max_depth': 2, 'colsample_bytree': 0.8196906658824482, 'subsample': 0.8858383690800249, 'reg_alpha': 0.9902960650765968, 'reg_lambda': 0.41990084541891426}. Best is trial 25 with value: 0.2966249636310736.\u001b[0m\n",
      "C:\\Users\\haric\\anaconda3\\lib\\site-packages\\lightgbm\\sklearn.py:726: UserWarning: 'early_stopping_rounds' argument is deprecated and will be removed in a future release of LightGBM. Pass 'early_stopping()' callback via 'callbacks' argument instead.\n",
      "  _log_warning(\"'early_stopping_rounds' argument is deprecated and will be removed in a future release of LightGBM. \"\n",
      "C:\\Users\\haric\\anaconda3\\lib\\site-packages\\lightgbm\\sklearn.py:736: UserWarning: 'verbose' argument is deprecated and will be removed in a future release of LightGBM. Pass 'log_evaluation()' callback via 'callbacks' argument instead.\n",
      "  _log_warning(\"'verbose' argument is deprecated and will be removed in a future release of LightGBM. \"\n",
      "\u001b[32m[I 2023-05-07 18:12:02,804]\u001b[0m Trial 36 finished with value: 0.2777674487784925 and parameters: {'n_estimators': 287, 'learning_rate': 0.14784148642245795, 'num_leaves': 32, 'min_child_samples': 33, 'max_depth': 4, 'colsample_bytree': 0.699092395800463, 'subsample': 0.7423890714605046, 'reg_alpha': 1.1367691656965537, 'reg_lambda': 0.021590232944633803}. Best is trial 25 with value: 0.2966249636310736.\u001b[0m\n",
      "C:\\Users\\haric\\anaconda3\\lib\\site-packages\\lightgbm\\sklearn.py:726: UserWarning: 'early_stopping_rounds' argument is deprecated and will be removed in a future release of LightGBM. Pass 'early_stopping()' callback via 'callbacks' argument instead.\n",
      "  _log_warning(\"'early_stopping_rounds' argument is deprecated and will be removed in a future release of LightGBM. \"\n",
      "C:\\Users\\haric\\anaconda3\\lib\\site-packages\\lightgbm\\sklearn.py:736: UserWarning: 'verbose' argument is deprecated and will be removed in a future release of LightGBM. Pass 'log_evaluation()' callback via 'callbacks' argument instead.\n",
      "  _log_warning(\"'verbose' argument is deprecated and will be removed in a future release of LightGBM. \"\n",
      "\u001b[32m[I 2023-05-07 18:12:03,773]\u001b[0m Trial 37 finished with value: 0.0 and parameters: {'n_estimators': 43, 'learning_rate': 0.010154525762328798, 'num_leaves': 11, 'min_child_samples': 44, 'max_depth': 7, 'colsample_bytree': 0.78966953163493, 'subsample': 0.6391336642604005, 'reg_alpha': 0.7374238126752486, 'reg_lambda': 0.7102076561708486}. Best is trial 25 with value: 0.2966249636310736.\u001b[0m\n",
      "C:\\Users\\haric\\anaconda3\\lib\\site-packages\\lightgbm\\sklearn.py:726: UserWarning: 'early_stopping_rounds' argument is deprecated and will be removed in a future release of LightGBM. Pass 'early_stopping()' callback via 'callbacks' argument instead.\n",
      "  _log_warning(\"'early_stopping_rounds' argument is deprecated and will be removed in a future release of LightGBM. \"\n",
      "C:\\Users\\haric\\anaconda3\\lib\\site-packages\\lightgbm\\sklearn.py:736: UserWarning: 'verbose' argument is deprecated and will be removed in a future release of LightGBM. Pass 'log_evaluation()' callback via 'callbacks' argument instead.\n",
      "  _log_warning(\"'verbose' argument is deprecated and will be removed in a future release of LightGBM. \"\n",
      "\u001b[32m[I 2023-05-07 18:12:05,109]\u001b[0m Trial 38 finished with value: 0.25925785255801587 and parameters: {'n_estimators': 60, 'learning_rate': 0.08733647819835665, 'num_leaves': 26, 'min_child_samples': 33, 'max_depth': 6, 'colsample_bytree': 0.6181216039088178, 'subsample': 0.7498450458505885, 'reg_alpha': 0.9387898735713546, 'reg_lambda': 0.7547043878701316}. Best is trial 25 with value: 0.2966249636310736.\u001b[0m\n",
      "C:\\Users\\haric\\anaconda3\\lib\\site-packages\\lightgbm\\sklearn.py:726: UserWarning: 'early_stopping_rounds' argument is deprecated and will be removed in a future release of LightGBM. Pass 'early_stopping()' callback via 'callbacks' argument instead.\n",
      "  _log_warning(\"'early_stopping_rounds' argument is deprecated and will be removed in a future release of LightGBM. \"\n",
      "C:\\Users\\haric\\anaconda3\\lib\\site-packages\\lightgbm\\sklearn.py:736: UserWarning: 'verbose' argument is deprecated and will be removed in a future release of LightGBM. Pass 'log_evaluation()' callback via 'callbacks' argument instead.\n",
      "  _log_warning(\"'verbose' argument is deprecated and will be removed in a future release of LightGBM. \"\n",
      "\u001b[32m[I 2023-05-07 18:12:06,637]\u001b[0m Trial 39 finished with value: 0.280223880597015 and parameters: {'n_estimators': 259, 'learning_rate': 0.13208003269217006, 'num_leaves': 16, 'min_child_samples': 8, 'max_depth': 6, 'colsample_bytree': 0.6106045242166487, 'subsample': 0.8343102325093853, 'reg_alpha': 1.4103453621374364, 'reg_lambda': 0.8632112668138184}. Best is trial 25 with value: 0.2966249636310736.\u001b[0m\n",
      "C:\\Users\\haric\\anaconda3\\lib\\site-packages\\lightgbm\\sklearn.py:726: UserWarning: 'early_stopping_rounds' argument is deprecated and will be removed in a future release of LightGBM. Pass 'early_stopping()' callback via 'callbacks' argument instead.\n",
      "  _log_warning(\"'early_stopping_rounds' argument is deprecated and will be removed in a future release of LightGBM. \"\n",
      "C:\\Users\\haric\\anaconda3\\lib\\site-packages\\lightgbm\\sklearn.py:736: UserWarning: 'verbose' argument is deprecated and will be removed in a future release of LightGBM. Pass 'log_evaluation()' callback via 'callbacks' argument instead.\n",
      "  _log_warning(\"'verbose' argument is deprecated and will be removed in a future release of LightGBM. \"\n",
      "\u001b[32m[I 2023-05-07 18:12:07,935]\u001b[0m Trial 40 finished with value: 0.2535179041299622 and parameters: {'n_estimators': 122, 'learning_rate': 0.1290143554700283, 'num_leaves': 28, 'min_child_samples': 30, 'max_depth': 10, 'colsample_bytree': 0.7544410551203097, 'subsample': 0.9844762255295657, 'reg_alpha': 1.3580259629340956, 'reg_lambda': 0.29368670218394466}. Best is trial 25 with value: 0.2966249636310736.\u001b[0m\n",
      "C:\\Users\\haric\\anaconda3\\lib\\site-packages\\lightgbm\\sklearn.py:726: UserWarning: 'early_stopping_rounds' argument is deprecated and will be removed in a future release of LightGBM. Pass 'early_stopping()' callback via 'callbacks' argument instead.\n",
      "  _log_warning(\"'early_stopping_rounds' argument is deprecated and will be removed in a future release of LightGBM. \"\n",
      "C:\\Users\\haric\\anaconda3\\lib\\site-packages\\lightgbm\\sklearn.py:736: UserWarning: 'verbose' argument is deprecated and will be removed in a future release of LightGBM. Pass 'log_evaluation()' callback via 'callbacks' argument instead.\n",
      "  _log_warning(\"'verbose' argument is deprecated and will be removed in a future release of LightGBM. \"\n",
      "\u001b[32m[I 2023-05-07 18:12:08,811]\u001b[0m Trial 41 finished with value: 0.0 and parameters: {'n_estimators': 30, 'learning_rate': 0.021054822274107904, 'num_leaves': 10, 'min_child_samples': 9, 'max_depth': 7, 'colsample_bytree': 0.6284754593840916, 'subsample': 0.7275902521175045, 'reg_alpha': 1.2673129664541818, 'reg_lambda': 0.0349079036037388}. Best is trial 25 with value: 0.2966249636310736.\u001b[0m\n",
      "C:\\Users\\haric\\anaconda3\\lib\\site-packages\\lightgbm\\sklearn.py:726: UserWarning: 'early_stopping_rounds' argument is deprecated and will be removed in a future release of LightGBM. Pass 'early_stopping()' callback via 'callbacks' argument instead.\n",
      "  _log_warning(\"'early_stopping_rounds' argument is deprecated and will be removed in a future release of LightGBM. \"\n",
      "C:\\Users\\haric\\anaconda3\\lib\\site-packages\\lightgbm\\sklearn.py:736: UserWarning: 'verbose' argument is deprecated and will be removed in a future release of LightGBM. Pass 'log_evaluation()' callback via 'callbacks' argument instead.\n",
      "  _log_warning(\"'verbose' argument is deprecated and will be removed in a future release of LightGBM. \"\n",
      "\u001b[32m[I 2023-05-07 18:12:11,021]\u001b[0m Trial 42 finished with value: 0.2819752354118781 and parameters: {'n_estimators': 247, 'learning_rate': 0.057089100179906586, 'num_leaves': 14, 'min_child_samples': 37, 'max_depth': 6, 'colsample_bytree': 0.9509888054108212, 'subsample': 0.8940284175215543, 'reg_alpha': 1.2052213955772728, 'reg_lambda': 0.42305185885695973}. Best is trial 25 with value: 0.2966249636310736.\u001b[0m\n",
      "C:\\Users\\haric\\anaconda3\\lib\\site-packages\\lightgbm\\sklearn.py:726: UserWarning: 'early_stopping_rounds' argument is deprecated and will be removed in a future release of LightGBM. Pass 'early_stopping()' callback via 'callbacks' argument instead.\n",
      "  _log_warning(\"'early_stopping_rounds' argument is deprecated and will be removed in a future release of LightGBM. \"\n",
      "C:\\Users\\haric\\anaconda3\\lib\\site-packages\\lightgbm\\sklearn.py:736: UserWarning: 'verbose' argument is deprecated and will be removed in a future release of LightGBM. Pass 'log_evaluation()' callback via 'callbacks' argument instead.\n",
      "  _log_warning(\"'verbose' argument is deprecated and will be removed in a future release of LightGBM. \"\n",
      "\u001b[32m[I 2023-05-07 18:12:12,004]\u001b[0m Trial 43 finished with value: 0.27696394966975385 and parameters: {'n_estimators': 61, 'learning_rate': 0.15037233557653082, 'num_leaves': 43, 'min_child_samples': 50, 'max_depth': 3, 'colsample_bytree': 0.7488072343171133, 'subsample': 0.9105651842967988, 'reg_alpha': 0.5112053103795268, 'reg_lambda': 1.396135988405347}. Best is trial 25 with value: 0.2966249636310736.\u001b[0m\n",
      "C:\\Users\\haric\\anaconda3\\lib\\site-packages\\lightgbm\\sklearn.py:726: UserWarning: 'early_stopping_rounds' argument is deprecated and will be removed in a future release of LightGBM. Pass 'early_stopping()' callback via 'callbacks' argument instead.\n",
      "  _log_warning(\"'early_stopping_rounds' argument is deprecated and will be removed in a future release of LightGBM. \"\n",
      "C:\\Users\\haric\\anaconda3\\lib\\site-packages\\lightgbm\\sklearn.py:736: UserWarning: 'verbose' argument is deprecated and will be removed in a future release of LightGBM. Pass 'log_evaluation()' callback via 'callbacks' argument instead.\n",
      "  _log_warning(\"'verbose' argument is deprecated and will be removed in a future release of LightGBM. \"\n",
      "\u001b[32m[I 2023-05-07 18:12:13,376]\u001b[0m Trial 44 finished with value: 0.2584449178332319 and parameters: {'n_estimators': 259, 'learning_rate': 0.08636981144762866, 'num_leaves': 40, 'min_child_samples': 39, 'max_depth': 0, 'colsample_bytree': 0.9610211626718267, 'subsample': 0.8021009489791429, 'reg_alpha': 1.2396861991616124, 'reg_lambda': 0.48007440154591763}. Best is trial 25 with value: 0.2966249636310736.\u001b[0m\n",
      "C:\\Users\\haric\\anaconda3\\lib\\site-packages\\lightgbm\\sklearn.py:726: UserWarning: 'early_stopping_rounds' argument is deprecated and will be removed in a future release of LightGBM. Pass 'early_stopping()' callback via 'callbacks' argument instead.\n",
      "  _log_warning(\"'early_stopping_rounds' argument is deprecated and will be removed in a future release of LightGBM. \"\n",
      "C:\\Users\\haric\\anaconda3\\lib\\site-packages\\lightgbm\\sklearn.py:736: UserWarning: 'verbose' argument is deprecated and will be removed in a future release of LightGBM. Pass 'log_evaluation()' callback via 'callbacks' argument instead.\n",
      "  _log_warning(\"'verbose' argument is deprecated and will be removed in a future release of LightGBM. \"\n",
      "\u001b[32m[I 2023-05-07 18:12:15,121]\u001b[0m Trial 45 finished with value: 0.277295585770162 and parameters: {'n_estimators': 270, 'learning_rate': 0.07845113406809846, 'num_leaves': 10, 'min_child_samples': 46, 'max_depth': 0, 'colsample_bytree': 0.7277254550361659, 'subsample': 0.980024786820322, 'reg_alpha': 1.4259107204063342, 'reg_lambda': 0.8601568321849291}. Best is trial 25 with value: 0.2966249636310736.\u001b[0m\n",
      "C:\\Users\\haric\\anaconda3\\lib\\site-packages\\lightgbm\\sklearn.py:726: UserWarning: 'early_stopping_rounds' argument is deprecated and will be removed in a future release of LightGBM. Pass 'early_stopping()' callback via 'callbacks' argument instead.\n",
      "  _log_warning(\"'early_stopping_rounds' argument is deprecated and will be removed in a future release of LightGBM. \"\n",
      "C:\\Users\\haric\\anaconda3\\lib\\site-packages\\lightgbm\\sklearn.py:736: UserWarning: 'verbose' argument is deprecated and will be removed in a future release of LightGBM. Pass 'log_evaluation()' callback via 'callbacks' argument instead.\n",
      "  _log_warning(\"'verbose' argument is deprecated and will be removed in a future release of LightGBM. \"\n",
      "\u001b[32m[I 2023-05-07 18:12:16,818]\u001b[0m Trial 46 finished with value: 0.2693610295777828 and parameters: {'n_estimators': 193, 'learning_rate': 0.09024065887368564, 'num_leaves': 22, 'min_child_samples': 20, 'max_depth': 7, 'colsample_bytree': 0.900949811775072, 'subsample': 0.9166316174903394, 'reg_alpha': 1.1844272141918308, 'reg_lambda': 0.13680915457303555}. Best is trial 25 with value: 0.2966249636310736.\u001b[0m\n",
      "C:\\Users\\haric\\anaconda3\\lib\\site-packages\\lightgbm\\sklearn.py:726: UserWarning: 'early_stopping_rounds' argument is deprecated and will be removed in a future release of LightGBM. Pass 'early_stopping()' callback via 'callbacks' argument instead.\n",
      "  _log_warning(\"'early_stopping_rounds' argument is deprecated and will be removed in a future release of LightGBM. \"\n",
      "C:\\Users\\haric\\anaconda3\\lib\\site-packages\\lightgbm\\sklearn.py:736: UserWarning: 'verbose' argument is deprecated and will be removed in a future release of LightGBM. Pass 'log_evaluation()' callback via 'callbacks' argument instead.\n",
      "  _log_warning(\"'verbose' argument is deprecated and will be removed in a future release of LightGBM. \"\n",
      "\u001b[32m[I 2023-05-07 18:12:19,430]\u001b[0m Trial 47 finished with value: 0.19953165374677 and parameters: {'n_estimators': 153, 'learning_rate': 0.012454193243312213, 'num_leaves': 32, 'min_child_samples': 25, 'max_depth': 9, 'colsample_bytree': 0.7403660050208315, 'subsample': 0.6468268065710423, 'reg_alpha': 0.21448752307925378, 'reg_lambda': 1.1422659475762083}. Best is trial 25 with value: 0.2966249636310736.\u001b[0m\n",
      "C:\\Users\\haric\\anaconda3\\lib\\site-packages\\lightgbm\\sklearn.py:726: UserWarning: 'early_stopping_rounds' argument is deprecated and will be removed in a future release of LightGBM. Pass 'early_stopping()' callback via 'callbacks' argument instead.\n",
      "  _log_warning(\"'early_stopping_rounds' argument is deprecated and will be removed in a future release of LightGBM. \"\n",
      "C:\\Users\\haric\\anaconda3\\lib\\site-packages\\lightgbm\\sklearn.py:736: UserWarning: 'verbose' argument is deprecated and will be removed in a future release of LightGBM. Pass 'log_evaluation()' callback via 'callbacks' argument instead.\n",
      "  _log_warning(\"'verbose' argument is deprecated and will be removed in a future release of LightGBM. \"\n",
      "\u001b[32m[I 2023-05-07 18:12:21,893]\u001b[0m Trial 48 finished with value: 0.24439133451545758 and parameters: {'n_estimators': 189, 'learning_rate': 0.02112341254843526, 'num_leaves': 13, 'min_child_samples': 37, 'max_depth': -1, 'colsample_bytree': 0.9287440237161425, 'subsample': 0.8824968908625985, 'reg_alpha': 0.12202317096284965, 'reg_lambda': 0.12725657112778788}. Best is trial 25 with value: 0.2966249636310736.\u001b[0m\n",
      "C:\\Users\\haric\\anaconda3\\lib\\site-packages\\lightgbm\\sklearn.py:726: UserWarning: 'early_stopping_rounds' argument is deprecated and will be removed in a future release of LightGBM. Pass 'early_stopping()' callback via 'callbacks' argument instead.\n",
      "  _log_warning(\"'early_stopping_rounds' argument is deprecated and will be removed in a future release of LightGBM. \"\n",
      "C:\\Users\\haric\\anaconda3\\lib\\site-packages\\lightgbm\\sklearn.py:736: UserWarning: 'verbose' argument is deprecated and will be removed in a future release of LightGBM. Pass 'log_evaluation()' callback via 'callbacks' argument instead.\n",
      "  _log_warning(\"'verbose' argument is deprecated and will be removed in a future release of LightGBM. \"\n",
      "\u001b[32m[I 2023-05-07 18:12:23,697]\u001b[0m Trial 49 finished with value: 0.281698520116011 and parameters: {'n_estimators': 297, 'learning_rate': 0.07547988835546796, 'num_leaves': 25, 'min_child_samples': 42, 'max_depth': 10, 'colsample_bytree': 0.9944004255291483, 'subsample': 0.9013512741035766, 'reg_alpha': 0.5643893782963736, 'reg_lambda': 0.12525107504800315}. Best is trial 25 with value: 0.2966249636310736.\u001b[0m\n",
      "C:\\Users\\haric\\anaconda3\\lib\\site-packages\\lightgbm\\sklearn.py:726: UserWarning: 'early_stopping_rounds' argument is deprecated and will be removed in a future release of LightGBM. Pass 'early_stopping()' callback via 'callbacks' argument instead.\n",
      "  _log_warning(\"'early_stopping_rounds' argument is deprecated and will be removed in a future release of LightGBM. \"\n",
      "C:\\Users\\haric\\anaconda3\\lib\\site-packages\\lightgbm\\sklearn.py:736: UserWarning: 'verbose' argument is deprecated and will be removed in a future release of LightGBM. Pass 'log_evaluation()' callback via 'callbacks' argument instead.\n",
      "  _log_warning(\"'verbose' argument is deprecated and will be removed in a future release of LightGBM. \"\n",
      "\u001b[32m[I 2023-05-07 18:12:24,971]\u001b[0m Trial 50 finished with value: 0.25351574442066643 and parameters: {'n_estimators': 236, 'learning_rate': 0.11212244569742522, 'num_leaves': 27, 'min_child_samples': 46, 'max_depth': 0, 'colsample_bytree': 0.7970500417163436, 'subsample': 0.6045414579069676, 'reg_alpha': 0.7029909629911895, 'reg_lambda': 0.08445491352275603}. Best is trial 25 with value: 0.2966249636310736.\u001b[0m\n",
      "C:\\Users\\haric\\anaconda3\\lib\\site-packages\\lightgbm\\sklearn.py:726: UserWarning: 'early_stopping_rounds' argument is deprecated and will be removed in a future release of LightGBM. Pass 'early_stopping()' callback via 'callbacks' argument instead.\n",
      "  _log_warning(\"'early_stopping_rounds' argument is deprecated and will be removed in a future release of LightGBM. \"\n",
      "C:\\Users\\haric\\anaconda3\\lib\\site-packages\\lightgbm\\sklearn.py:736: UserWarning: 'verbose' argument is deprecated and will be removed in a future release of LightGBM. Pass 'log_evaluation()' callback via 'callbacks' argument instead.\n",
      "  _log_warning(\"'verbose' argument is deprecated and will be removed in a future release of LightGBM. \"\n",
      "\u001b[32m[I 2023-05-07 18:12:26,011]\u001b[0m Trial 51 finished with value: 0.09918520149746753 and parameters: {'n_estimators': 44, 'learning_rate': 0.024387723108643875, 'num_leaves': 36, 'min_child_samples': 39, 'max_depth': 6, 'colsample_bytree': 0.9848690193898167, 'subsample': 0.7499482318094817, 'reg_alpha': 0.4285681294227911, 'reg_lambda': 1.3028986922841903}. Best is trial 25 with value: 0.2966249636310736.\u001b[0m\n",
      "C:\\Users\\haric\\anaconda3\\lib\\site-packages\\lightgbm\\sklearn.py:726: UserWarning: 'early_stopping_rounds' argument is deprecated and will be removed in a future release of LightGBM. Pass 'early_stopping()' callback via 'callbacks' argument instead.\n",
      "  _log_warning(\"'early_stopping_rounds' argument is deprecated and will be removed in a future release of LightGBM. \"\n",
      "C:\\Users\\haric\\anaconda3\\lib\\site-packages\\lightgbm\\sklearn.py:736: UserWarning: 'verbose' argument is deprecated and will be removed in a future release of LightGBM. Pass 'log_evaluation()' callback via 'callbacks' argument instead.\n",
      "  _log_warning(\"'verbose' argument is deprecated and will be removed in a future release of LightGBM. \"\n",
      "\u001b[32m[I 2023-05-07 18:12:27,223]\u001b[0m Trial 52 finished with value: 0.31375916979781715 and parameters: {'n_estimators': 75, 'learning_rate': 0.19268128534868167, 'num_leaves': 10, 'min_child_samples': 49, 'max_depth': -1, 'colsample_bytree': 0.9564572454792284, 'subsample': 0.8110804436345199, 'reg_alpha': 1.4894471941789504, 'reg_lambda': 0.11069484710309829}. Best is trial 52 with value: 0.31375916979781715.\u001b[0m\n",
      "C:\\Users\\haric\\anaconda3\\lib\\site-packages\\lightgbm\\sklearn.py:726: UserWarning: 'early_stopping_rounds' argument is deprecated and will be removed in a future release of LightGBM. Pass 'early_stopping()' callback via 'callbacks' argument instead.\n",
      "  _log_warning(\"'early_stopping_rounds' argument is deprecated and will be removed in a future release of LightGBM. \"\n",
      "C:\\Users\\haric\\anaconda3\\lib\\site-packages\\lightgbm\\sklearn.py:736: UserWarning: 'verbose' argument is deprecated and will be removed in a future release of LightGBM. Pass 'log_evaluation()' callback via 'callbacks' argument instead.\n",
      "  _log_warning(\"'verbose' argument is deprecated and will be removed in a future release of LightGBM. \"\n",
      "\u001b[32m[I 2023-05-07 18:12:28,043]\u001b[0m Trial 53 finished with value: 0.26083987709115736 and parameters: {'n_estimators': 171, 'learning_rate': 0.1938912045882007, 'num_leaves': 31, 'min_child_samples': 33, 'max_depth': 7, 'colsample_bytree': 0.7818164259071093, 'subsample': 0.8510232320336253, 'reg_alpha': 0.8764714678846504, 'reg_lambda': 1.3517370157364834}. Best is trial 52 with value: 0.31375916979781715.\u001b[0m\n",
      "C:\\Users\\haric\\anaconda3\\lib\\site-packages\\lightgbm\\sklearn.py:726: UserWarning: 'early_stopping_rounds' argument is deprecated and will be removed in a future release of LightGBM. Pass 'early_stopping()' callback via 'callbacks' argument instead.\n",
      "  _log_warning(\"'early_stopping_rounds' argument is deprecated and will be removed in a future release of LightGBM. \"\n",
      "C:\\Users\\haric\\anaconda3\\lib\\site-packages\\lightgbm\\sklearn.py:736: UserWarning: 'verbose' argument is deprecated and will be removed in a future release of LightGBM. Pass 'log_evaluation()' callback via 'callbacks' argument instead.\n",
      "  _log_warning(\"'verbose' argument is deprecated and will be removed in a future release of LightGBM. \"\n",
      "\u001b[32m[I 2023-05-07 18:12:28,811]\u001b[0m Trial 54 finished with value: 0.05371262382986459 and parameters: {'n_estimators': 23, 'learning_rate': 0.05691167472885384, 'num_leaves': 48, 'min_child_samples': 45, 'max_depth': 4, 'colsample_bytree': 0.8480530391206147, 'subsample': 0.710952473192453, 'reg_alpha': 0.28218173958564197, 'reg_lambda': 0.6955476074099732}. Best is trial 52 with value: 0.31375916979781715.\u001b[0m\n",
      "C:\\Users\\haric\\anaconda3\\lib\\site-packages\\lightgbm\\sklearn.py:726: UserWarning: 'early_stopping_rounds' argument is deprecated and will be removed in a future release of LightGBM. Pass 'early_stopping()' callback via 'callbacks' argument instead.\n",
      "  _log_warning(\"'early_stopping_rounds' argument is deprecated and will be removed in a future release of LightGBM. \"\n",
      "C:\\Users\\haric\\anaconda3\\lib\\site-packages\\lightgbm\\sklearn.py:736: UserWarning: 'verbose' argument is deprecated and will be removed in a future release of LightGBM. Pass 'log_evaluation()' callback via 'callbacks' argument instead.\n",
      "  _log_warning(\"'verbose' argument is deprecated and will be removed in a future release of LightGBM. \"\n",
      "\u001b[32m[I 2023-05-07 18:12:30,072]\u001b[0m Trial 55 finished with value: 0.2843188041145564 and parameters: {'n_estimators': 112, 'learning_rate': 0.11714756625832355, 'num_leaves': 13, 'min_child_samples': 49, 'max_depth': 10, 'colsample_bytree': 0.879264685607898, 'subsample': 0.8144385465376481, 'reg_alpha': 0.4642914244294916, 'reg_lambda': 1.220692529560423}. Best is trial 52 with value: 0.31375916979781715.\u001b[0m\n",
      "C:\\Users\\haric\\anaconda3\\lib\\site-packages\\lightgbm\\sklearn.py:726: UserWarning: 'early_stopping_rounds' argument is deprecated and will be removed in a future release of LightGBM. Pass 'early_stopping()' callback via 'callbacks' argument instead.\n",
      "  _log_warning(\"'early_stopping_rounds' argument is deprecated and will be removed in a future release of LightGBM. \"\n",
      "C:\\Users\\haric\\anaconda3\\lib\\site-packages\\lightgbm\\sklearn.py:736: UserWarning: 'verbose' argument is deprecated and will be removed in a future release of LightGBM. Pass 'log_evaluation()' callback via 'callbacks' argument instead.\n",
      "  _log_warning(\"'verbose' argument is deprecated and will be removed in a future release of LightGBM. \"\n",
      "\u001b[32m[I 2023-05-07 18:12:33,002]\u001b[0m Trial 56 finished with value: 0.26185050136736554 and parameters: {'n_estimators': 209, 'learning_rate': 0.03336077092963337, 'num_leaves': 47, 'min_child_samples': 42, 'max_depth': 10, 'colsample_bytree': 0.890287803355344, 'subsample': 0.845366078374316, 'reg_alpha': 0.6273645544359283, 'reg_lambda': 1.39909272503102}. Best is trial 52 with value: 0.31375916979781715.\u001b[0m\n",
      "C:\\Users\\haric\\anaconda3\\lib\\site-packages\\lightgbm\\sklearn.py:726: UserWarning: 'early_stopping_rounds' argument is deprecated and will be removed in a future release of LightGBM. Pass 'early_stopping()' callback via 'callbacks' argument instead.\n",
      "  _log_warning(\"'early_stopping_rounds' argument is deprecated and will be removed in a future release of LightGBM. \"\n",
      "C:\\Users\\haric\\anaconda3\\lib\\site-packages\\lightgbm\\sklearn.py:736: UserWarning: 'verbose' argument is deprecated and will be removed in a future release of LightGBM. Pass 'log_evaluation()' callback via 'callbacks' argument instead.\n",
      "  _log_warning(\"'verbose' argument is deprecated and will be removed in a future release of LightGBM. \"\n",
      "\u001b[32m[I 2023-05-07 18:12:35,886]\u001b[0m Trial 57 finished with value: 0.18473895582329314 and parameters: {'n_estimators': 262, 'learning_rate': 0.009998515351131693, 'num_leaves': 11, 'min_child_samples': 22, 'max_depth': 8, 'colsample_bytree': 0.9949104517259778, 'subsample': 0.6601667564414112, 'reg_alpha': 0.8911960730282027, 'reg_lambda': 0.5713362849465322}. Best is trial 52 with value: 0.31375916979781715.\u001b[0m\n",
      "C:\\Users\\haric\\anaconda3\\lib\\site-packages\\lightgbm\\sklearn.py:726: UserWarning: 'early_stopping_rounds' argument is deprecated and will be removed in a future release of LightGBM. Pass 'early_stopping()' callback via 'callbacks' argument instead.\n",
      "  _log_warning(\"'early_stopping_rounds' argument is deprecated and will be removed in a future release of LightGBM. \"\n",
      "C:\\Users\\haric\\anaconda3\\lib\\site-packages\\lightgbm\\sklearn.py:736: UserWarning: 'verbose' argument is deprecated and will be removed in a future release of LightGBM. Pass 'log_evaluation()' callback via 'callbacks' argument instead.\n",
      "  _log_warning(\"'verbose' argument is deprecated and will be removed in a future release of LightGBM. \"\n",
      "\u001b[32m[I 2023-05-07 18:12:36,913]\u001b[0m Trial 58 finished with value: 0.2846982916636117 and parameters: {'n_estimators': 292, 'learning_rate': 0.16858166570400604, 'num_leaves': 44, 'min_child_samples': 26, 'max_depth': 3, 'colsample_bytree': 0.7093628287722825, 'subsample': 0.6225501986603709, 'reg_alpha': 1.2970835643825798, 'reg_lambda': 1.2193515136951163}. Best is trial 52 with value: 0.31375916979781715.\u001b[0m\n",
      "C:\\Users\\haric\\anaconda3\\lib\\site-packages\\lightgbm\\sklearn.py:726: UserWarning: 'early_stopping_rounds' argument is deprecated and will be removed in a future release of LightGBM. Pass 'early_stopping()' callback via 'callbacks' argument instead.\n",
      "  _log_warning(\"'early_stopping_rounds' argument is deprecated and will be removed in a future release of LightGBM. \"\n",
      "C:\\Users\\haric\\anaconda3\\lib\\site-packages\\lightgbm\\sklearn.py:736: UserWarning: 'verbose' argument is deprecated and will be removed in a future release of LightGBM. Pass 'log_evaluation()' callback via 'callbacks' argument instead.\n",
      "  _log_warning(\"'verbose' argument is deprecated and will be removed in a future release of LightGBM. \"\n",
      "\u001b[32m[I 2023-05-07 18:12:38,057]\u001b[0m Trial 59 finished with value: 0.2850050020378672 and parameters: {'n_estimators': 300, 'learning_rate': 0.19933073057770717, 'num_leaves': 32, 'min_child_samples': 40, 'max_depth': 10, 'colsample_bytree': 0.9398589562709646, 'subsample': 0.6989392406972791, 'reg_alpha': 0.6758162029651402, 'reg_lambda': 0.19373912272724247}. Best is trial 52 with value: 0.31375916979781715.\u001b[0m\n",
      "C:\\Users\\haric\\anaconda3\\lib\\site-packages\\lightgbm\\sklearn.py:726: UserWarning: 'early_stopping_rounds' argument is deprecated and will be removed in a future release of LightGBM. Pass 'early_stopping()' callback via 'callbacks' argument instead.\n",
      "  _log_warning(\"'early_stopping_rounds' argument is deprecated and will be removed in a future release of LightGBM. \"\n",
      "C:\\Users\\haric\\anaconda3\\lib\\site-packages\\lightgbm\\sklearn.py:736: UserWarning: 'verbose' argument is deprecated and will be removed in a future release of LightGBM. Pass 'log_evaluation()' callback via 'callbacks' argument instead.\n",
      "  _log_warning(\"'verbose' argument is deprecated and will be removed in a future release of LightGBM. \"\n",
      "\u001b[32m[I 2023-05-07 18:12:39,399]\u001b[0m Trial 60 finished with value: 0.2552720048899756 and parameters: {'n_estimators': 287, 'learning_rate': 0.12162875225572514, 'num_leaves': 19, 'min_child_samples': 35, 'max_depth': 6, 'colsample_bytree': 0.7432650872131362, 'subsample': 0.6454230368798516, 'reg_alpha': 1.0073597933891993, 'reg_lambda': 0.78046155135569}. Best is trial 52 with value: 0.31375916979781715.\u001b[0m\n",
      "C:\\Users\\haric\\anaconda3\\lib\\site-packages\\lightgbm\\sklearn.py:726: UserWarning: 'early_stopping_rounds' argument is deprecated and will be removed in a future release of LightGBM. Pass 'early_stopping()' callback via 'callbacks' argument instead.\n",
      "  _log_warning(\"'early_stopping_rounds' argument is deprecated and will be removed in a future release of LightGBM. \"\n",
      "C:\\Users\\haric\\anaconda3\\lib\\site-packages\\lightgbm\\sklearn.py:736: UserWarning: 'verbose' argument is deprecated and will be removed in a future release of LightGBM. Pass 'log_evaluation()' callback via 'callbacks' argument instead.\n",
      "  _log_warning(\"'verbose' argument is deprecated and will be removed in a future release of LightGBM. \"\n",
      "\u001b[32m[I 2023-05-07 18:12:40,416]\u001b[0m Trial 61 finished with value: 0.24377537730789858 and parameters: {'n_estimators': 234, 'learning_rate': 0.10451253672128669, 'num_leaves': 44, 'min_child_samples': 30, 'max_depth': 5, 'colsample_bytree': 0.950661441063338, 'subsample': 0.7613931464849588, 'reg_alpha': 0.2010228426759611, 'reg_lambda': 0.04317401447000846}. Best is trial 52 with value: 0.31375916979781715.\u001b[0m\n",
      "C:\\Users\\haric\\anaconda3\\lib\\site-packages\\lightgbm\\sklearn.py:726: UserWarning: 'early_stopping_rounds' argument is deprecated and will be removed in a future release of LightGBM. Pass 'early_stopping()' callback via 'callbacks' argument instead.\n",
      "  _log_warning(\"'early_stopping_rounds' argument is deprecated and will be removed in a future release of LightGBM. \"\n",
      "C:\\Users\\haric\\anaconda3\\lib\\site-packages\\lightgbm\\sklearn.py:736: UserWarning: 'verbose' argument is deprecated and will be removed in a future release of LightGBM. Pass 'log_evaluation()' callback via 'callbacks' argument instead.\n",
      "  _log_warning(\"'verbose' argument is deprecated and will be removed in a future release of LightGBM. \"\n",
      "\u001b[32m[I 2023-05-07 18:12:41,612]\u001b[0m Trial 62 finished with value: 0.2690155753818237 and parameters: {'n_estimators': 229, 'learning_rate': 0.12444160071933948, 'num_leaves': 38, 'min_child_samples': 14, 'max_depth': 0, 'colsample_bytree': 0.6058178662671527, 'subsample': 0.7402350235226388, 'reg_alpha': 0.8848765302819497, 'reg_lambda': 0.5883660676495985}. Best is trial 52 with value: 0.31375916979781715.\u001b[0m\n",
      "C:\\Users\\haric\\anaconda3\\lib\\site-packages\\lightgbm\\sklearn.py:726: UserWarning: 'early_stopping_rounds' argument is deprecated and will be removed in a future release of LightGBM. Pass 'early_stopping()' callback via 'callbacks' argument instead.\n",
      "  _log_warning(\"'early_stopping_rounds' argument is deprecated and will be removed in a future release of LightGBM. \"\n",
      "C:\\Users\\haric\\anaconda3\\lib\\site-packages\\lightgbm\\sklearn.py:736: UserWarning: 'verbose' argument is deprecated and will be removed in a future release of LightGBM. Pass 'log_evaluation()' callback via 'callbacks' argument instead.\n",
      "  _log_warning(\"'verbose' argument is deprecated and will be removed in a future release of LightGBM. \"\n",
      "\u001b[32m[I 2023-05-07 18:12:42,603]\u001b[0m Trial 63 finished with value: 0.26885443323799485 and parameters: {'n_estimators': 137, 'learning_rate': 0.18092758020425595, 'num_leaves': 24, 'min_child_samples': 28, 'max_depth': 8, 'colsample_bytree': 0.7586171129285081, 'subsample': 0.8488346800911494, 'reg_alpha': 1.2935455631201178, 'reg_lambda': 1.4242809354864632}. Best is trial 52 with value: 0.31375916979781715.\u001b[0m\n",
      "C:\\Users\\haric\\anaconda3\\lib\\site-packages\\lightgbm\\sklearn.py:726: UserWarning: 'early_stopping_rounds' argument is deprecated and will be removed in a future release of LightGBM. Pass 'early_stopping()' callback via 'callbacks' argument instead.\n",
      "  _log_warning(\"'early_stopping_rounds' argument is deprecated and will be removed in a future release of LightGBM. \"\n",
      "C:\\Users\\haric\\anaconda3\\lib\\site-packages\\lightgbm\\sklearn.py:736: UserWarning: 'verbose' argument is deprecated and will be removed in a future release of LightGBM. Pass 'log_evaluation()' callback via 'callbacks' argument instead.\n",
      "  _log_warning(\"'verbose' argument is deprecated and will be removed in a future release of LightGBM. \"\n",
      "\u001b[32m[I 2023-05-07 18:12:43,536]\u001b[0m Trial 64 finished with value: 0.26998620998099215 and parameters: {'n_estimators': 52, 'learning_rate': 0.18539093740713739, 'num_leaves': 30, 'min_child_samples': 16, 'max_depth': 4, 'colsample_bytree': 0.9920130301141908, 'subsample': 0.7970472375971478, 'reg_alpha': 0.4931274154312623, 'reg_lambda': 0.9501012814750887}. Best is trial 52 with value: 0.31375916979781715.\u001b[0m\n",
      "C:\\Users\\haric\\anaconda3\\lib\\site-packages\\lightgbm\\sklearn.py:726: UserWarning: 'early_stopping_rounds' argument is deprecated and will be removed in a future release of LightGBM. Pass 'early_stopping()' callback via 'callbacks' argument instead.\n",
      "  _log_warning(\"'early_stopping_rounds' argument is deprecated and will be removed in a future release of LightGBM. \"\n",
      "C:\\Users\\haric\\anaconda3\\lib\\site-packages\\lightgbm\\sklearn.py:736: UserWarning: 'verbose' argument is deprecated and will be removed in a future release of LightGBM. Pass 'log_evaluation()' callback via 'callbacks' argument instead.\n",
      "  _log_warning(\"'verbose' argument is deprecated and will be removed in a future release of LightGBM. \"\n",
      "\u001b[32m[I 2023-05-07 18:12:45,000]\u001b[0m Trial 65 finished with value: 0.04807516876482394 and parameters: {'n_estimators': 79, 'learning_rate': 0.016096802293624122, 'num_leaves': 15, 'min_child_samples': 10, 'max_depth': 0, 'colsample_bytree': 0.655530869059764, 'subsample': 0.8563498979212858, 'reg_alpha': 0.27282012659871724, 'reg_lambda': 0.5185009249857948}. Best is trial 52 with value: 0.31375916979781715.\u001b[0m\n",
      "C:\\Users\\haric\\anaconda3\\lib\\site-packages\\lightgbm\\sklearn.py:726: UserWarning: 'early_stopping_rounds' argument is deprecated and will be removed in a future release of LightGBM. Pass 'early_stopping()' callback via 'callbacks' argument instead.\n",
      "  _log_warning(\"'early_stopping_rounds' argument is deprecated and will be removed in a future release of LightGBM. \"\n",
      "C:\\Users\\haric\\anaconda3\\lib\\site-packages\\lightgbm\\sklearn.py:736: UserWarning: 'verbose' argument is deprecated and will be removed in a future release of LightGBM. Pass 'log_evaluation()' callback via 'callbacks' argument instead.\n",
      "  _log_warning(\"'verbose' argument is deprecated and will be removed in a future release of LightGBM. \"\n",
      "\u001b[32m[I 2023-05-07 18:12:47,031]\u001b[0m Trial 66 finished with value: 0.19674615200574208 and parameters: {'n_estimators': 270, 'learning_rate': 0.0953183664123116, 'num_leaves': 37, 'min_child_samples': 12, 'max_depth': 1, 'colsample_bytree': 0.6163474465065916, 'subsample': 0.6675740252288658, 'reg_alpha': 0.41788550854793793, 'reg_lambda': 0.2655157264151202}. Best is trial 52 with value: 0.31375916979781715.\u001b[0m\n",
      "C:\\Users\\haric\\anaconda3\\lib\\site-packages\\lightgbm\\sklearn.py:726: UserWarning: 'early_stopping_rounds' argument is deprecated and will be removed in a future release of LightGBM. Pass 'early_stopping()' callback via 'callbacks' argument instead.\n",
      "  _log_warning(\"'early_stopping_rounds' argument is deprecated and will be removed in a future release of LightGBM. \"\n",
      "C:\\Users\\haric\\anaconda3\\lib\\site-packages\\lightgbm\\sklearn.py:736: UserWarning: 'verbose' argument is deprecated and will be removed in a future release of LightGBM. Pass 'log_evaluation()' callback via 'callbacks' argument instead.\n",
      "  _log_warning(\"'verbose' argument is deprecated and will be removed in a future release of LightGBM. \"\n",
      "\u001b[32m[I 2023-05-07 18:12:47,872]\u001b[0m Trial 67 finished with value: 0.0 and parameters: {'n_estimators': 35, 'learning_rate': 0.025006538349019565, 'num_leaves': 28, 'min_child_samples': 14, 'max_depth': 3, 'colsample_bytree': 0.8013669083419428, 'subsample': 0.876157931451746, 'reg_alpha': 0.058968209761648405, 'reg_lambda': 1.199115598363564}. Best is trial 52 with value: 0.31375916979781715.\u001b[0m\n",
      "C:\\Users\\haric\\anaconda3\\lib\\site-packages\\lightgbm\\sklearn.py:726: UserWarning: 'early_stopping_rounds' argument is deprecated and will be removed in a future release of LightGBM. Pass 'early_stopping()' callback via 'callbacks' argument instead.\n",
      "  _log_warning(\"'early_stopping_rounds' argument is deprecated and will be removed in a future release of LightGBM. \"\n",
      "C:\\Users\\haric\\anaconda3\\lib\\site-packages\\lightgbm\\sklearn.py:736: UserWarning: 'verbose' argument is deprecated and will be removed in a future release of LightGBM. Pass 'log_evaluation()' callback via 'callbacks' argument instead.\n",
      "  _log_warning(\"'verbose' argument is deprecated and will be removed in a future release of LightGBM. \"\n",
      "\u001b[32m[I 2023-05-07 18:12:51,510]\u001b[0m Trial 68 finished with value: 0.2547303237643821 and parameters: {'n_estimators': 192, 'learning_rate': 0.017270047357825512, 'num_leaves': 45, 'min_child_samples': 47, 'max_depth': -1, 'colsample_bytree': 0.7107510592588815, 'subsample': 0.9224805119172246, 'reg_alpha': 1.1223895355754876, 'reg_lambda': 0.276781529034566}. Best is trial 52 with value: 0.31375916979781715.\u001b[0m\n",
      "C:\\Users\\haric\\anaconda3\\lib\\site-packages\\lightgbm\\sklearn.py:726: UserWarning: 'early_stopping_rounds' argument is deprecated and will be removed in a future release of LightGBM. Pass 'early_stopping()' callback via 'callbacks' argument instead.\n",
      "  _log_warning(\"'early_stopping_rounds' argument is deprecated and will be removed in a future release of LightGBM. \"\n",
      "C:\\Users\\haric\\anaconda3\\lib\\site-packages\\lightgbm\\sklearn.py:736: UserWarning: 'verbose' argument is deprecated and will be removed in a future release of LightGBM. Pass 'log_evaluation()' callback via 'callbacks' argument instead.\n",
      "  _log_warning(\"'verbose' argument is deprecated and will be removed in a future release of LightGBM. \"\n",
      "\u001b[32m[I 2023-05-07 18:12:52,589]\u001b[0m Trial 69 finished with value: 0.23336943069306934 and parameters: {'n_estimators': 70, 'learning_rate': 0.07472394845548502, 'num_leaves': 29, 'min_child_samples': 33, 'max_depth': 3, 'colsample_bytree': 0.7850138864532592, 'subsample': 0.8989883752535026, 'reg_alpha': 0.05502480433589685, 'reg_lambda': 0.37865541651603113}. Best is trial 52 with value: 0.31375916979781715.\u001b[0m\n",
      "C:\\Users\\haric\\anaconda3\\lib\\site-packages\\lightgbm\\sklearn.py:726: UserWarning: 'early_stopping_rounds' argument is deprecated and will be removed in a future release of LightGBM. Pass 'early_stopping()' callback via 'callbacks' argument instead.\n",
      "  _log_warning(\"'early_stopping_rounds' argument is deprecated and will be removed in a future release of LightGBM. \"\n",
      "C:\\Users\\haric\\anaconda3\\lib\\site-packages\\lightgbm\\sklearn.py:736: UserWarning: 'verbose' argument is deprecated and will be removed in a future release of LightGBM. Pass 'log_evaluation()' callback via 'callbacks' argument instead.\n",
      "  _log_warning(\"'verbose' argument is deprecated and will be removed in a future release of LightGBM. \"\n",
      "\u001b[32m[I 2023-05-07 18:12:53,598]\u001b[0m Trial 70 finished with value: 0.2704452222347672 and parameters: {'n_estimators': 217, 'learning_rate': 0.17914616069975267, 'num_leaves': 30, 'min_child_samples': 29, 'max_depth': 0, 'colsample_bytree': 0.7789649467293819, 'subsample': 0.8130469065820093, 'reg_alpha': 0.3637057554520945, 'reg_lambda': 0.40386484642407144}. Best is trial 52 with value: 0.31375916979781715.\u001b[0m\n",
      "C:\\Users\\haric\\anaconda3\\lib\\site-packages\\lightgbm\\sklearn.py:726: UserWarning: 'early_stopping_rounds' argument is deprecated and will be removed in a future release of LightGBM. Pass 'early_stopping()' callback via 'callbacks' argument instead.\n",
      "  _log_warning(\"'early_stopping_rounds' argument is deprecated and will be removed in a future release of LightGBM. \"\n",
      "C:\\Users\\haric\\anaconda3\\lib\\site-packages\\lightgbm\\sklearn.py:736: UserWarning: 'verbose' argument is deprecated and will be removed in a future release of LightGBM. Pass 'log_evaluation()' callback via 'callbacks' argument instead.\n",
      "  _log_warning(\"'verbose' argument is deprecated and will be removed in a future release of LightGBM. \"\n",
      "\u001b[32m[I 2023-05-07 18:12:55,085]\u001b[0m Trial 71 finished with value: 0.0 and parameters: {'n_estimators': 119, 'learning_rate': 0.004994168357767548, 'num_leaves': 23, 'min_child_samples': 14, 'max_depth': 2, 'colsample_bytree': 0.6479048527277005, 'subsample': 0.956210912295958, 'reg_alpha': 0.890388680331073, 'reg_lambda': 1.0186534787167343}. Best is trial 52 with value: 0.31375916979781715.\u001b[0m\n",
      "C:\\Users\\haric\\anaconda3\\lib\\site-packages\\lightgbm\\sklearn.py:726: UserWarning: 'early_stopping_rounds' argument is deprecated and will be removed in a future release of LightGBM. Pass 'early_stopping()' callback via 'callbacks' argument instead.\n",
      "  _log_warning(\"'early_stopping_rounds' argument is deprecated and will be removed in a future release of LightGBM. \"\n",
      "C:\\Users\\haric\\anaconda3\\lib\\site-packages\\lightgbm\\sklearn.py:736: UserWarning: 'verbose' argument is deprecated and will be removed in a future release of LightGBM. Pass 'log_evaluation()' callback via 'callbacks' argument instead.\n",
      "  _log_warning(\"'verbose' argument is deprecated and will be removed in a future release of LightGBM. \"\n",
      "\u001b[32m[I 2023-05-07 18:12:56,353]\u001b[0m Trial 72 finished with value: 0.2859869338618513 and parameters: {'n_estimators': 239, 'learning_rate': 0.1001899975868824, 'num_leaves': 13, 'min_child_samples': 29, 'max_depth': 6, 'colsample_bytree': 0.8981757896737319, 'subsample': 0.7726638184918717, 'reg_alpha': 0.19137045419334564, 'reg_lambda': 0.4256638586980867}. Best is trial 52 with value: 0.31375916979781715.\u001b[0m\n",
      "C:\\Users\\haric\\anaconda3\\lib\\site-packages\\lightgbm\\sklearn.py:726: UserWarning: 'early_stopping_rounds' argument is deprecated and will be removed in a future release of LightGBM. Pass 'early_stopping()' callback via 'callbacks' argument instead.\n",
      "  _log_warning(\"'early_stopping_rounds' argument is deprecated and will be removed in a future release of LightGBM. \"\n",
      "C:\\Users\\haric\\anaconda3\\lib\\site-packages\\lightgbm\\sklearn.py:736: UserWarning: 'verbose' argument is deprecated and will be removed in a future release of LightGBM. Pass 'log_evaluation()' callback via 'callbacks' argument instead.\n",
      "  _log_warning(\"'verbose' argument is deprecated and will be removed in a future release of LightGBM. \"\n",
      "\u001b[32m[I 2023-05-07 18:12:57,390]\u001b[0m Trial 73 finished with value: 0.24653942548679392 and parameters: {'n_estimators': 115, 'learning_rate': 0.12953753102498866, 'num_leaves': 33, 'min_child_samples': 21, 'max_depth': 10, 'colsample_bytree': 0.8423099277427548, 'subsample': 0.6948907166943978, 'reg_alpha': 0.1526737089306056, 'reg_lambda': 0.22928870877649804}. Best is trial 52 with value: 0.31375916979781715.\u001b[0m\n",
      "C:\\Users\\haric\\anaconda3\\lib\\site-packages\\lightgbm\\sklearn.py:726: UserWarning: 'early_stopping_rounds' argument is deprecated and will be removed in a future release of LightGBM. Pass 'early_stopping()' callback via 'callbacks' argument instead.\n",
      "  _log_warning(\"'early_stopping_rounds' argument is deprecated and will be removed in a future release of LightGBM. \"\n",
      "C:\\Users\\haric\\anaconda3\\lib\\site-packages\\lightgbm\\sklearn.py:736: UserWarning: 'verbose' argument is deprecated and will be removed in a future release of LightGBM. Pass 'log_evaluation()' callback via 'callbacks' argument instead.\n",
      "  _log_warning(\"'verbose' argument is deprecated and will be removed in a future release of LightGBM. \"\n",
      "\u001b[32m[I 2023-05-07 18:12:58,228]\u001b[0m Trial 74 finished with value: 0.0 and parameters: {'n_estimators': 81, 'learning_rate': 0.03297559327865158, 'num_leaves': 17, 'min_child_samples': 18, 'max_depth': 1, 'colsample_bytree': 0.9587061698505701, 'subsample': 0.6320934982646569, 'reg_alpha': 0.786767084355382, 'reg_lambda': 0.6155952404844922}. Best is trial 52 with value: 0.31375916979781715.\u001b[0m\n",
      "C:\\Users\\haric\\anaconda3\\lib\\site-packages\\lightgbm\\sklearn.py:726: UserWarning: 'early_stopping_rounds' argument is deprecated and will be removed in a future release of LightGBM. Pass 'early_stopping()' callback via 'callbacks' argument instead.\n",
      "  _log_warning(\"'early_stopping_rounds' argument is deprecated and will be removed in a future release of LightGBM. \"\n",
      "C:\\Users\\haric\\anaconda3\\lib\\site-packages\\lightgbm\\sklearn.py:736: UserWarning: 'verbose' argument is deprecated and will be removed in a future release of LightGBM. Pass 'log_evaluation()' callback via 'callbacks' argument instead.\n",
      "  _log_warning(\"'verbose' argument is deprecated and will be removed in a future release of LightGBM. \"\n",
      "\u001b[32m[I 2023-05-07 18:13:01,513]\u001b[0m Trial 75 finished with value: 0.2748577418388739 and parameters: {'n_estimators': 295, 'learning_rate': 0.02329574153144242, 'num_leaves': 26, 'min_child_samples': 49, 'max_depth': 9, 'colsample_bytree': 0.9268288283797119, 'subsample': 0.7031611308179759, 'reg_alpha': 0.25633138108509873, 'reg_lambda': 1.0029648298866465}. Best is trial 52 with value: 0.31375916979781715.\u001b[0m\n",
      "C:\\Users\\haric\\anaconda3\\lib\\site-packages\\lightgbm\\sklearn.py:726: UserWarning: 'early_stopping_rounds' argument is deprecated and will be removed in a future release of LightGBM. Pass 'early_stopping()' callback via 'callbacks' argument instead.\n",
      "  _log_warning(\"'early_stopping_rounds' argument is deprecated and will be removed in a future release of LightGBM. \"\n",
      "C:\\Users\\haric\\anaconda3\\lib\\site-packages\\lightgbm\\sklearn.py:736: UserWarning: 'verbose' argument is deprecated and will be removed in a future release of LightGBM. Pass 'log_evaluation()' callback via 'callbacks' argument instead.\n",
      "  _log_warning(\"'verbose' argument is deprecated and will be removed in a future release of LightGBM. \"\n",
      "\u001b[32m[I 2023-05-07 18:13:02,821]\u001b[0m Trial 76 finished with value: 0.2616956850870552 and parameters: {'n_estimators': 280, 'learning_rate': 0.11179581570977204, 'num_leaves': 33, 'min_child_samples': 17, 'max_depth': 8, 'colsample_bytree': 0.6748174994230093, 'subsample': 0.7294716945616975, 'reg_alpha': 0.6381546579246251, 'reg_lambda': 0.7614155680266825}. Best is trial 52 with value: 0.31375916979781715.\u001b[0m\n",
      "C:\\Users\\haric\\anaconda3\\lib\\site-packages\\lightgbm\\sklearn.py:726: UserWarning: 'early_stopping_rounds' argument is deprecated and will be removed in a future release of LightGBM. Pass 'early_stopping()' callback via 'callbacks' argument instead.\n",
      "  _log_warning(\"'early_stopping_rounds' argument is deprecated and will be removed in a future release of LightGBM. \"\n",
      "C:\\Users\\haric\\anaconda3\\lib\\site-packages\\lightgbm\\sklearn.py:736: UserWarning: 'verbose' argument is deprecated and will be removed in a future release of LightGBM. Pass 'log_evaluation()' callback via 'callbacks' argument instead.\n",
      "  _log_warning(\"'verbose' argument is deprecated and will be removed in a future release of LightGBM. \"\n",
      "\u001b[32m[I 2023-05-07 18:13:04,289]\u001b[0m Trial 77 finished with value: 0.15713629338791196 and parameters: {'n_estimators': 80, 'learning_rate': 0.023852528123101506, 'num_leaves': 35, 'min_child_samples': 18, 'max_depth': 5, 'colsample_bytree': 0.6617450861096809, 'subsample': 0.792456040741927, 'reg_alpha': 0.7988841488273788, 'reg_lambda': 0.07773530523364036}. Best is trial 52 with value: 0.31375916979781715.\u001b[0m\n",
      "C:\\Users\\haric\\anaconda3\\lib\\site-packages\\lightgbm\\sklearn.py:726: UserWarning: 'early_stopping_rounds' argument is deprecated and will be removed in a future release of LightGBM. Pass 'early_stopping()' callback via 'callbacks' argument instead.\n",
      "  _log_warning(\"'early_stopping_rounds' argument is deprecated and will be removed in a future release of LightGBM. \"\n",
      "C:\\Users\\haric\\anaconda3\\lib\\site-packages\\lightgbm\\sklearn.py:736: UserWarning: 'verbose' argument is deprecated and will be removed in a future release of LightGBM. Pass 'log_evaluation()' callback via 'callbacks' argument instead.\n",
      "  _log_warning(\"'verbose' argument is deprecated and will be removed in a future release of LightGBM. \"\n",
      "\u001b[32m[I 2023-05-07 18:13:05,464]\u001b[0m Trial 78 finished with value: 0.08545197740112995 and parameters: {'n_estimators': 107, 'learning_rate': 0.027748520710855876, 'num_leaves': 12, 'min_child_samples': 50, 'max_depth': 2, 'colsample_bytree': 0.923949778341854, 'subsample': 0.7018562619055055, 'reg_alpha': 1.022254083335894, 'reg_lambda': 1.1403417898345298}. Best is trial 52 with value: 0.31375916979781715.\u001b[0m\n",
      "C:\\Users\\haric\\anaconda3\\lib\\site-packages\\lightgbm\\sklearn.py:726: UserWarning: 'early_stopping_rounds' argument is deprecated and will be removed in a future release of LightGBM. Pass 'early_stopping()' callback via 'callbacks' argument instead.\n",
      "  _log_warning(\"'early_stopping_rounds' argument is deprecated and will be removed in a future release of LightGBM. \"\n",
      "C:\\Users\\haric\\anaconda3\\lib\\site-packages\\lightgbm\\sklearn.py:736: UserWarning: 'verbose' argument is deprecated and will be removed in a future release of LightGBM. Pass 'log_evaluation()' callback via 'callbacks' argument instead.\n",
      "  _log_warning(\"'verbose' argument is deprecated and will be removed in a future release of LightGBM. \"\n",
      "\u001b[32m[I 2023-05-07 18:13:06,961]\u001b[0m Trial 79 finished with value: 0.28013247497488186 and parameters: {'n_estimators': 183, 'learning_rate': 0.09484366152148152, 'num_leaves': 26, 'min_child_samples': 21, 'max_depth': 10, 'colsample_bytree': 0.9322477631150916, 'subsample': 0.986010764266605, 'reg_alpha': 0.1864458352283171, 'reg_lambda': 1.0963012128054663}. Best is trial 52 with value: 0.31375916979781715.\u001b[0m\n",
      "C:\\Users\\haric\\anaconda3\\lib\\site-packages\\lightgbm\\sklearn.py:726: UserWarning: 'early_stopping_rounds' argument is deprecated and will be removed in a future release of LightGBM. Pass 'early_stopping()' callback via 'callbacks' argument instead.\n",
      "  _log_warning(\"'early_stopping_rounds' argument is deprecated and will be removed in a future release of LightGBM. \"\n",
      "C:\\Users\\haric\\anaconda3\\lib\\site-packages\\lightgbm\\sklearn.py:736: UserWarning: 'verbose' argument is deprecated and will be removed in a future release of LightGBM. Pass 'log_evaluation()' callback via 'callbacks' argument instead.\n",
      "  _log_warning(\"'verbose' argument is deprecated and will be removed in a future release of LightGBM. \"\n",
      "\u001b[32m[I 2023-05-07 18:13:09,350]\u001b[0m Trial 80 finished with value: 0.2732659982855652 and parameters: {'n_estimators': 283, 'learning_rate': 0.03706538016696637, 'num_leaves': 12, 'min_child_samples': 39, 'max_depth': 5, 'colsample_bytree': 0.9367315107033088, 'subsample': 0.6559089506505158, 'reg_alpha': 1.1929009677898352, 'reg_lambda': 0.3024409800716168}. Best is trial 52 with value: 0.31375916979781715.\u001b[0m\n",
      "C:\\Users\\haric\\anaconda3\\lib\\site-packages\\lightgbm\\sklearn.py:726: UserWarning: 'early_stopping_rounds' argument is deprecated and will be removed in a future release of LightGBM. Pass 'early_stopping()' callback via 'callbacks' argument instead.\n",
      "  _log_warning(\"'early_stopping_rounds' argument is deprecated and will be removed in a future release of LightGBM. \"\n",
      "C:\\Users\\haric\\anaconda3\\lib\\site-packages\\lightgbm\\sklearn.py:736: UserWarning: 'verbose' argument is deprecated and will be removed in a future release of LightGBM. Pass 'log_evaluation()' callback via 'callbacks' argument instead.\n",
      "  _log_warning(\"'verbose' argument is deprecated and will be removed in a future release of LightGBM. \"\n",
      "\u001b[32m[I 2023-05-07 18:13:10,544]\u001b[0m Trial 81 finished with value: 0.16309262101289976 and parameters: {'n_estimators': 57, 'learning_rate': 0.033688893788267595, 'num_leaves': 43, 'min_child_samples': 35, 'max_depth': 5, 'colsample_bytree': 0.743532193649401, 'subsample': 0.9508802163252433, 'reg_alpha': 0.5886676611339531, 'reg_lambda': 1.2248991592073657}. Best is trial 52 with value: 0.31375916979781715.\u001b[0m\n",
      "C:\\Users\\haric\\anaconda3\\lib\\site-packages\\lightgbm\\sklearn.py:726: UserWarning: 'early_stopping_rounds' argument is deprecated and will be removed in a future release of LightGBM. Pass 'early_stopping()' callback via 'callbacks' argument instead.\n",
      "  _log_warning(\"'early_stopping_rounds' argument is deprecated and will be removed in a future release of LightGBM. \"\n",
      "C:\\Users\\haric\\anaconda3\\lib\\site-packages\\lightgbm\\sklearn.py:736: UserWarning: 'verbose' argument is deprecated and will be removed in a future release of LightGBM. Pass 'log_evaluation()' callback via 'callbacks' argument instead.\n",
      "  _log_warning(\"'verbose' argument is deprecated and will be removed in a future release of LightGBM. \"\n",
      "\u001b[32m[I 2023-05-07 18:13:12,122]\u001b[0m Trial 82 finished with value: 0.28983274647887325 and parameters: {'n_estimators': 137, 'learning_rate': 0.07601194145555662, 'num_leaves': 28, 'min_child_samples': 18, 'max_depth': 7, 'colsample_bytree': 0.8010881560369917, 'subsample': 0.6928850780587269, 'reg_alpha': 1.3493618599118526, 'reg_lambda': 0.5758368320598171}. Best is trial 52 with value: 0.31375916979781715.\u001b[0m\n",
      "C:\\Users\\haric\\anaconda3\\lib\\site-packages\\lightgbm\\sklearn.py:726: UserWarning: 'early_stopping_rounds' argument is deprecated and will be removed in a future release of LightGBM. Pass 'early_stopping()' callback via 'callbacks' argument instead.\n",
      "  _log_warning(\"'early_stopping_rounds' argument is deprecated and will be removed in a future release of LightGBM. \"\n",
      "C:\\Users\\haric\\anaconda3\\lib\\site-packages\\lightgbm\\sklearn.py:736: UserWarning: 'verbose' argument is deprecated and will be removed in a future release of LightGBM. Pass 'log_evaluation()' callback via 'callbacks' argument instead.\n",
      "  _log_warning(\"'verbose' argument is deprecated and will be removed in a future release of LightGBM. \"\n",
      "\u001b[32m[I 2023-05-07 18:13:13,226]\u001b[0m Trial 83 finished with value: 0.28088387957882244 and parameters: {'n_estimators': 168, 'learning_rate': 0.18138795008194486, 'num_leaves': 35, 'min_child_samples': 10, 'max_depth': 10, 'colsample_bytree': 0.851083221228567, 'subsample': 0.7339622458628344, 'reg_alpha': 0.2089081089950809, 'reg_lambda': 1.191037783905444}. Best is trial 52 with value: 0.31375916979781715.\u001b[0m\n",
      "C:\\Users\\haric\\anaconda3\\lib\\site-packages\\lightgbm\\sklearn.py:726: UserWarning: 'early_stopping_rounds' argument is deprecated and will be removed in a future release of LightGBM. Pass 'early_stopping()' callback via 'callbacks' argument instead.\n",
      "  _log_warning(\"'early_stopping_rounds' argument is deprecated and will be removed in a future release of LightGBM. \"\n",
      "C:\\Users\\haric\\anaconda3\\lib\\site-packages\\lightgbm\\sklearn.py:736: UserWarning: 'verbose' argument is deprecated and will be removed in a future release of LightGBM. Pass 'log_evaluation()' callback via 'callbacks' argument instead.\n",
      "  _log_warning(\"'verbose' argument is deprecated and will be removed in a future release of LightGBM. \"\n",
      "\u001b[32m[I 2023-05-07 18:13:14,490]\u001b[0m Trial 84 finished with value: 0.2679231059178289 and parameters: {'n_estimators': 190, 'learning_rate': 0.10715875730328799, 'num_leaves': 46, 'min_child_samples': 41, 'max_depth': 0, 'colsample_bytree': 0.7246888271182192, 'subsample': 0.6993956559257863, 'reg_alpha': 1.1159194388590155, 'reg_lambda': 0.05029865210366907}. Best is trial 52 with value: 0.31375916979781715.\u001b[0m\n",
      "C:\\Users\\haric\\anaconda3\\lib\\site-packages\\lightgbm\\sklearn.py:726: UserWarning: 'early_stopping_rounds' argument is deprecated and will be removed in a future release of LightGBM. Pass 'early_stopping()' callback via 'callbacks' argument instead.\n",
      "  _log_warning(\"'early_stopping_rounds' argument is deprecated and will be removed in a future release of LightGBM. \"\n",
      "C:\\Users\\haric\\anaconda3\\lib\\site-packages\\lightgbm\\sklearn.py:736: UserWarning: 'verbose' argument is deprecated and will be removed in a future release of LightGBM. Pass 'log_evaluation()' callback via 'callbacks' argument instead.\n",
      "  _log_warning(\"'verbose' argument is deprecated and will be removed in a future release of LightGBM. \"\n",
      "\u001b[32m[I 2023-05-07 18:13:15,498]\u001b[0m Trial 85 finished with value: 0.2286138575169018 and parameters: {'n_estimators': 175, 'learning_rate': 0.15272927846239742, 'num_leaves': 45, 'min_child_samples': 20, 'max_depth': 8, 'colsample_bytree': 0.6442526947820829, 'subsample': 0.9385809166938073, 'reg_alpha': 0.19123299349797362, 'reg_lambda': 0.5959309358405509}. Best is trial 52 with value: 0.31375916979781715.\u001b[0m\n",
      "C:\\Users\\haric\\anaconda3\\lib\\site-packages\\lightgbm\\sklearn.py:726: UserWarning: 'early_stopping_rounds' argument is deprecated and will be removed in a future release of LightGBM. Pass 'early_stopping()' callback via 'callbacks' argument instead.\n",
      "  _log_warning(\"'early_stopping_rounds' argument is deprecated and will be removed in a future release of LightGBM. \"\n",
      "C:\\Users\\haric\\anaconda3\\lib\\site-packages\\lightgbm\\sklearn.py:736: UserWarning: 'verbose' argument is deprecated and will be removed in a future release of LightGBM. Pass 'log_evaluation()' callback via 'callbacks' argument instead.\n",
      "  _log_warning(\"'verbose' argument is deprecated and will be removed in a future release of LightGBM. \"\n",
      "\u001b[32m[I 2023-05-07 18:13:17,938]\u001b[0m Trial 86 finished with value: 0.27014858171994593 and parameters: {'n_estimators': 242, 'learning_rate': 0.030833568042405984, 'num_leaves': 19, 'min_child_samples': 38, 'max_depth': 7, 'colsample_bytree': 0.856459053154119, 'subsample': 0.8775793777868399, 'reg_alpha': 0.8140866650213943, 'reg_lambda': 0.37769858836042913}. Best is trial 52 with value: 0.31375916979781715.\u001b[0m\n",
      "C:\\Users\\haric\\anaconda3\\lib\\site-packages\\lightgbm\\sklearn.py:726: UserWarning: 'early_stopping_rounds' argument is deprecated and will be removed in a future release of LightGBM. Pass 'early_stopping()' callback via 'callbacks' argument instead.\n",
      "  _log_warning(\"'early_stopping_rounds' argument is deprecated and will be removed in a future release of LightGBM. \"\n",
      "C:\\Users\\haric\\anaconda3\\lib\\site-packages\\lightgbm\\sklearn.py:736: UserWarning: 'verbose' argument is deprecated and will be removed in a future release of LightGBM. Pass 'log_evaluation()' callback via 'callbacks' argument instead.\n",
      "  _log_warning(\"'verbose' argument is deprecated and will be removed in a future release of LightGBM. \"\n",
      "\u001b[32m[I 2023-05-07 18:13:19,286]\u001b[0m Trial 87 finished with value: 0.20793259677291154 and parameters: {'n_estimators': 110, 'learning_rate': 0.03713794564348371, 'num_leaves': 47, 'min_child_samples': 31, 'max_depth': 3, 'colsample_bytree': 0.784802321457653, 'subsample': 0.9789133358447262, 'reg_alpha': 0.2300271046741203, 'reg_lambda': 0.8793447480251959}. Best is trial 52 with value: 0.31375916979781715.\u001b[0m\n",
      "C:\\Users\\haric\\anaconda3\\lib\\site-packages\\lightgbm\\sklearn.py:726: UserWarning: 'early_stopping_rounds' argument is deprecated and will be removed in a future release of LightGBM. Pass 'early_stopping()' callback via 'callbacks' argument instead.\n",
      "  _log_warning(\"'early_stopping_rounds' argument is deprecated and will be removed in a future release of LightGBM. \"\n",
      "C:\\Users\\haric\\anaconda3\\lib\\site-packages\\lightgbm\\sklearn.py:736: UserWarning: 'verbose' argument is deprecated and will be removed in a future release of LightGBM. Pass 'log_evaluation()' callback via 'callbacks' argument instead.\n",
      "  _log_warning(\"'verbose' argument is deprecated and will be removed in a future release of LightGBM. \"\n",
      "\u001b[32m[I 2023-05-07 18:13:20,610]\u001b[0m Trial 88 finished with value: 0.2804696789536266 and parameters: {'n_estimators': 157, 'learning_rate': 0.12267939285149493, 'num_leaves': 10, 'min_child_samples': 45, 'max_depth': 10, 'colsample_bytree': 0.8260532734356836, 'subsample': 0.8786603295507569, 'reg_alpha': 1.3837490717659435, 'reg_lambda': 1.060857951470098}. Best is trial 52 with value: 0.31375916979781715.\u001b[0m\n",
      "C:\\Users\\haric\\anaconda3\\lib\\site-packages\\lightgbm\\sklearn.py:726: UserWarning: 'early_stopping_rounds' argument is deprecated and will be removed in a future release of LightGBM. Pass 'early_stopping()' callback via 'callbacks' argument instead.\n",
      "  _log_warning(\"'early_stopping_rounds' argument is deprecated and will be removed in a future release of LightGBM. \"\n",
      "C:\\Users\\haric\\anaconda3\\lib\\site-packages\\lightgbm\\sklearn.py:736: UserWarning: 'verbose' argument is deprecated and will be removed in a future release of LightGBM. Pass 'log_evaluation()' callback via 'callbacks' argument instead.\n",
      "  _log_warning(\"'verbose' argument is deprecated and will be removed in a future release of LightGBM. \"\n",
      "\u001b[32m[I 2023-05-07 18:13:21,605]\u001b[0m Trial 89 finished with value: 0.244990577285489 and parameters: {'n_estimators': 54, 'learning_rate': 0.11568138367319583, 'num_leaves': 34, 'min_child_samples': 24, 'max_depth': 7, 'colsample_bytree': 0.973746805907606, 'subsample': 0.9702274051627106, 'reg_alpha': 0.6762590571061982, 'reg_lambda': 0.16985706876113288}. Best is trial 52 with value: 0.31375916979781715.\u001b[0m\n",
      "C:\\Users\\haric\\anaconda3\\lib\\site-packages\\lightgbm\\sklearn.py:726: UserWarning: 'early_stopping_rounds' argument is deprecated and will be removed in a future release of LightGBM. Pass 'early_stopping()' callback via 'callbacks' argument instead.\n",
      "  _log_warning(\"'early_stopping_rounds' argument is deprecated and will be removed in a future release of LightGBM. \"\n",
      "C:\\Users\\haric\\anaconda3\\lib\\site-packages\\lightgbm\\sklearn.py:736: UserWarning: 'verbose' argument is deprecated and will be removed in a future release of LightGBM. Pass 'log_evaluation()' callback via 'callbacks' argument instead.\n",
      "  _log_warning(\"'verbose' argument is deprecated and will be removed in a future release of LightGBM. \"\n",
      "\u001b[32m[I 2023-05-07 18:13:22,699]\u001b[0m Trial 90 finished with value: 0.25703543351942576 and parameters: {'n_estimators': 296, 'learning_rate': 0.1679407192027409, 'num_leaves': 15, 'min_child_samples': 47, 'max_depth': 9, 'colsample_bytree': 0.8075352228504289, 'subsample': 0.8365101742979717, 'reg_alpha': 0.5985040558051954, 'reg_lambda': 0.082142458233047}. Best is trial 52 with value: 0.31375916979781715.\u001b[0m\n",
      "C:\\Users\\haric\\anaconda3\\lib\\site-packages\\lightgbm\\sklearn.py:726: UserWarning: 'early_stopping_rounds' argument is deprecated and will be removed in a future release of LightGBM. Pass 'early_stopping()' callback via 'callbacks' argument instead.\n",
      "  _log_warning(\"'early_stopping_rounds' argument is deprecated and will be removed in a future release of LightGBM. \"\n",
      "C:\\Users\\haric\\anaconda3\\lib\\site-packages\\lightgbm\\sklearn.py:736: UserWarning: 'verbose' argument is deprecated and will be removed in a future release of LightGBM. Pass 'log_evaluation()' callback via 'callbacks' argument instead.\n",
      "  _log_warning(\"'verbose' argument is deprecated and will be removed in a future release of LightGBM. \"\n",
      "\u001b[32m[I 2023-05-07 18:13:23,836]\u001b[0m Trial 91 finished with value: 0.3029253688273275 and parameters: {'n_estimators': 107, 'learning_rate': 0.1607678362710043, 'num_leaves': 10, 'min_child_samples': 20, 'max_depth': 3, 'colsample_bytree': 0.8149582411751691, 'subsample': 0.9679422465651042, 'reg_alpha': 0.5195189915489419, 'reg_lambda': 0.5204298028443415}. Best is trial 52 with value: 0.31375916979781715.\u001b[0m\n",
      "C:\\Users\\haric\\anaconda3\\lib\\site-packages\\lightgbm\\sklearn.py:726: UserWarning: 'early_stopping_rounds' argument is deprecated and will be removed in a future release of LightGBM. Pass 'early_stopping()' callback via 'callbacks' argument instead.\n",
      "  _log_warning(\"'early_stopping_rounds' argument is deprecated and will be removed in a future release of LightGBM. \"\n",
      "C:\\Users\\haric\\anaconda3\\lib\\site-packages\\lightgbm\\sklearn.py:736: UserWarning: 'verbose' argument is deprecated and will be removed in a future release of LightGBM. Pass 'log_evaluation()' callback via 'callbacks' argument instead.\n",
      "  _log_warning(\"'verbose' argument is deprecated and will be removed in a future release of LightGBM. \"\n",
      "\u001b[32m[I 2023-05-07 18:13:25,235]\u001b[0m Trial 92 finished with value: 0.2579268292682927 and parameters: {'n_estimators': 224, 'learning_rate': 0.09099137023707163, 'num_leaves': 19, 'min_child_samples': 25, 'max_depth': 0, 'colsample_bytree': 0.6705547946024893, 'subsample': 0.7993471090957919, 'reg_alpha': 0.6283881742568218, 'reg_lambda': 1.3722688516021502}. Best is trial 52 with value: 0.31375916979781715.\u001b[0m\n",
      "C:\\Users\\haric\\anaconda3\\lib\\site-packages\\lightgbm\\sklearn.py:726: UserWarning: 'early_stopping_rounds' argument is deprecated and will be removed in a future release of LightGBM. Pass 'early_stopping()' callback via 'callbacks' argument instead.\n",
      "  _log_warning(\"'early_stopping_rounds' argument is deprecated and will be removed in a future release of LightGBM. \"\n",
      "C:\\Users\\haric\\anaconda3\\lib\\site-packages\\lightgbm\\sklearn.py:736: UserWarning: 'verbose' argument is deprecated and will be removed in a future release of LightGBM. Pass 'log_evaluation()' callback via 'callbacks' argument instead.\n",
      "  _log_warning(\"'verbose' argument is deprecated and will be removed in a future release of LightGBM. \"\n",
      "\u001b[32m[I 2023-05-07 18:13:26,379]\u001b[0m Trial 93 finished with value: 0.274665676077266 and parameters: {'n_estimators': 115, 'learning_rate': 0.11653708170533066, 'num_leaves': 35, 'min_child_samples': 5, 'max_depth': 6, 'colsample_bytree': 0.6712143867479006, 'subsample': 0.984428126987782, 'reg_alpha': 0.22299409162966943, 'reg_lambda': 0.6219361855905357}. Best is trial 52 with value: 0.31375916979781715.\u001b[0m\n",
      "C:\\Users\\haric\\anaconda3\\lib\\site-packages\\lightgbm\\sklearn.py:726: UserWarning: 'early_stopping_rounds' argument is deprecated and will be removed in a future release of LightGBM. Pass 'early_stopping()' callback via 'callbacks' argument instead.\n",
      "  _log_warning(\"'early_stopping_rounds' argument is deprecated and will be removed in a future release of LightGBM. \"\n",
      "C:\\Users\\haric\\anaconda3\\lib\\site-packages\\lightgbm\\sklearn.py:736: UserWarning: 'verbose' argument is deprecated and will be removed in a future release of LightGBM. Pass 'log_evaluation()' callback via 'callbacks' argument instead.\n",
      "  _log_warning(\"'verbose' argument is deprecated and will be removed in a future release of LightGBM. \"\n",
      "\u001b[32m[I 2023-05-07 18:13:27,394]\u001b[0m Trial 94 finished with value: 0.25110805440929235 and parameters: {'n_estimators': 34, 'learning_rate': 0.19937797611734354, 'num_leaves': 30, 'min_child_samples': 32, 'max_depth': -1, 'colsample_bytree': 0.8999841881596711, 'subsample': 0.6839622372382343, 'reg_alpha': 1.3470814341610706, 'reg_lambda': 0.30770946072301075}. Best is trial 52 with value: 0.31375916979781715.\u001b[0m\n",
      "C:\\Users\\haric\\anaconda3\\lib\\site-packages\\lightgbm\\sklearn.py:726: UserWarning: 'early_stopping_rounds' argument is deprecated and will be removed in a future release of LightGBM. Pass 'early_stopping()' callback via 'callbacks' argument instead.\n",
      "  _log_warning(\"'early_stopping_rounds' argument is deprecated and will be removed in a future release of LightGBM. \"\n",
      "C:\\Users\\haric\\anaconda3\\lib\\site-packages\\lightgbm\\sklearn.py:736: UserWarning: 'verbose' argument is deprecated and will be removed in a future release of LightGBM. Pass 'log_evaluation()' callback via 'callbacks' argument instead.\n",
      "  _log_warning(\"'verbose' argument is deprecated and will be removed in a future release of LightGBM. \"\n",
      "\u001b[32m[I 2023-05-07 18:13:28,691]\u001b[0m Trial 95 finished with value: 0.0 and parameters: {'n_estimators': 65, 'learning_rate': 0.008273383901770882, 'num_leaves': 29, 'min_child_samples': 30, 'max_depth': -1, 'colsample_bytree': 0.9102110466780042, 'subsample': 0.781315533899211, 'reg_alpha': 0.78658540399137, 'reg_lambda': 0.6611441204073423}. Best is trial 52 with value: 0.31375916979781715.\u001b[0m\n",
      "C:\\Users\\haric\\anaconda3\\lib\\site-packages\\lightgbm\\sklearn.py:726: UserWarning: 'early_stopping_rounds' argument is deprecated and will be removed in a future release of LightGBM. Pass 'early_stopping()' callback via 'callbacks' argument instead.\n",
      "  _log_warning(\"'early_stopping_rounds' argument is deprecated and will be removed in a future release of LightGBM. \"\n",
      "C:\\Users\\haric\\anaconda3\\lib\\site-packages\\lightgbm\\sklearn.py:736: UserWarning: 'verbose' argument is deprecated and will be removed in a future release of LightGBM. Pass 'log_evaluation()' callback via 'callbacks' argument instead.\n",
      "  _log_warning(\"'verbose' argument is deprecated and will be removed in a future release of LightGBM. \"\n",
      "\u001b[32m[I 2023-05-07 18:13:30,229]\u001b[0m Trial 96 finished with value: 0.2752163002359639 and parameters: {'n_estimators': 126, 'learning_rate': 0.11236842593033537, 'num_leaves': 16, 'min_child_samples': 13, 'max_depth': 9, 'colsample_bytree': 0.9784461848534531, 'subsample': 0.7493237265119012, 'reg_alpha': 0.40611700971533066, 'reg_lambda': 0.9659993148585236}. Best is trial 52 with value: 0.31375916979781715.\u001b[0m\n",
      "C:\\Users\\haric\\anaconda3\\lib\\site-packages\\lightgbm\\sklearn.py:726: UserWarning: 'early_stopping_rounds' argument is deprecated and will be removed in a future release of LightGBM. Pass 'early_stopping()' callback via 'callbacks' argument instead.\n",
      "  _log_warning(\"'early_stopping_rounds' argument is deprecated and will be removed in a future release of LightGBM. \"\n",
      "C:\\Users\\haric\\anaconda3\\lib\\site-packages\\lightgbm\\sklearn.py:736: UserWarning: 'verbose' argument is deprecated and will be removed in a future release of LightGBM. Pass 'log_evaluation()' callback via 'callbacks' argument instead.\n",
      "  _log_warning(\"'verbose' argument is deprecated and will be removed in a future release of LightGBM. \"\n",
      "\u001b[32m[I 2023-05-07 18:13:32,191]\u001b[0m Trial 97 finished with value: 0.0 and parameters: {'n_estimators': 128, 'learning_rate': 0.006051884776408628, 'num_leaves': 16, 'min_child_samples': 37, 'max_depth': 6, 'colsample_bytree': 0.6108383970013934, 'subsample': 0.6887888647731798, 'reg_alpha': 0.3466121948821071, 'reg_lambda': 1.0078391153980926}. Best is trial 52 with value: 0.31375916979781715.\u001b[0m\n",
      "C:\\Users\\haric\\anaconda3\\lib\\site-packages\\lightgbm\\sklearn.py:726: UserWarning: 'early_stopping_rounds' argument is deprecated and will be removed in a future release of LightGBM. Pass 'early_stopping()' callback via 'callbacks' argument instead.\n",
      "  _log_warning(\"'early_stopping_rounds' argument is deprecated and will be removed in a future release of LightGBM. \"\n",
      "C:\\Users\\haric\\anaconda3\\lib\\site-packages\\lightgbm\\sklearn.py:736: UserWarning: 'verbose' argument is deprecated and will be removed in a future release of LightGBM. Pass 'log_evaluation()' callback via 'callbacks' argument instead.\n",
      "  _log_warning(\"'verbose' argument is deprecated and will be removed in a future release of LightGBM. \"\n",
      "\u001b[32m[I 2023-05-07 18:13:32,944]\u001b[0m Trial 98 finished with value: 0.0 and parameters: {'n_estimators': 15, 'learning_rate': 0.021717607814930196, 'num_leaves': 42, 'min_child_samples': 13, 'max_depth': 6, 'colsample_bytree': 0.6952731124186906, 'subsample': 0.639776557103738, 'reg_alpha': 0.36475828649918113, 'reg_lambda': 1.0834003977834887}. Best is trial 52 with value: 0.31375916979781715.\u001b[0m\n",
      "C:\\Users\\haric\\anaconda3\\lib\\site-packages\\lightgbm\\sklearn.py:726: UserWarning: 'early_stopping_rounds' argument is deprecated and will be removed in a future release of LightGBM. Pass 'early_stopping()' callback via 'callbacks' argument instead.\n",
      "  _log_warning(\"'early_stopping_rounds' argument is deprecated and will be removed in a future release of LightGBM. \"\n",
      "C:\\Users\\haric\\anaconda3\\lib\\site-packages\\lightgbm\\sklearn.py:736: UserWarning: 'verbose' argument is deprecated and will be removed in a future release of LightGBM. Pass 'log_evaluation()' callback via 'callbacks' argument instead.\n",
      "  _log_warning(\"'verbose' argument is deprecated and will be removed in a future release of LightGBM. \"\n",
      "\u001b[32m[I 2023-05-07 18:13:34,162]\u001b[0m Trial 99 finished with value: 0.2206266827954891 and parameters: {'n_estimators': 259, 'learning_rate': 0.16621375304883135, 'num_leaves': 26, 'min_child_samples': 35, 'max_depth': 1, 'colsample_bytree': 0.7172590921044053, 'subsample': 0.9585343274084479, 'reg_alpha': 0.019502885266104053, 'reg_lambda': 0.12826279628170212}. Best is trial 52 with value: 0.31375916979781715.\u001b[0m\n",
      "C:\\Users\\haric\\anaconda3\\lib\\site-packages\\lightgbm\\sklearn.py:726: UserWarning: 'early_stopping_rounds' argument is deprecated and will be removed in a future release of LightGBM. Pass 'early_stopping()' callback via 'callbacks' argument instead.\n",
      "  _log_warning(\"'early_stopping_rounds' argument is deprecated and will be removed in a future release of LightGBM. \"\n",
      "C:\\Users\\haric\\anaconda3\\lib\\site-packages\\lightgbm\\sklearn.py:736: UserWarning: 'verbose' argument is deprecated and will be removed in a future release of LightGBM. Pass 'log_evaluation()' callback via 'callbacks' argument instead.\n",
      "  _log_warning(\"'verbose' argument is deprecated and will be removed in a future release of LightGBM. \"\n",
      "\u001b[32m[I 2023-05-07 18:13:35,421]\u001b[0m Trial 100 finished with value: 0.0 and parameters: {'n_estimators': 70, 'learning_rate': 0.006279908570890123, 'num_leaves': 17, 'min_child_samples': 31, 'max_depth': 4, 'colsample_bytree': 0.95706868443079, 'subsample': 0.9269774246953764, 'reg_alpha': 0.512726027546814, 'reg_lambda': 0.3891351501469387}. Best is trial 52 with value: 0.31375916979781715.\u001b[0m\n",
      "C:\\Users\\haric\\anaconda3\\lib\\site-packages\\lightgbm\\sklearn.py:726: UserWarning: 'early_stopping_rounds' argument is deprecated and will be removed in a future release of LightGBM. Pass 'early_stopping()' callback via 'callbacks' argument instead.\n",
      "  _log_warning(\"'early_stopping_rounds' argument is deprecated and will be removed in a future release of LightGBM. \"\n",
      "C:\\Users\\haric\\anaconda3\\lib\\site-packages\\lightgbm\\sklearn.py:736: UserWarning: 'verbose' argument is deprecated and will be removed in a future release of LightGBM. Pass 'log_evaluation()' callback via 'callbacks' argument instead.\n",
      "  _log_warning(\"'verbose' argument is deprecated and will be removed in a future release of LightGBM. \"\n",
      "\u001b[32m[I 2023-05-07 18:13:36,628]\u001b[0m Trial 101 finished with value: 0.2817630528028398 and parameters: {'n_estimators': 120, 'learning_rate': 0.11846869356044674, 'num_leaves': 20, 'min_child_samples': 33, 'max_depth': 3, 'colsample_bytree': 0.8208188723407921, 'subsample': 0.7744506116541267, 'reg_alpha': 0.4416986393128765, 'reg_lambda': 1.422679960443235}. Best is trial 52 with value: 0.31375916979781715.\u001b[0m\n",
      "C:\\Users\\haric\\anaconda3\\lib\\site-packages\\lightgbm\\sklearn.py:726: UserWarning: 'early_stopping_rounds' argument is deprecated and will be removed in a future release of LightGBM. Pass 'early_stopping()' callback via 'callbacks' argument instead.\n",
      "  _log_warning(\"'early_stopping_rounds' argument is deprecated and will be removed in a future release of LightGBM. \"\n",
      "C:\\Users\\haric\\anaconda3\\lib\\site-packages\\lightgbm\\sklearn.py:736: UserWarning: 'verbose' argument is deprecated and will be removed in a future release of LightGBM. Pass 'log_evaluation()' callback via 'callbacks' argument instead.\n",
      "  _log_warning(\"'verbose' argument is deprecated and will be removed in a future release of LightGBM. \"\n",
      "\u001b[32m[I 2023-05-07 18:13:38,994]\u001b[0m Trial 102 finished with value: 0.2508996248373019 and parameters: {'n_estimators': 232, 'learning_rate': 0.02888252197752406, 'num_leaves': 45, 'min_child_samples': 27, 'max_depth': 9, 'colsample_bytree': 0.919942102378926, 'subsample': 0.7700854017876934, 'reg_alpha': 0.0337039624801761, 'reg_lambda': 0.4030160390774191}. Best is trial 52 with value: 0.31375916979781715.\u001b[0m\n",
      "C:\\Users\\haric\\anaconda3\\lib\\site-packages\\lightgbm\\sklearn.py:726: UserWarning: 'early_stopping_rounds' argument is deprecated and will be removed in a future release of LightGBM. Pass 'early_stopping()' callback via 'callbacks' argument instead.\n",
      "  _log_warning(\"'early_stopping_rounds' argument is deprecated and will be removed in a future release of LightGBM. \"\n",
      "C:\\Users\\haric\\anaconda3\\lib\\site-packages\\lightgbm\\sklearn.py:736: UserWarning: 'verbose' argument is deprecated and will be removed in a future release of LightGBM. Pass 'log_evaluation()' callback via 'callbacks' argument instead.\n",
      "  _log_warning(\"'verbose' argument is deprecated and will be removed in a future release of LightGBM. \"\n",
      "\u001b[32m[I 2023-05-07 18:13:40,376]\u001b[0m Trial 103 finished with value: 0.2846644893111639 and parameters: {'n_estimators': 167, 'learning_rate': 0.12706216574540333, 'num_leaves': 20, 'min_child_samples': 11, 'max_depth': 9, 'colsample_bytree': 0.9937608722814208, 'subsample': 0.8102760729210743, 'reg_alpha': 0.25751892877245525, 'reg_lambda': 0.40846098977905343}. Best is trial 52 with value: 0.31375916979781715.\u001b[0m\n",
      "C:\\Users\\haric\\anaconda3\\lib\\site-packages\\lightgbm\\sklearn.py:726: UserWarning: 'early_stopping_rounds' argument is deprecated and will be removed in a future release of LightGBM. Pass 'early_stopping()' callback via 'callbacks' argument instead.\n",
      "  _log_warning(\"'early_stopping_rounds' argument is deprecated and will be removed in a future release of LightGBM. \"\n",
      "C:\\Users\\haric\\anaconda3\\lib\\site-packages\\lightgbm\\sklearn.py:736: UserWarning: 'verbose' argument is deprecated and will be removed in a future release of LightGBM. Pass 'log_evaluation()' callback via 'callbacks' argument instead.\n",
      "  _log_warning(\"'verbose' argument is deprecated and will be removed in a future release of LightGBM. \"\n",
      "\u001b[32m[I 2023-05-07 18:13:40,997]\u001b[0m Trial 104 finished with value: 0.0853356890459364 and parameters: {'n_estimators': 15, 'learning_rate': 0.1829454625055393, 'num_leaves': 14, 'min_child_samples': 31, 'max_depth': 2, 'colsample_bytree': 0.8216712010063174, 'subsample': 0.8605681553407456, 'reg_alpha': 1.2446127055608025, 'reg_lambda': 0.3096319076409048}. Best is trial 52 with value: 0.31375916979781715.\u001b[0m\n",
      "C:\\Users\\haric\\anaconda3\\lib\\site-packages\\lightgbm\\sklearn.py:726: UserWarning: 'early_stopping_rounds' argument is deprecated and will be removed in a future release of LightGBM. Pass 'early_stopping()' callback via 'callbacks' argument instead.\n",
      "  _log_warning(\"'early_stopping_rounds' argument is deprecated and will be removed in a future release of LightGBM. \"\n",
      "C:\\Users\\haric\\anaconda3\\lib\\site-packages\\lightgbm\\sklearn.py:736: UserWarning: 'verbose' argument is deprecated and will be removed in a future release of LightGBM. Pass 'log_evaluation()' callback via 'callbacks' argument instead.\n",
      "  _log_warning(\"'verbose' argument is deprecated and will be removed in a future release of LightGBM. \"\n",
      "\u001b[32m[I 2023-05-07 18:13:41,726]\u001b[0m Trial 105 finished with value: 0.0 and parameters: {'n_estimators': 13, 'learning_rate': 0.02824024038369265, 'num_leaves': 46, 'min_child_samples': 45, 'max_depth': 6, 'colsample_bytree': 0.8402067441734613, 'subsample': 0.8660146698185022, 'reg_alpha': 0.2630569179351744, 'reg_lambda': 1.3716179188874396}. Best is trial 52 with value: 0.31375916979781715.\u001b[0m\n",
      "C:\\Users\\haric\\anaconda3\\lib\\site-packages\\lightgbm\\sklearn.py:726: UserWarning: 'early_stopping_rounds' argument is deprecated and will be removed in a future release of LightGBM. Pass 'early_stopping()' callback via 'callbacks' argument instead.\n",
      "  _log_warning(\"'early_stopping_rounds' argument is deprecated and will be removed in a future release of LightGBM. \"\n",
      "C:\\Users\\haric\\anaconda3\\lib\\site-packages\\lightgbm\\sklearn.py:736: UserWarning: 'verbose' argument is deprecated and will be removed in a future release of LightGBM. Pass 'log_evaluation()' callback via 'callbacks' argument instead.\n",
      "  _log_warning(\"'verbose' argument is deprecated and will be removed in a future release of LightGBM. \"\n",
      "\u001b[32m[I 2023-05-07 18:13:42,969]\u001b[0m Trial 106 finished with value: 0.24995207973931377 and parameters: {'n_estimators': 131, 'learning_rate': 0.07724456712165, 'num_leaves': 31, 'min_child_samples': 7, 'max_depth': 0, 'colsample_bytree': 0.8952134465705481, 'subsample': 0.6331194671700505, 'reg_alpha': 0.9047281641995824, 'reg_lambda': 0.36802366452198143}. Best is trial 52 with value: 0.31375916979781715.\u001b[0m\n",
      "C:\\Users\\haric\\anaconda3\\lib\\site-packages\\lightgbm\\sklearn.py:726: UserWarning: 'early_stopping_rounds' argument is deprecated and will be removed in a future release of LightGBM. Pass 'early_stopping()' callback via 'callbacks' argument instead.\n",
      "  _log_warning(\"'early_stopping_rounds' argument is deprecated and will be removed in a future release of LightGBM. \"\n",
      "C:\\Users\\haric\\anaconda3\\lib\\site-packages\\lightgbm\\sklearn.py:736: UserWarning: 'verbose' argument is deprecated and will be removed in a future release of LightGBM. Pass 'log_evaluation()' callback via 'callbacks' argument instead.\n",
      "  _log_warning(\"'verbose' argument is deprecated and will be removed in a future release of LightGBM. \"\n",
      "\u001b[32m[I 2023-05-07 18:13:44,227]\u001b[0m Trial 107 finished with value: 0.2085405320072618 and parameters: {'n_estimators': 123, 'learning_rate': 0.058450053617369276, 'num_leaves': 24, 'min_child_samples': 38, 'max_depth': 2, 'colsample_bytree': 0.8265618561187589, 'subsample': 0.7904201608796398, 'reg_alpha': 0.9955067480439722, 'reg_lambda': 1.4052446089871369}. Best is trial 52 with value: 0.31375916979781715.\u001b[0m\n",
      "C:\\Users\\haric\\anaconda3\\lib\\site-packages\\lightgbm\\sklearn.py:726: UserWarning: 'early_stopping_rounds' argument is deprecated and will be removed in a future release of LightGBM. Pass 'early_stopping()' callback via 'callbacks' argument instead.\n",
      "  _log_warning(\"'early_stopping_rounds' argument is deprecated and will be removed in a future release of LightGBM. \"\n",
      "C:\\Users\\haric\\anaconda3\\lib\\site-packages\\lightgbm\\sklearn.py:736: UserWarning: 'verbose' argument is deprecated and will be removed in a future release of LightGBM. Pass 'log_evaluation()' callback via 'callbacks' argument instead.\n",
      "  _log_warning(\"'verbose' argument is deprecated and will be removed in a future release of LightGBM. \"\n",
      "\u001b[32m[I 2023-05-07 18:13:46,382]\u001b[0m Trial 108 finished with value: 0.23831396919751416 and parameters: {'n_estimators': 223, 'learning_rate': 0.0437731353395606, 'num_leaves': 11, 'min_child_samples': 17, 'max_depth': 6, 'colsample_bytree': 0.6205703253937002, 'subsample': 0.7985464988804946, 'reg_alpha': 0.8952642733753338, 'reg_lambda': 0.5013658362254412}. Best is trial 52 with value: 0.31375916979781715.\u001b[0m\n",
      "C:\\Users\\haric\\anaconda3\\lib\\site-packages\\lightgbm\\sklearn.py:726: UserWarning: 'early_stopping_rounds' argument is deprecated and will be removed in a future release of LightGBM. Pass 'early_stopping()' callback via 'callbacks' argument instead.\n",
      "  _log_warning(\"'early_stopping_rounds' argument is deprecated and will be removed in a future release of LightGBM. \"\n",
      "C:\\Users\\haric\\anaconda3\\lib\\site-packages\\lightgbm\\sklearn.py:736: UserWarning: 'verbose' argument is deprecated and will be removed in a future release of LightGBM. Pass 'log_evaluation()' callback via 'callbacks' argument instead.\n",
      "  _log_warning(\"'verbose' argument is deprecated and will be removed in a future release of LightGBM. \"\n",
      "\u001b[32m[I 2023-05-07 18:13:48,924]\u001b[0m Trial 109 finished with value: 0.2536448668913546 and parameters: {'n_estimators': 234, 'learning_rate': 0.02221305237362059, 'num_leaves': 13, 'min_child_samples': 38, 'max_depth': 4, 'colsample_bytree': 0.8753609585710944, 'subsample': 0.7739309354414985, 'reg_alpha': 0.3696030498586602, 'reg_lambda': 1.2286534765112995}. Best is trial 52 with value: 0.31375916979781715.\u001b[0m\n",
      "C:\\Users\\haric\\anaconda3\\lib\\site-packages\\lightgbm\\sklearn.py:726: UserWarning: 'early_stopping_rounds' argument is deprecated and will be removed in a future release of LightGBM. Pass 'early_stopping()' callback via 'callbacks' argument instead.\n",
      "  _log_warning(\"'early_stopping_rounds' argument is deprecated and will be removed in a future release of LightGBM. \"\n",
      "C:\\Users\\haric\\anaconda3\\lib\\site-packages\\lightgbm\\sklearn.py:736: UserWarning: 'verbose' argument is deprecated and will be removed in a future release of LightGBM. Pass 'log_evaluation()' callback via 'callbacks' argument instead.\n",
      "  _log_warning(\"'verbose' argument is deprecated and will be removed in a future release of LightGBM. \"\n",
      "\u001b[32m[I 2023-05-07 18:13:50,213]\u001b[0m Trial 110 finished with value: 0.2600030197795561 and parameters: {'n_estimators': 242, 'learning_rate': 0.13924459770003092, 'num_leaves': 21, 'min_child_samples': 32, 'max_depth': 3, 'colsample_bytree': 0.6366328293306537, 'subsample': 0.9669254301848971, 'reg_alpha': 0.2052279463784421, 'reg_lambda': 1.4253560307312036}. Best is trial 52 with value: 0.31375916979781715.\u001b[0m\n",
      "C:\\Users\\haric\\anaconda3\\lib\\site-packages\\lightgbm\\sklearn.py:726: UserWarning: 'early_stopping_rounds' argument is deprecated and will be removed in a future release of LightGBM. Pass 'early_stopping()' callback via 'callbacks' argument instead.\n",
      "  _log_warning(\"'early_stopping_rounds' argument is deprecated and will be removed in a future release of LightGBM. \"\n",
      "C:\\Users\\haric\\anaconda3\\lib\\site-packages\\lightgbm\\sklearn.py:736: UserWarning: 'verbose' argument is deprecated and will be removed in a future release of LightGBM. Pass 'log_evaluation()' callback via 'callbacks' argument instead.\n",
      "  _log_warning(\"'verbose' argument is deprecated and will be removed in a future release of LightGBM. \"\n",
      "\u001b[32m[I 2023-05-07 18:13:52,442]\u001b[0m Trial 111 finished with value: 0.2669528220189013 and parameters: {'n_estimators': 139, 'learning_rate': 0.03784145283888531, 'num_leaves': 32, 'min_child_samples': 45, 'max_depth': 7, 'colsample_bytree': 0.9226244591445799, 'subsample': 0.8635133466842869, 'reg_alpha': 1.0384148467767786, 'reg_lambda': 1.2737934773479789}. Best is trial 52 with value: 0.31375916979781715.\u001b[0m\n",
      "C:\\Users\\haric\\anaconda3\\lib\\site-packages\\lightgbm\\sklearn.py:726: UserWarning: 'early_stopping_rounds' argument is deprecated and will be removed in a future release of LightGBM. Pass 'early_stopping()' callback via 'callbacks' argument instead.\n",
      "  _log_warning(\"'early_stopping_rounds' argument is deprecated and will be removed in a future release of LightGBM. \"\n",
      "C:\\Users\\haric\\anaconda3\\lib\\site-packages\\lightgbm\\sklearn.py:736: UserWarning: 'verbose' argument is deprecated and will be removed in a future release of LightGBM. Pass 'log_evaluation()' callback via 'callbacks' argument instead.\n",
      "  _log_warning(\"'verbose' argument is deprecated and will be removed in a future release of LightGBM. \"\n",
      "\u001b[32m[I 2023-05-07 18:13:53,875]\u001b[0m Trial 112 finished with value: 0.2722159730033746 and parameters: {'n_estimators': 82, 'learning_rate': 0.09839556776498497, 'num_leaves': 19, 'min_child_samples': 50, 'max_depth': 10, 'colsample_bytree': 0.6157707245474023, 'subsample': 0.8822300690062754, 'reg_alpha': 1.3878724761234986, 'reg_lambda': 0.2708630176910003}. Best is trial 52 with value: 0.31375916979781715.\u001b[0m\n",
      "C:\\Users\\haric\\anaconda3\\lib\\site-packages\\lightgbm\\sklearn.py:726: UserWarning: 'early_stopping_rounds' argument is deprecated and will be removed in a future release of LightGBM. Pass 'early_stopping()' callback via 'callbacks' argument instead.\n",
      "  _log_warning(\"'early_stopping_rounds' argument is deprecated and will be removed in a future release of LightGBM. \"\n",
      "C:\\Users\\haric\\anaconda3\\lib\\site-packages\\lightgbm\\sklearn.py:736: UserWarning: 'verbose' argument is deprecated and will be removed in a future release of LightGBM. Pass 'log_evaluation()' callback via 'callbacks' argument instead.\n",
      "  _log_warning(\"'verbose' argument is deprecated and will be removed in a future release of LightGBM. \"\n",
      "\u001b[32m[I 2023-05-07 18:13:54,985]\u001b[0m Trial 113 finished with value: 0.2650232279334632 and parameters: {'n_estimators': 175, 'learning_rate': 0.18318217122002034, 'num_leaves': 11, 'min_child_samples': 37, 'max_depth': 2, 'colsample_bytree': 0.9697584781506121, 'subsample': 0.9884232980661471, 'reg_alpha': 1.4163997336701508, 'reg_lambda': 0.7113213249861956}. Best is trial 52 with value: 0.31375916979781715.\u001b[0m\n",
      "C:\\Users\\haric\\anaconda3\\lib\\site-packages\\lightgbm\\sklearn.py:726: UserWarning: 'early_stopping_rounds' argument is deprecated and will be removed in a future release of LightGBM. Pass 'early_stopping()' callback via 'callbacks' argument instead.\n",
      "  _log_warning(\"'early_stopping_rounds' argument is deprecated and will be removed in a future release of LightGBM. \"\n",
      "C:\\Users\\haric\\anaconda3\\lib\\site-packages\\lightgbm\\sklearn.py:736: UserWarning: 'verbose' argument is deprecated and will be removed in a future release of LightGBM. Pass 'log_evaluation()' callback via 'callbacks' argument instead.\n",
      "  _log_warning(\"'verbose' argument is deprecated and will be removed in a future release of LightGBM. \"\n",
      "\u001b[32m[I 2023-05-07 18:13:55,967]\u001b[0m Trial 114 finished with value: 0.2621708656942603 and parameters: {'n_estimators': 260, 'learning_rate': 0.169065330308479, 'num_leaves': 23, 'min_child_samples': 43, 'max_depth': -1, 'colsample_bytree': 0.8385079513928212, 'subsample': 0.6920035349150813, 'reg_alpha': 0.18085032866591821, 'reg_lambda': 0.11542980244381373}. Best is trial 52 with value: 0.31375916979781715.\u001b[0m\n",
      "C:\\Users\\haric\\anaconda3\\lib\\site-packages\\lightgbm\\sklearn.py:726: UserWarning: 'early_stopping_rounds' argument is deprecated and will be removed in a future release of LightGBM. Pass 'early_stopping()' callback via 'callbacks' argument instead.\n",
      "  _log_warning(\"'early_stopping_rounds' argument is deprecated and will be removed in a future release of LightGBM. \"\n",
      "C:\\Users\\haric\\anaconda3\\lib\\site-packages\\lightgbm\\sklearn.py:736: UserWarning: 'verbose' argument is deprecated and will be removed in a future release of LightGBM. Pass 'log_evaluation()' callback via 'callbacks' argument instead.\n",
      "  _log_warning(\"'verbose' argument is deprecated and will be removed in a future release of LightGBM. \"\n",
      "\u001b[32m[I 2023-05-07 18:13:57,785]\u001b[0m Trial 115 finished with value: 0.25319237618885226 and parameters: {'n_estimators': 212, 'learning_rate': 0.06863511778984517, 'num_leaves': 39, 'min_child_samples': 8, 'max_depth': 2, 'colsample_bytree': 0.8157965169501349, 'subsample': 0.9162892659355855, 'reg_alpha': 0.47812875439810487, 'reg_lambda': 0.9388370646555136}. Best is trial 52 with value: 0.31375916979781715.\u001b[0m\n",
      "C:\\Users\\haric\\anaconda3\\lib\\site-packages\\lightgbm\\sklearn.py:726: UserWarning: 'early_stopping_rounds' argument is deprecated and will be removed in a future release of LightGBM. Pass 'early_stopping()' callback via 'callbacks' argument instead.\n",
      "  _log_warning(\"'early_stopping_rounds' argument is deprecated and will be removed in a future release of LightGBM. \"\n",
      "C:\\Users\\haric\\anaconda3\\lib\\site-packages\\lightgbm\\sklearn.py:736: UserWarning: 'verbose' argument is deprecated and will be removed in a future release of LightGBM. Pass 'log_evaluation()' callback via 'callbacks' argument instead.\n",
      "  _log_warning(\"'verbose' argument is deprecated and will be removed in a future release of LightGBM. \"\n",
      "\u001b[32m[I 2023-05-07 18:13:59,071]\u001b[0m Trial 116 finished with value: 0.26816524452129464 and parameters: {'n_estimators': 267, 'learning_rate': 0.12355677444827862, 'num_leaves': 19, 'min_child_samples': 6, 'max_depth': 9, 'colsample_bytree': 0.6085077643401549, 'subsample': 0.9498806690736797, 'reg_alpha': 0.793405701040818, 'reg_lambda': 1.4086015477693443}. Best is trial 52 with value: 0.31375916979781715.\u001b[0m\n",
      "C:\\Users\\haric\\anaconda3\\lib\\site-packages\\lightgbm\\sklearn.py:726: UserWarning: 'early_stopping_rounds' argument is deprecated and will be removed in a future release of LightGBM. Pass 'early_stopping()' callback via 'callbacks' argument instead.\n",
      "  _log_warning(\"'early_stopping_rounds' argument is deprecated and will be removed in a future release of LightGBM. \"\n",
      "C:\\Users\\haric\\anaconda3\\lib\\site-packages\\lightgbm\\sklearn.py:736: UserWarning: 'verbose' argument is deprecated and will be removed in a future release of LightGBM. Pass 'log_evaluation()' callback via 'callbacks' argument instead.\n",
      "  _log_warning(\"'verbose' argument is deprecated and will be removed in a future release of LightGBM. \"\n",
      "\u001b[32m[I 2023-05-07 18:14:00,030]\u001b[0m Trial 117 finished with value: 0.2535617947646366 and parameters: {'n_estimators': 242, 'learning_rate': 0.19958888799613417, 'num_leaves': 24, 'min_child_samples': 40, 'max_depth': 3, 'colsample_bytree': 0.7919502481215636, 'subsample': 0.851002185287348, 'reg_alpha': 1.310515671279508, 'reg_lambda': 1.4761252037989427}. Best is trial 52 with value: 0.31375916979781715.\u001b[0m\n",
      "C:\\Users\\haric\\anaconda3\\lib\\site-packages\\lightgbm\\sklearn.py:726: UserWarning: 'early_stopping_rounds' argument is deprecated and will be removed in a future release of LightGBM. Pass 'early_stopping()' callback via 'callbacks' argument instead.\n",
      "  _log_warning(\"'early_stopping_rounds' argument is deprecated and will be removed in a future release of LightGBM. \"\n",
      "C:\\Users\\haric\\anaconda3\\lib\\site-packages\\lightgbm\\sklearn.py:736: UserWarning: 'verbose' argument is deprecated and will be removed in a future release of LightGBM. Pass 'log_evaluation()' callback via 'callbacks' argument instead.\n",
      "  _log_warning(\"'verbose' argument is deprecated and will be removed in a future release of LightGBM. \"\n",
      "\u001b[32m[I 2023-05-07 18:14:01,659]\u001b[0m Trial 118 finished with value: 0.18732693928327782 and parameters: {'n_estimators': 233, 'learning_rate': 0.08413558965129943, 'num_leaves': 27, 'min_child_samples': 38, 'max_depth': 1, 'colsample_bytree': 0.6441896452525578, 'subsample': 0.7418488630563106, 'reg_alpha': 0.4308584874811226, 'reg_lambda': 0.44446218068398513}. Best is trial 52 with value: 0.31375916979781715.\u001b[0m\n",
      "C:\\Users\\haric\\anaconda3\\lib\\site-packages\\lightgbm\\sklearn.py:726: UserWarning: 'early_stopping_rounds' argument is deprecated and will be removed in a future release of LightGBM. Pass 'early_stopping()' callback via 'callbacks' argument instead.\n",
      "  _log_warning(\"'early_stopping_rounds' argument is deprecated and will be removed in a future release of LightGBM. \"\n",
      "C:\\Users\\haric\\anaconda3\\lib\\site-packages\\lightgbm\\sklearn.py:736: UserWarning: 'verbose' argument is deprecated and will be removed in a future release of LightGBM. Pass 'log_evaluation()' callback via 'callbacks' argument instead.\n",
      "  _log_warning(\"'verbose' argument is deprecated and will be removed in a future release of LightGBM. \"\n",
      "\u001b[32m[I 2023-05-07 18:14:02,924]\u001b[0m Trial 119 finished with value: 0.0 and parameters: {'n_estimators': 77, 'learning_rate': 0.009376544737636015, 'num_leaves': 10, 'min_child_samples': 50, 'max_depth': 4, 'colsample_bytree': 0.7537306588638727, 'subsample': 0.8718589130772278, 'reg_alpha': 0.32738083179759625, 'reg_lambda': 1.424941775925338}. Best is trial 52 with value: 0.31375916979781715.\u001b[0m\n",
      "C:\\Users\\haric\\anaconda3\\lib\\site-packages\\lightgbm\\sklearn.py:726: UserWarning: 'early_stopping_rounds' argument is deprecated and will be removed in a future release of LightGBM. Pass 'early_stopping()' callback via 'callbacks' argument instead.\n",
      "  _log_warning(\"'early_stopping_rounds' argument is deprecated and will be removed in a future release of LightGBM. \"\n",
      "C:\\Users\\haric\\anaconda3\\lib\\site-packages\\lightgbm\\sklearn.py:736: UserWarning: 'verbose' argument is deprecated and will be removed in a future release of LightGBM. Pass 'log_evaluation()' callback via 'callbacks' argument instead.\n",
      "  _log_warning(\"'verbose' argument is deprecated and will be removed in a future release of LightGBM. \"\n",
      "\u001b[32m[I 2023-05-07 18:14:05,426]\u001b[0m Trial 120 finished with value: 0.248471095042117 and parameters: {'n_estimators': 238, 'learning_rate': 0.018792789460139646, 'num_leaves': 27, 'min_child_samples': 45, 'max_depth': 10, 'colsample_bytree': 0.7869606044999479, 'subsample': 0.845364555684283, 'reg_alpha': 0.25055091913811284, 'reg_lambda': 1.4867529392054648}. Best is trial 52 with value: 0.31375916979781715.\u001b[0m\n",
      "C:\\Users\\haric\\anaconda3\\lib\\site-packages\\lightgbm\\sklearn.py:726: UserWarning: 'early_stopping_rounds' argument is deprecated and will be removed in a future release of LightGBM. Pass 'early_stopping()' callback via 'callbacks' argument instead.\n",
      "  _log_warning(\"'early_stopping_rounds' argument is deprecated and will be removed in a future release of LightGBM. \"\n",
      "C:\\Users\\haric\\anaconda3\\lib\\site-packages\\lightgbm\\sklearn.py:736: UserWarning: 'verbose' argument is deprecated and will be removed in a future release of LightGBM. Pass 'log_evaluation()' callback via 'callbacks' argument instead.\n",
      "  _log_warning(\"'verbose' argument is deprecated and will be removed in a future release of LightGBM. \"\n",
      "\u001b[32m[I 2023-05-07 18:14:06,373]\u001b[0m Trial 121 finished with value: 0.28793546021268795 and parameters: {'n_estimators': 77, 'learning_rate': 0.18860362305289002, 'num_leaves': 36, 'min_child_samples': 32, 'max_depth': 5, 'colsample_bytree': 0.6922679246871035, 'subsample': 0.6706112128022033, 'reg_alpha': 0.33072931360526303, 'reg_lambda': 0.2796573932163818}. Best is trial 52 with value: 0.31375916979781715.\u001b[0m\n",
      "C:\\Users\\haric\\anaconda3\\lib\\site-packages\\lightgbm\\sklearn.py:726: UserWarning: 'early_stopping_rounds' argument is deprecated and will be removed in a future release of LightGBM. Pass 'early_stopping()' callback via 'callbacks' argument instead.\n",
      "  _log_warning(\"'early_stopping_rounds' argument is deprecated and will be removed in a future release of LightGBM. \"\n",
      "C:\\Users\\haric\\anaconda3\\lib\\site-packages\\lightgbm\\sklearn.py:736: UserWarning: 'verbose' argument is deprecated and will be removed in a future release of LightGBM. Pass 'log_evaluation()' callback via 'callbacks' argument instead.\n",
      "  _log_warning(\"'verbose' argument is deprecated and will be removed in a future release of LightGBM. \"\n",
      "\u001b[32m[I 2023-05-07 18:14:08,086]\u001b[0m Trial 122 finished with value: 0.284012284012284 and parameters: {'n_estimators': 236, 'learning_rate': 0.0706749265741793, 'num_leaves': 12, 'min_child_samples': 49, 'max_depth': 9, 'colsample_bytree': 0.9711009132780852, 'subsample': 0.9979631290585741, 'reg_alpha': 0.26084287382923094, 'reg_lambda': 0.5943630283539881}. Best is trial 52 with value: 0.31375916979781715.\u001b[0m\n",
      "C:\\Users\\haric\\anaconda3\\lib\\site-packages\\lightgbm\\sklearn.py:726: UserWarning: 'early_stopping_rounds' argument is deprecated and will be removed in a future release of LightGBM. Pass 'early_stopping()' callback via 'callbacks' argument instead.\n",
      "  _log_warning(\"'early_stopping_rounds' argument is deprecated and will be removed in a future release of LightGBM. \"\n",
      "C:\\Users\\haric\\anaconda3\\lib\\site-packages\\lightgbm\\sklearn.py:736: UserWarning: 'verbose' argument is deprecated and will be removed in a future release of LightGBM. Pass 'log_evaluation()' callback via 'callbacks' argument instead.\n",
      "  _log_warning(\"'verbose' argument is deprecated and will be removed in a future release of LightGBM. \"\n",
      "\u001b[32m[I 2023-05-07 18:14:09,144]\u001b[0m Trial 123 finished with value: 0.19441893887979558 and parameters: {'n_estimators': 230, 'learning_rate': 0.13950810299270466, 'num_leaves': 16, 'min_child_samples': 42, 'max_depth': 1, 'colsample_bytree': 0.6895270459290492, 'subsample': 0.8147897691573655, 'reg_alpha': 0.8894099022625548, 'reg_lambda': 0.8701293117567168}. Best is trial 52 with value: 0.31375916979781715.\u001b[0m\n",
      "C:\\Users\\haric\\anaconda3\\lib\\site-packages\\lightgbm\\sklearn.py:726: UserWarning: 'early_stopping_rounds' argument is deprecated and will be removed in a future release of LightGBM. Pass 'early_stopping()' callback via 'callbacks' argument instead.\n",
      "  _log_warning(\"'early_stopping_rounds' argument is deprecated and will be removed in a future release of LightGBM. \"\n",
      "C:\\Users\\haric\\anaconda3\\lib\\site-packages\\lightgbm\\sklearn.py:736: UserWarning: 'verbose' argument is deprecated and will be removed in a future release of LightGBM. Pass 'log_evaluation()' callback via 'callbacks' argument instead.\n",
      "  _log_warning(\"'verbose' argument is deprecated and will be removed in a future release of LightGBM. \"\n",
      "\u001b[32m[I 2023-05-07 18:14:10,107]\u001b[0m Trial 124 finished with value: 0.28032525155014293 and parameters: {'n_estimators': 36, 'learning_rate': 0.1756147116634457, 'num_leaves': 20, 'min_child_samples': 10, 'max_depth': 9, 'colsample_bytree': 0.9822605992919013, 'subsample': 0.9448510469061803, 'reg_alpha': 1.214274112087317, 'reg_lambda': 0.9828629709585326}. Best is trial 52 with value: 0.31375916979781715.\u001b[0m\n",
      "C:\\Users\\haric\\anaconda3\\lib\\site-packages\\lightgbm\\sklearn.py:726: UserWarning: 'early_stopping_rounds' argument is deprecated and will be removed in a future release of LightGBM. Pass 'early_stopping()' callback via 'callbacks' argument instead.\n",
      "  _log_warning(\"'early_stopping_rounds' argument is deprecated and will be removed in a future release of LightGBM. \"\n",
      "C:\\Users\\haric\\anaconda3\\lib\\site-packages\\lightgbm\\sklearn.py:736: UserWarning: 'verbose' argument is deprecated and will be removed in a future release of LightGBM. Pass 'log_evaluation()' callback via 'callbacks' argument instead.\n",
      "  _log_warning(\"'verbose' argument is deprecated and will be removed in a future release of LightGBM. \"\n",
      "\u001b[32m[I 2023-05-07 18:14:11,461]\u001b[0m Trial 125 finished with value: 0.08850336841178284 and parameters: {'n_estimators': 170, 'learning_rate': 0.01831036522237062, 'num_leaves': 26, 'min_child_samples': 22, 'max_depth': 2, 'colsample_bytree': 0.889368045475434, 'subsample': 0.7983502940315084, 'reg_alpha': 0.1215693238614719, 'reg_lambda': 0.330274802924717}. Best is trial 52 with value: 0.31375916979781715.\u001b[0m\n",
      "C:\\Users\\haric\\anaconda3\\lib\\site-packages\\lightgbm\\sklearn.py:726: UserWarning: 'early_stopping_rounds' argument is deprecated and will be removed in a future release of LightGBM. Pass 'early_stopping()' callback via 'callbacks' argument instead.\n",
      "  _log_warning(\"'early_stopping_rounds' argument is deprecated and will be removed in a future release of LightGBM. \"\n",
      "C:\\Users\\haric\\anaconda3\\lib\\site-packages\\lightgbm\\sklearn.py:736: UserWarning: 'verbose' argument is deprecated and will be removed in a future release of LightGBM. Pass 'log_evaluation()' callback via 'callbacks' argument instead.\n",
      "  _log_warning(\"'verbose' argument is deprecated and will be removed in a future release of LightGBM. \"\n",
      "\u001b[32m[I 2023-05-07 18:14:13,749]\u001b[0m Trial 126 finished with value: 0.22186469941924342 and parameters: {'n_estimators': 208, 'learning_rate': 0.016150041038569738, 'num_leaves': 44, 'min_child_samples': 27, 'max_depth': 4, 'colsample_bytree': 0.8369631138638071, 'subsample': 0.9298723863700596, 'reg_alpha': 0.5217138118532896, 'reg_lambda': 1.0170242288385953}. Best is trial 52 with value: 0.31375916979781715.\u001b[0m\n",
      "C:\\Users\\haric\\anaconda3\\lib\\site-packages\\lightgbm\\sklearn.py:726: UserWarning: 'early_stopping_rounds' argument is deprecated and will be removed in a future release of LightGBM. Pass 'early_stopping()' callback via 'callbacks' argument instead.\n",
      "  _log_warning(\"'early_stopping_rounds' argument is deprecated and will be removed in a future release of LightGBM. \"\n",
      "C:\\Users\\haric\\anaconda3\\lib\\site-packages\\lightgbm\\sklearn.py:736: UserWarning: 'verbose' argument is deprecated and will be removed in a future release of LightGBM. Pass 'log_evaluation()' callback via 'callbacks' argument instead.\n",
      "  _log_warning(\"'verbose' argument is deprecated and will be removed in a future release of LightGBM. \"\n",
      "\u001b[32m[I 2023-05-07 18:14:16,018]\u001b[0m Trial 127 finished with value: 0.2826481145690708 and parameters: {'n_estimators': 174, 'learning_rate': 0.054138625763714844, 'num_leaves': 46, 'min_child_samples': 41, 'max_depth': 6, 'colsample_bytree': 0.9402326916376967, 'subsample': 0.946917680383921, 'reg_alpha': 1.0625444650725522, 'reg_lambda': 1.255519992545508}. Best is trial 52 with value: 0.31375916979781715.\u001b[0m\n",
      "C:\\Users\\haric\\anaconda3\\lib\\site-packages\\lightgbm\\sklearn.py:726: UserWarning: 'early_stopping_rounds' argument is deprecated and will be removed in a future release of LightGBM. Pass 'early_stopping()' callback via 'callbacks' argument instead.\n",
      "  _log_warning(\"'early_stopping_rounds' argument is deprecated and will be removed in a future release of LightGBM. \"\n",
      "C:\\Users\\haric\\anaconda3\\lib\\site-packages\\lightgbm\\sklearn.py:736: UserWarning: 'verbose' argument is deprecated and will be removed in a future release of LightGBM. Pass 'log_evaluation()' callback via 'callbacks' argument instead.\n",
      "  _log_warning(\"'verbose' argument is deprecated and will be removed in a future release of LightGBM. \"\n",
      "\u001b[32m[I 2023-05-07 18:14:17,293]\u001b[0m Trial 128 finished with value: 0.27826670644391405 and parameters: {'n_estimators': 212, 'learning_rate': 0.1363480135802998, 'num_leaves': 35, 'min_child_samples': 39, 'max_depth': 0, 'colsample_bytree': 0.9523483036795714, 'subsample': 0.9487374110980928, 'reg_alpha': 0.04387092455183872, 'reg_lambda': 1.238725125847144}. Best is trial 52 with value: 0.31375916979781715.\u001b[0m\n",
      "C:\\Users\\haric\\anaconda3\\lib\\site-packages\\lightgbm\\sklearn.py:726: UserWarning: 'early_stopping_rounds' argument is deprecated and will be removed in a future release of LightGBM. Pass 'early_stopping()' callback via 'callbacks' argument instead.\n",
      "  _log_warning(\"'early_stopping_rounds' argument is deprecated and will be removed in a future release of LightGBM. \"\n",
      "C:\\Users\\haric\\anaconda3\\lib\\site-packages\\lightgbm\\sklearn.py:736: UserWarning: 'verbose' argument is deprecated and will be removed in a future release of LightGBM. Pass 'log_evaluation()' callback via 'callbacks' argument instead.\n",
      "  _log_warning(\"'verbose' argument is deprecated and will be removed in a future release of LightGBM. \"\n",
      "\u001b[32m[I 2023-05-07 18:14:18,415]\u001b[0m Trial 129 finished with value: 0.2442490110987365 and parameters: {'n_estimators': 47, 'learning_rate': 0.06768865199756924, 'num_leaves': 40, 'min_child_samples': 12, 'max_depth': 8, 'colsample_bytree': 0.9328536711830968, 'subsample': 0.8029870935043345, 'reg_alpha': 0.00957880757525037, 'reg_lambda': 0.43055719976236917}. Best is trial 52 with value: 0.31375916979781715.\u001b[0m\n",
      "C:\\Users\\haric\\anaconda3\\lib\\site-packages\\lightgbm\\sklearn.py:726: UserWarning: 'early_stopping_rounds' argument is deprecated and will be removed in a future release of LightGBM. Pass 'early_stopping()' callback via 'callbacks' argument instead.\n",
      "  _log_warning(\"'early_stopping_rounds' argument is deprecated and will be removed in a future release of LightGBM. \"\n",
      "C:\\Users\\haric\\anaconda3\\lib\\site-packages\\lightgbm\\sklearn.py:736: UserWarning: 'verbose' argument is deprecated and will be removed in a future release of LightGBM. Pass 'log_evaluation()' callback via 'callbacks' argument instead.\n",
      "  _log_warning(\"'verbose' argument is deprecated and will be removed in a future release of LightGBM. \"\n",
      "\u001b[32m[I 2023-05-07 18:14:19,635]\u001b[0m Trial 130 finished with value: 0.2872512896094326 and parameters: {'n_estimators': 189, 'learning_rate': 0.19625604942745728, 'num_leaves': 35, 'min_child_samples': 16, 'max_depth': 6, 'colsample_bytree': 0.8159941518863422, 'subsample': 0.9119381580604574, 'reg_alpha': 0.1604709582404376, 'reg_lambda': 1.141541853753042}. Best is trial 52 with value: 0.31375916979781715.\u001b[0m\n",
      "C:\\Users\\haric\\anaconda3\\lib\\site-packages\\lightgbm\\sklearn.py:726: UserWarning: 'early_stopping_rounds' argument is deprecated and will be removed in a future release of LightGBM. Pass 'early_stopping()' callback via 'callbacks' argument instead.\n",
      "  _log_warning(\"'early_stopping_rounds' argument is deprecated and will be removed in a future release of LightGBM. \"\n",
      "C:\\Users\\haric\\anaconda3\\lib\\site-packages\\lightgbm\\sklearn.py:736: UserWarning: 'verbose' argument is deprecated and will be removed in a future release of LightGBM. Pass 'log_evaluation()' callback via 'callbacks' argument instead.\n",
      "  _log_warning(\"'verbose' argument is deprecated and will be removed in a future release of LightGBM. \"\n",
      "\u001b[32m[I 2023-05-07 18:14:20,484]\u001b[0m Trial 131 finished with value: 0.24865073245952202 and parameters: {'n_estimators': 167, 'learning_rate': 0.19263540876793994, 'num_leaves': 24, 'min_child_samples': 34, 'max_depth': 10, 'colsample_bytree': 0.6410038911962717, 'subsample': 0.9748913948945804, 'reg_alpha': 1.03182858345122, 'reg_lambda': 0.10175558865775786}. Best is trial 52 with value: 0.31375916979781715.\u001b[0m\n",
      "C:\\Users\\haric\\anaconda3\\lib\\site-packages\\lightgbm\\sklearn.py:726: UserWarning: 'early_stopping_rounds' argument is deprecated and will be removed in a future release of LightGBM. Pass 'early_stopping()' callback via 'callbacks' argument instead.\n",
      "  _log_warning(\"'early_stopping_rounds' argument is deprecated and will be removed in a future release of LightGBM. \"\n",
      "C:\\Users\\haric\\anaconda3\\lib\\site-packages\\lightgbm\\sklearn.py:736: UserWarning: 'verbose' argument is deprecated and will be removed in a future release of LightGBM. Pass 'log_evaluation()' callback via 'callbacks' argument instead.\n",
      "  _log_warning(\"'verbose' argument is deprecated and will be removed in a future release of LightGBM. \"\n",
      "\u001b[32m[I 2023-05-07 18:14:21,563]\u001b[0m Trial 132 finished with value: 0.26610403674521077 and parameters: {'n_estimators': 97, 'learning_rate': 0.14192624564041104, 'num_leaves': 12, 'min_child_samples': 31, 'max_depth': 3, 'colsample_bytree': 0.8483662071069908, 'subsample': 0.6182968135250051, 'reg_alpha': 1.3073052092285644, 'reg_lambda': 1.4602334537660955}. Best is trial 52 with value: 0.31375916979781715.\u001b[0m\n",
      "C:\\Users\\haric\\anaconda3\\lib\\site-packages\\lightgbm\\sklearn.py:726: UserWarning: 'early_stopping_rounds' argument is deprecated and will be removed in a future release of LightGBM. Pass 'early_stopping()' callback via 'callbacks' argument instead.\n",
      "  _log_warning(\"'early_stopping_rounds' argument is deprecated and will be removed in a future release of LightGBM. \"\n",
      "C:\\Users\\haric\\anaconda3\\lib\\site-packages\\lightgbm\\sklearn.py:736: UserWarning: 'verbose' argument is deprecated and will be removed in a future release of LightGBM. Pass 'log_evaluation()' callback via 'callbacks' argument instead.\n",
      "  _log_warning(\"'verbose' argument is deprecated and will be removed in a future release of LightGBM. \"\n",
      "\u001b[32m[I 2023-05-07 18:14:22,817]\u001b[0m Trial 133 finished with value: 0.2692220799759018 and parameters: {'n_estimators': 291, 'learning_rate': 0.15018071451684203, 'num_leaves': 15, 'min_child_samples': 39, 'max_depth': -1, 'colsample_bytree': 0.6088494206115989, 'subsample': 0.7294440876598165, 'reg_alpha': 0.7329647856069986, 'reg_lambda': 1.1556111267116898}. Best is trial 52 with value: 0.31375916979781715.\u001b[0m\n",
      "C:\\Users\\haric\\anaconda3\\lib\\site-packages\\lightgbm\\sklearn.py:726: UserWarning: 'early_stopping_rounds' argument is deprecated and will be removed in a future release of LightGBM. Pass 'early_stopping()' callback via 'callbacks' argument instead.\n",
      "  _log_warning(\"'early_stopping_rounds' argument is deprecated and will be removed in a future release of LightGBM. \"\n",
      "C:\\Users\\haric\\anaconda3\\lib\\site-packages\\lightgbm\\sklearn.py:736: UserWarning: 'verbose' argument is deprecated and will be removed in a future release of LightGBM. Pass 'log_evaluation()' callback via 'callbacks' argument instead.\n",
      "  _log_warning(\"'verbose' argument is deprecated and will be removed in a future release of LightGBM. \"\n",
      "\u001b[32m[I 2023-05-07 18:14:24,203]\u001b[0m Trial 134 finished with value: 0.2696721617883444 and parameters: {'n_estimators': 208, 'learning_rate': 0.08973463856897293, 'num_leaves': 21, 'min_child_samples': 50, 'max_depth': 4, 'colsample_bytree': 0.7805548097318702, 'subsample': 0.6654495284766676, 'reg_alpha': 1.192214323124894, 'reg_lambda': 1.040523338672233}. Best is trial 52 with value: 0.31375916979781715.\u001b[0m\n",
      "C:\\Users\\haric\\anaconda3\\lib\\site-packages\\lightgbm\\sklearn.py:726: UserWarning: 'early_stopping_rounds' argument is deprecated and will be removed in a future release of LightGBM. Pass 'early_stopping()' callback via 'callbacks' argument instead.\n",
      "  _log_warning(\"'early_stopping_rounds' argument is deprecated and will be removed in a future release of LightGBM. \"\n",
      "C:\\Users\\haric\\anaconda3\\lib\\site-packages\\lightgbm\\sklearn.py:736: UserWarning: 'verbose' argument is deprecated and will be removed in a future release of LightGBM. Pass 'log_evaluation()' callback via 'callbacks' argument instead.\n",
      "  _log_warning(\"'verbose' argument is deprecated and will be removed in a future release of LightGBM. \"\n",
      "\u001b[32m[I 2023-05-07 18:14:25,128]\u001b[0m Trial 135 finished with value: 0.0 and parameters: {'n_estimators': 74, 'learning_rate': 0.017393828077552697, 'num_leaves': 37, 'min_child_samples': 35, 'max_depth': 2, 'colsample_bytree': 0.9803454249001642, 'subsample': 0.6604231567123601, 'reg_alpha': 0.6485022015639028, 'reg_lambda': 1.4154238802513983}. Best is trial 52 with value: 0.31375916979781715.\u001b[0m\n",
      "C:\\Users\\haric\\anaconda3\\lib\\site-packages\\lightgbm\\sklearn.py:726: UserWarning: 'early_stopping_rounds' argument is deprecated and will be removed in a future release of LightGBM. Pass 'early_stopping()' callback via 'callbacks' argument instead.\n",
      "  _log_warning(\"'early_stopping_rounds' argument is deprecated and will be removed in a future release of LightGBM. \"\n",
      "C:\\Users\\haric\\anaconda3\\lib\\site-packages\\lightgbm\\sklearn.py:736: UserWarning: 'verbose' argument is deprecated and will be removed in a future release of LightGBM. Pass 'log_evaluation()' callback via 'callbacks' argument instead.\n",
      "  _log_warning(\"'verbose' argument is deprecated and will be removed in a future release of LightGBM. \"\n",
      "\u001b[32m[I 2023-05-07 18:14:26,263]\u001b[0m Trial 136 finished with value: 0.2548825144949649 and parameters: {'n_estimators': 132, 'learning_rate': 0.12806666358515303, 'num_leaves': 26, 'min_child_samples': 17, 'max_depth': 10, 'colsample_bytree': 0.7637336025260172, 'subsample': 0.9576396814716538, 'reg_alpha': 0.3449319088366293, 'reg_lambda': 0.31965705603762495}. Best is trial 52 with value: 0.31375916979781715.\u001b[0m\n",
      "C:\\Users\\haric\\anaconda3\\lib\\site-packages\\lightgbm\\sklearn.py:726: UserWarning: 'early_stopping_rounds' argument is deprecated and will be removed in a future release of LightGBM. Pass 'early_stopping()' callback via 'callbacks' argument instead.\n",
      "  _log_warning(\"'early_stopping_rounds' argument is deprecated and will be removed in a future release of LightGBM. \"\n",
      "C:\\Users\\haric\\anaconda3\\lib\\site-packages\\lightgbm\\sklearn.py:736: UserWarning: 'verbose' argument is deprecated and will be removed in a future release of LightGBM. Pass 'log_evaluation()' callback via 'callbacks' argument instead.\n",
      "  _log_warning(\"'verbose' argument is deprecated and will be removed in a future release of LightGBM. \"\n",
      "\u001b[32m[I 2023-05-07 18:14:26,974]\u001b[0m Trial 137 finished with value: 0.18730995337522804 and parameters: {'n_estimators': 19, 'learning_rate': 0.13068169824980114, 'num_leaves': 25, 'min_child_samples': 44, 'max_depth': 4, 'colsample_bytree': 0.9872773711658887, 'subsample': 0.6742102062812484, 'reg_alpha': 1.3029347519334162, 'reg_lambda': 1.1648952791876126}. Best is trial 52 with value: 0.31375916979781715.\u001b[0m\n",
      "C:\\Users\\haric\\anaconda3\\lib\\site-packages\\lightgbm\\sklearn.py:726: UserWarning: 'early_stopping_rounds' argument is deprecated and will be removed in a future release of LightGBM. Pass 'early_stopping()' callback via 'callbacks' argument instead.\n",
      "  _log_warning(\"'early_stopping_rounds' argument is deprecated and will be removed in a future release of LightGBM. \"\n",
      "C:\\Users\\haric\\anaconda3\\lib\\site-packages\\lightgbm\\sklearn.py:736: UserWarning: 'verbose' argument is deprecated and will be removed in a future release of LightGBM. Pass 'log_evaluation()' callback via 'callbacks' argument instead.\n",
      "  _log_warning(\"'verbose' argument is deprecated and will be removed in a future release of LightGBM. \"\n",
      "\u001b[32m[I 2023-05-07 18:14:27,996]\u001b[0m Trial 138 finished with value: 0.24469442189493218 and parameters: {'n_estimators': 234, 'learning_rate': 0.16911186239526066, 'num_leaves': 41, 'min_child_samples': 33, 'max_depth': 0, 'colsample_bytree': 0.6130104717965007, 'subsample': 0.9683391391262748, 'reg_alpha': 0.9249754717811071, 'reg_lambda': 1.1948059364642645}. Best is trial 52 with value: 0.31375916979781715.\u001b[0m\n",
      "C:\\Users\\haric\\anaconda3\\lib\\site-packages\\lightgbm\\sklearn.py:726: UserWarning: 'early_stopping_rounds' argument is deprecated and will be removed in a future release of LightGBM. Pass 'early_stopping()' callback via 'callbacks' argument instead.\n",
      "  _log_warning(\"'early_stopping_rounds' argument is deprecated and will be removed in a future release of LightGBM. \"\n",
      "C:\\Users\\haric\\anaconda3\\lib\\site-packages\\lightgbm\\sklearn.py:736: UserWarning: 'verbose' argument is deprecated and will be removed in a future release of LightGBM. Pass 'log_evaluation()' callback via 'callbacks' argument instead.\n",
      "  _log_warning(\"'verbose' argument is deprecated and will be removed in a future release of LightGBM. \"\n",
      "\u001b[32m[I 2023-05-07 18:14:29,939]\u001b[0m Trial 139 finished with value: 0.21986650961915982 and parameters: {'n_estimators': 150, 'learning_rate': 0.024344329603516502, 'num_leaves': 15, 'min_child_samples': 36, 'max_depth': 4, 'colsample_bytree': 0.6802098906801347, 'subsample': 0.7966378186965748, 'reg_alpha': 0.09631340561270113, 'reg_lambda': 0.8729571028715981}. Best is trial 52 with value: 0.31375916979781715.\u001b[0m\n",
      "C:\\Users\\haric\\anaconda3\\lib\\site-packages\\lightgbm\\sklearn.py:726: UserWarning: 'early_stopping_rounds' argument is deprecated and will be removed in a future release of LightGBM. Pass 'early_stopping()' callback via 'callbacks' argument instead.\n",
      "  _log_warning(\"'early_stopping_rounds' argument is deprecated and will be removed in a future release of LightGBM. \"\n",
      "C:\\Users\\haric\\anaconda3\\lib\\site-packages\\lightgbm\\sklearn.py:736: UserWarning: 'verbose' argument is deprecated and will be removed in a future release of LightGBM. Pass 'log_evaluation()' callback via 'callbacks' argument instead.\n",
      "  _log_warning(\"'verbose' argument is deprecated and will be removed in a future release of LightGBM. \"\n",
      "\u001b[32m[I 2023-05-07 18:14:31,110]\u001b[0m Trial 140 finished with value: 0.24445983379501382 and parameters: {'n_estimators': 88, 'learning_rate': 0.15971426102680045, 'num_leaves': 22, 'min_child_samples': 25, 'max_depth': -1, 'colsample_bytree': 0.6289787551178235, 'subsample': 0.7569974225626739, 'reg_alpha': 0.7199082520756852, 'reg_lambda': 0.9000308221789556}. Best is trial 52 with value: 0.31375916979781715.\u001b[0m\n",
      "C:\\Users\\haric\\anaconda3\\lib\\site-packages\\lightgbm\\sklearn.py:726: UserWarning: 'early_stopping_rounds' argument is deprecated and will be removed in a future release of LightGBM. Pass 'early_stopping()' callback via 'callbacks' argument instead.\n",
      "  _log_warning(\"'early_stopping_rounds' argument is deprecated and will be removed in a future release of LightGBM. \"\n",
      "C:\\Users\\haric\\anaconda3\\lib\\site-packages\\lightgbm\\sklearn.py:736: UserWarning: 'verbose' argument is deprecated and will be removed in a future release of LightGBM. Pass 'log_evaluation()' callback via 'callbacks' argument instead.\n",
      "  _log_warning(\"'verbose' argument is deprecated and will be removed in a future release of LightGBM. \"\n",
      "\u001b[32m[I 2023-05-07 18:14:32,087]\u001b[0m Trial 141 finished with value: 0.26740673614257665 and parameters: {'n_estimators': 94, 'learning_rate': 0.13930139533918198, 'num_leaves': 45, 'min_child_samples': 40, 'max_depth': -1, 'colsample_bytree': 0.7922027789031316, 'subsample': 0.64197207136727, 'reg_alpha': 0.3630675237937912, 'reg_lambda': 1.4799938899007197}. Best is trial 52 with value: 0.31375916979781715.\u001b[0m\n",
      "C:\\Users\\haric\\anaconda3\\lib\\site-packages\\lightgbm\\sklearn.py:726: UserWarning: 'early_stopping_rounds' argument is deprecated and will be removed in a future release of LightGBM. Pass 'early_stopping()' callback via 'callbacks' argument instead.\n",
      "  _log_warning(\"'early_stopping_rounds' argument is deprecated and will be removed in a future release of LightGBM. \"\n",
      "C:\\Users\\haric\\anaconda3\\lib\\site-packages\\lightgbm\\sklearn.py:736: UserWarning: 'verbose' argument is deprecated and will be removed in a future release of LightGBM. Pass 'log_evaluation()' callback via 'callbacks' argument instead.\n",
      "  _log_warning(\"'verbose' argument is deprecated and will be removed in a future release of LightGBM. \"\n",
      "\u001b[32m[I 2023-05-07 18:14:33,246]\u001b[0m Trial 142 finished with value: 0.2516662223407092 and parameters: {'n_estimators': 51, 'learning_rate': 0.10027874253681986, 'num_leaves': 35, 'min_child_samples': 37, 'max_depth': 5, 'colsample_bytree': 0.6039083389676735, 'subsample': 0.7305845232975967, 'reg_alpha': 0.7765674650770671, 'reg_lambda': 0.13179974871725003}. Best is trial 52 with value: 0.31375916979781715.\u001b[0m\n",
      "C:\\Users\\haric\\anaconda3\\lib\\site-packages\\lightgbm\\sklearn.py:726: UserWarning: 'early_stopping_rounds' argument is deprecated and will be removed in a future release of LightGBM. Pass 'early_stopping()' callback via 'callbacks' argument instead.\n",
      "  _log_warning(\"'early_stopping_rounds' argument is deprecated and will be removed in a future release of LightGBM. \"\n",
      "C:\\Users\\haric\\anaconda3\\lib\\site-packages\\lightgbm\\sklearn.py:736: UserWarning: 'verbose' argument is deprecated and will be removed in a future release of LightGBM. Pass 'log_evaluation()' callback via 'callbacks' argument instead.\n",
      "  _log_warning(\"'verbose' argument is deprecated and will be removed in a future release of LightGBM. \"\n",
      "\u001b[32m[I 2023-05-07 18:14:34,738]\u001b[0m Trial 143 finished with value: 0.0 and parameters: {'n_estimators': 112, 'learning_rate': 0.007607418649481947, 'num_leaves': 13, 'min_child_samples': 23, 'max_depth': 0, 'colsample_bytree': 0.8270163393046233, 'subsample': 0.8757859876549063, 'reg_alpha': 1.2008800486636244, 'reg_lambda': 0.30022536636721514}. Best is trial 52 with value: 0.31375916979781715.\u001b[0m\n",
      "C:\\Users\\haric\\anaconda3\\lib\\site-packages\\lightgbm\\sklearn.py:726: UserWarning: 'early_stopping_rounds' argument is deprecated and will be removed in a future release of LightGBM. Pass 'early_stopping()' callback via 'callbacks' argument instead.\n",
      "  _log_warning(\"'early_stopping_rounds' argument is deprecated and will be removed in a future release of LightGBM. \"\n",
      "C:\\Users\\haric\\anaconda3\\lib\\site-packages\\lightgbm\\sklearn.py:736: UserWarning: 'verbose' argument is deprecated and will be removed in a future release of LightGBM. Pass 'log_evaluation()' callback via 'callbacks' argument instead.\n",
      "  _log_warning(\"'verbose' argument is deprecated and will be removed in a future release of LightGBM. \"\n",
      "\u001b[32m[I 2023-05-07 18:14:36,167]\u001b[0m Trial 144 finished with value: 0.11327988846287905 and parameters: {'n_estimators': 58, 'learning_rate': 0.021809000226545652, 'num_leaves': 36, 'min_child_samples': 37, 'max_depth': -1, 'colsample_bytree': 0.9744848984974759, 'subsample': 0.6207885134605889, 'reg_alpha': 0.8119445029516057, 'reg_lambda': 1.0635907791763746}. Best is trial 52 with value: 0.31375916979781715.\u001b[0m\n",
      "C:\\Users\\haric\\anaconda3\\lib\\site-packages\\lightgbm\\sklearn.py:726: UserWarning: 'early_stopping_rounds' argument is deprecated and will be removed in a future release of LightGBM. Pass 'early_stopping()' callback via 'callbacks' argument instead.\n",
      "  _log_warning(\"'early_stopping_rounds' argument is deprecated and will be removed in a future release of LightGBM. \"\n",
      "C:\\Users\\haric\\anaconda3\\lib\\site-packages\\lightgbm\\sklearn.py:736: UserWarning: 'verbose' argument is deprecated and will be removed in a future release of LightGBM. Pass 'log_evaluation()' callback via 'callbacks' argument instead.\n",
      "  _log_warning(\"'verbose' argument is deprecated and will be removed in a future release of LightGBM. \"\n",
      "\u001b[32m[I 2023-05-07 18:14:37,172]\u001b[0m Trial 145 finished with value: 0.23370262390670551 and parameters: {'n_estimators': 263, 'learning_rate': 0.14310329949435313, 'num_leaves': 42, 'min_child_samples': 20, 'max_depth': 8, 'colsample_bytree': 0.63204593855387, 'subsample': 0.9579266624242111, 'reg_alpha': 0.8213885642306044, 'reg_lambda': 1.2259466549437406}. Best is trial 52 with value: 0.31375916979781715.\u001b[0m\n",
      "C:\\Users\\haric\\anaconda3\\lib\\site-packages\\lightgbm\\sklearn.py:726: UserWarning: 'early_stopping_rounds' argument is deprecated and will be removed in a future release of LightGBM. Pass 'early_stopping()' callback via 'callbacks' argument instead.\n",
      "  _log_warning(\"'early_stopping_rounds' argument is deprecated and will be removed in a future release of LightGBM. \"\n",
      "C:\\Users\\haric\\anaconda3\\lib\\site-packages\\lightgbm\\sklearn.py:736: UserWarning: 'verbose' argument is deprecated and will be removed in a future release of LightGBM. Pass 'log_evaluation()' callback via 'callbacks' argument instead.\n",
      "  _log_warning(\"'verbose' argument is deprecated and will be removed in a future release of LightGBM. \"\n",
      "\u001b[32m[I 2023-05-07 18:14:38,230]\u001b[0m Trial 146 finished with value: 0.2293108166217114 and parameters: {'n_estimators': 141, 'learning_rate': 0.12907196134410848, 'num_leaves': 31, 'min_child_samples': 38, 'max_depth': -1, 'colsample_bytree': 0.6241408335962255, 'subsample': 0.6988412936040586, 'reg_alpha': 0.2393170201697825, 'reg_lambda': 1.3076753498883025}. Best is trial 52 with value: 0.31375916979781715.\u001b[0m\n",
      "C:\\Users\\haric\\anaconda3\\lib\\site-packages\\lightgbm\\sklearn.py:726: UserWarning: 'early_stopping_rounds' argument is deprecated and will be removed in a future release of LightGBM. Pass 'early_stopping()' callback via 'callbacks' argument instead.\n",
      "  _log_warning(\"'early_stopping_rounds' argument is deprecated and will be removed in a future release of LightGBM. \"\n",
      "C:\\Users\\haric\\anaconda3\\lib\\site-packages\\lightgbm\\sklearn.py:736: UserWarning: 'verbose' argument is deprecated and will be removed in a future release of LightGBM. Pass 'log_evaluation()' callback via 'callbacks' argument instead.\n",
      "  _log_warning(\"'verbose' argument is deprecated and will be removed in a future release of LightGBM. \"\n",
      "\u001b[32m[I 2023-05-07 18:14:39,153]\u001b[0m Trial 147 finished with value: 0.2855771006463527 and parameters: {'n_estimators': 73, 'learning_rate': 0.19519718590800714, 'num_leaves': 23, 'min_child_samples': 13, 'max_depth': 8, 'colsample_bytree': 0.8634831102003504, 'subsample': 0.7992782865812555, 'reg_alpha': 0.8330453264064468, 'reg_lambda': 1.0788026674083957}. Best is trial 52 with value: 0.31375916979781715.\u001b[0m\n",
      "C:\\Users\\haric\\anaconda3\\lib\\site-packages\\lightgbm\\sklearn.py:726: UserWarning: 'early_stopping_rounds' argument is deprecated and will be removed in a future release of LightGBM. Pass 'early_stopping()' callback via 'callbacks' argument instead.\n",
      "  _log_warning(\"'early_stopping_rounds' argument is deprecated and will be removed in a future release of LightGBM. \"\n",
      "C:\\Users\\haric\\anaconda3\\lib\\site-packages\\lightgbm\\sklearn.py:736: UserWarning: 'verbose' argument is deprecated and will be removed in a future release of LightGBM. Pass 'log_evaluation()' callback via 'callbacks' argument instead.\n",
      "  _log_warning(\"'verbose' argument is deprecated and will be removed in a future release of LightGBM. \"\n",
      "\u001b[32m[I 2023-05-07 18:14:40,038]\u001b[0m Trial 148 finished with value: 0.18300706357214933 and parameters: {'n_estimators': 76, 'learning_rate': 0.19927044929529167, 'num_leaves': 49, 'min_child_samples': 34, 'max_depth': 1, 'colsample_bytree': 0.8720912969725165, 'subsample': 0.6288793635916703, 'reg_alpha': 0.0459787533087091, 'reg_lambda': 0.3865243327668205}. Best is trial 52 with value: 0.31375916979781715.\u001b[0m\n",
      "C:\\Users\\haric\\anaconda3\\lib\\site-packages\\lightgbm\\sklearn.py:726: UserWarning: 'early_stopping_rounds' argument is deprecated and will be removed in a future release of LightGBM. Pass 'early_stopping()' callback via 'callbacks' argument instead.\n",
      "  _log_warning(\"'early_stopping_rounds' argument is deprecated and will be removed in a future release of LightGBM. \"\n",
      "C:\\Users\\haric\\anaconda3\\lib\\site-packages\\lightgbm\\sklearn.py:736: UserWarning: 'verbose' argument is deprecated and will be removed in a future release of LightGBM. Pass 'log_evaluation()' callback via 'callbacks' argument instead.\n",
      "  _log_warning(\"'verbose' argument is deprecated and will be removed in a future release of LightGBM. \"\n",
      "\u001b[32m[I 2023-05-07 18:14:40,922]\u001b[0m Trial 149 finished with value: 0.269675536095206 and parameters: {'n_estimators': 144, 'learning_rate': 0.17378622857626774, 'num_leaves': 39, 'min_child_samples': 39, 'max_depth': 4, 'colsample_bytree': 0.7383739970187851, 'subsample': 0.748415505193841, 'reg_alpha': 1.4814743456040866, 'reg_lambda': 0.06016378711872372}. Best is trial 52 with value: 0.31375916979781715.\u001b[0m\n"
     ]
    }
   ],
   "source": [
    "study = optuna.create_study(direction='maximize', sampler=optuna.samplers.RandomSampler(seed=42))\n",
    "study.optimize(objective, n_trials=150)"
   ]
  },
  {
   "cell_type": "code",
   "execution_count": 24,
   "id": "435de9c0",
   "metadata": {},
   "outputs": [
    {
     "name": "stdout",
     "output_type": "stream",
     "text": [
      "Best parameters found:  {'n_estimators': 75, 'learning_rate': 0.19268128534868167, 'num_leaves': 10, 'min_child_samples': 49, 'max_depth': -1, 'colsample_bytree': 0.9564572454792284, 'subsample': 0.8110804436345199, 'reg_alpha': 1.4894471941789504, 'reg_lambda': 0.11069484710309829}\n"
     ]
    },
    {
     "data": {
      "text/html": [
       "<style>#sk-container-id-1 {color: black;background-color: white;}#sk-container-id-1 pre{padding: 0;}#sk-container-id-1 div.sk-toggleable {background-color: white;}#sk-container-id-1 label.sk-toggleable__label {cursor: pointer;display: block;width: 100%;margin-bottom: 0;padding: 0.3em;box-sizing: border-box;text-align: center;}#sk-container-id-1 label.sk-toggleable__label-arrow:before {content: \"▸\";float: left;margin-right: 0.25em;color: #696969;}#sk-container-id-1 label.sk-toggleable__label-arrow:hover:before {color: black;}#sk-container-id-1 div.sk-estimator:hover label.sk-toggleable__label-arrow:before {color: black;}#sk-container-id-1 div.sk-toggleable__content {max-height: 0;max-width: 0;overflow: hidden;text-align: left;background-color: #f0f8ff;}#sk-container-id-1 div.sk-toggleable__content pre {margin: 0.2em;color: black;border-radius: 0.25em;background-color: #f0f8ff;}#sk-container-id-1 input.sk-toggleable__control:checked~div.sk-toggleable__content {max-height: 200px;max-width: 100%;overflow: auto;}#sk-container-id-1 input.sk-toggleable__control:checked~label.sk-toggleable__label-arrow:before {content: \"▾\";}#sk-container-id-1 div.sk-estimator input.sk-toggleable__control:checked~label.sk-toggleable__label {background-color: #d4ebff;}#sk-container-id-1 div.sk-label input.sk-toggleable__control:checked~label.sk-toggleable__label {background-color: #d4ebff;}#sk-container-id-1 input.sk-hidden--visually {border: 0;clip: rect(1px 1px 1px 1px);clip: rect(1px, 1px, 1px, 1px);height: 1px;margin: -1px;overflow: hidden;padding: 0;position: absolute;width: 1px;}#sk-container-id-1 div.sk-estimator {font-family: monospace;background-color: #f0f8ff;border: 1px dotted black;border-radius: 0.25em;box-sizing: border-box;margin-bottom: 0.5em;}#sk-container-id-1 div.sk-estimator:hover {background-color: #d4ebff;}#sk-container-id-1 div.sk-parallel-item::after {content: \"\";width: 100%;border-bottom: 1px solid gray;flex-grow: 1;}#sk-container-id-1 div.sk-label:hover label.sk-toggleable__label {background-color: #d4ebff;}#sk-container-id-1 div.sk-serial::before {content: \"\";position: absolute;border-left: 1px solid gray;box-sizing: border-box;top: 0;bottom: 0;left: 50%;z-index: 0;}#sk-container-id-1 div.sk-serial {display: flex;flex-direction: column;align-items: center;background-color: white;padding-right: 0.2em;padding-left: 0.2em;position: relative;}#sk-container-id-1 div.sk-item {position: relative;z-index: 1;}#sk-container-id-1 div.sk-parallel {display: flex;align-items: stretch;justify-content: center;background-color: white;position: relative;}#sk-container-id-1 div.sk-item::before, #sk-container-id-1 div.sk-parallel-item::before {content: \"\";position: absolute;border-left: 1px solid gray;box-sizing: border-box;top: 0;bottom: 0;left: 50%;z-index: -1;}#sk-container-id-1 div.sk-parallel-item {display: flex;flex-direction: column;z-index: 1;position: relative;background-color: white;}#sk-container-id-1 div.sk-parallel-item:first-child::after {align-self: flex-end;width: 50%;}#sk-container-id-1 div.sk-parallel-item:last-child::after {align-self: flex-start;width: 50%;}#sk-container-id-1 div.sk-parallel-item:only-child::after {width: 0;}#sk-container-id-1 div.sk-dashed-wrapped {border: 1px dashed gray;margin: 0 0.4em 0.5em 0.4em;box-sizing: border-box;padding-bottom: 0.4em;background-color: white;}#sk-container-id-1 div.sk-label label {font-family: monospace;font-weight: bold;display: inline-block;line-height: 1.2em;}#sk-container-id-1 div.sk-label-container {text-align: center;}#sk-container-id-1 div.sk-container {/* jupyter's `normalize.less` sets `[hidden] { display: none; }` but bootstrap.min.css set `[hidden] { display: none !important; }` so we also need the `!important` here to be able to override the default hidden behavior on the sphinx rendered scikit-learn.org. See: https://github.com/scikit-learn/scikit-learn/issues/21755 */display: inline-block !important;position: relative;}#sk-container-id-1 div.sk-text-repr-fallback {display: none;}</style><div id=\"sk-container-id-1\" class=\"sk-top-container\"><div class=\"sk-text-repr-fallback\"><pre>LGBMClassifier(colsample_bytree=0.9564572454792284,\n",
       "               learning_rate=0.19268128534868167, min_child_samples=49,\n",
       "               n_estimators=75, num_leaves=10, reg_alpha=1.4894471941789504,\n",
       "               reg_lambda=0.11069484710309829, subsample=0.8110804436345199)</pre><b>In a Jupyter environment, please rerun this cell to show the HTML representation or trust the notebook. <br />On GitHub, the HTML representation is unable to render, please try loading this page with nbviewer.org.</b></div><div class=\"sk-container\" hidden><div class=\"sk-item\"><div class=\"sk-estimator sk-toggleable\"><input class=\"sk-toggleable__control sk-hidden--visually\" id=\"sk-estimator-id-1\" type=\"checkbox\" checked><label for=\"sk-estimator-id-1\" class=\"sk-toggleable__label sk-toggleable__label-arrow\">LGBMClassifier</label><div class=\"sk-toggleable__content\"><pre>LGBMClassifier(colsample_bytree=0.9564572454792284,\n",
       "               learning_rate=0.19268128534868167, min_child_samples=49,\n",
       "               n_estimators=75, num_leaves=10, reg_alpha=1.4894471941789504,\n",
       "               reg_lambda=0.11069484710309829, subsample=0.8110804436345199)</pre></div></div></div></div></div>"
      ],
      "text/plain": [
       "LGBMClassifier(colsample_bytree=0.9564572454792284,\n",
       "               learning_rate=0.19268128534868167, min_child_samples=49,\n",
       "               n_estimators=75, num_leaves=10, reg_alpha=1.4894471941789504,\n",
       "               reg_lambda=0.11069484710309829, subsample=0.8110804436345199)"
      ]
     },
     "execution_count": 24,
     "metadata": {},
     "output_type": "execute_result"
    }
   ],
   "source": [
    "best_params = study.best_params\n",
    "print(\"Best parameters found: \", best_params)\n",
    "gbm = lgb.LGBMClassifier(**best_params)\n",
    "gbm.fit(X_train, y_train)"
   ]
  },
  {
   "cell_type": "code",
   "execution_count": 25,
   "id": "2724a09a",
   "metadata": {},
   "outputs": [
    {
     "name": "stdout",
     "output_type": "stream",
     "text": [
      "Best threshold to maximize F1 score:  0.23\n"
     ]
    }
   ],
   "source": [
    "thresholds = np.arange(0, 1.01, 0.01)\n",
    "best_threshold = 0\n",
    "best_f1 = 0\n",
    "y_pred_proba_val = gbm.predict_proba(X_val)[:, 1]\n",
    "for threshold in thresholds:\n",
    "    y_pred_val = (y_pred_proba_val >= threshold).astype(int)\n",
    "    f1 = f1_score(y_val, y_pred_val)\n",
    "    if f1 > best_f1:\n",
    "        best_f1 = f1\n",
    "        best_threshold = threshold\n",
    "print(\"Best threshold to maximize F1 score: \", best_threshold)"
   ]
  },
  {
   "cell_type": "code",
   "execution_count": 26,
   "id": "c55cda21",
   "metadata": {},
   "outputs": [
    {
     "name": "stdout",
     "output_type": "stream",
     "text": [
      "F1 score on test set (macro):  0.6666640695993614\n",
      "Accuracy on test set:  0.7777190650362872\n"
     ]
    }
   ],
   "source": [
    "from sklearn.metrics import precision_recall_fscore_support\n",
    "\n",
    "y_pred_proba_test = gbm.predict_proba(X_test)[:, 1]\n",
    "y_pred_test = (y_pred_proba_test >= best_threshold).astype(int)\n",
    "\n",
    "precision, recall, f1_test, _ = precision_recall_fscore_support(y_test, y_pred_test, average='macro')\n",
    "accuracy_test = accuracy_score(y_test, y_pred_test)\n",
    "\n",
    "print(\"F1 score on test set (macro): \", f1_test)\n",
    "print(\"Accuracy on test set: \", accuracy_test)\n"
   ]
  },
  {
   "cell_type": "code",
   "execution_count": 27,
   "id": "48532192",
   "metadata": {},
   "outputs": [
    {
     "name": "stderr",
     "output_type": "stream",
     "text": [
      "Permutation explainer: 121118it [1:27:21, 23.07it/s]                                                                   \n"
     ]
    }
   ],
   "source": [
    "import shap\n",
    "\n",
    "# Define a function that generates predictions from the model\n",
    "def predict(X):\n",
    "    return gbm.predict(X)\n",
    "\n",
    "# Create an explainer object with the function and the training data\n",
    "explainer = shap.Explainer(predict, X_train)\n",
    "\n",
    "# Compute SHAP values for the test set\n",
    "shap_values = explainer(X_test)\n"
   ]
  },
  {
   "cell_type": "code",
   "execution_count": 28,
   "id": "9966ac11",
   "metadata": {},
   "outputs": [
    {
     "data": {
      "image/png": "[encoded data removed]",
      "text/plain": [
       "<Figure size 800x550 with 2 Axes>"
      ]
     },
     "metadata": {},
     "output_type": "display_data"
    }
   ],
   "source": [
    "shap.plots.beeswarm(shap_values)"
   ]
  },
  {
   "cell_type": "code",
   "execution_count": 29,
   "id": "a78ce53a",
   "metadata": {},
   "outputs": [],
   "source": [
    "import pickle\n",
    "\n",
    "artifacts_dict = {\n",
    "    \"model\": gbm,\n",
    "    \"best_threshold\": best_threshold,\n",
    "    \"encoder\": encoder\n",
    "}\n",
    "\n",
    "artifacts_dict_file = open(\"project2_model.pkl\", \"wb\")\n",
    "pickle.dump(obj=artifacts_dict, file=artifacts_dict_file)\n",
    "artifacts_dict_file.close()\n"
   ]
  },
  {
   "cell_type": "markdown",
   "id": "4a83534d",
   "metadata": {},
   "source": [
    "H2O"
   ]
  },
  {
   "cell_type": "code",
   "execution_count": 30,
   "id": "cc25ee98",
   "metadata": {},
   "outputs": [
    {
     "name": "stdout",
     "output_type": "stream",
     "text": [
      "Checking whether there is an H2O instance running at http://localhost:54321..... not found.\n",
      "Attempting to start a local H2O server...\n",
      "; Java HotSpot(TM) 64-Bit Server VM (build 19.0.2+7-44, mixed mode, sharing)\n",
      "  Starting server from C:\\Users\\haric\\anaconda3\\Lib\\site-packages\\h2o\\backend\\bin\\h2o.jar\n",
      "  Ice root: C:\\Users\\haric\\AppData\\Local\\Temp\\tmprglteysu\n",
      "  JVM stdout: C:\\Users\\haric\\AppData\\Local\\Temp\\tmprglteysu\\h2o_haric_started_from_python.out\n",
      "  JVM stderr: C:\\Users\\haric\\AppData\\Local\\Temp\\tmprglteysu\\h2o_haric_started_from_python.err\n",
      "  Server is running at http://127.0.0.1:54321\n",
      "Connecting to H2O server at http://127.0.0.1:54321 ... successful.\n"
     ]
    },
    {
     "data": {
      "text/html": [
       "\n",
       "<style>\n",
       "\n",
       "#h2o-table-1.h2o-container {\n",
       "  overflow-x: auto;\n",
       "}\n",
       "#h2o-table-1 .h2o-table {\n",
       "  /* width: 100%; */\n",
       "  margin-top: 1em;\n",
       "  margin-bottom: 1em;\n",
       "}\n",
       "#h2o-table-1 .h2o-table caption {\n",
       "  white-space: nowrap;\n",
       "  caption-side: top;\n",
       "  text-align: left;\n",
       "  /* margin-left: 1em; */\n",
       "  margin: 0;\n",
       "  font-size: larger;\n",
       "}\n",
       "#h2o-table-1 .h2o-table thead {\n",
       "  white-space: nowrap; \n",
       "  position: sticky;\n",
       "  top: 0;\n",
       "  box-shadow: 0 -1px inset;\n",
       "}\n",
       "#h2o-table-1 .h2o-table tbody {\n",
       "  overflow: auto;\n",
       "}\n",
       "#h2o-table-1 .h2o-table th,\n",
       "#h2o-table-1 .h2o-table td {\n",
       "  text-align: right;\n",
       "  /* border: 1px solid; */\n",
       "}\n",
       "#h2o-table-1 .h2o-table tr:nth-child(even) {\n",
       "  /* background: #F5F5F5 */\n",
       "}\n",
       "\n",
       "</style>      \n",
       "<div id=\"h2o-table-1\" class=\"h2o-container\">\n",
       "  <table class=\"h2o-table\">\n",
       "    <caption></caption>\n",
       "    <thead></thead>\n",
       "    <tbody><tr><td>H2O_cluster_uptime:</td>\n",
       "<td>01 secs</td></tr>\n",
       "<tr><td>H2O_cluster_timezone:</td>\n",
       "<td>America/Chicago</td></tr>\n",
       "<tr><td>H2O_data_parsing_timezone:</td>\n",
       "<td>UTC</td></tr>\n",
       "<tr><td>H2O_cluster_version:</td>\n",
       "<td>3.40.0.3</td></tr>\n",
       "<tr><td>H2O_cluster_version_age:</td>\n",
       "<td>1 month and 3 days</td></tr>\n",
       "<tr><td>H2O_cluster_name:</td>\n",
       "<td>H2O_from_python_haric_9vb4rx</td></tr>\n",
       "<tr><td>H2O_cluster_total_nodes:</td>\n",
       "<td>1</td></tr>\n",
       "<tr><td>H2O_cluster_free_memory:</td>\n",
       "<td>3.961 Gb</td></tr>\n",
       "<tr><td>H2O_cluster_total_cores:</td>\n",
       "<td>16</td></tr>\n",
       "<tr><td>H2O_cluster_allowed_cores:</td>\n",
       "<td>16</td></tr>\n",
       "<tr><td>H2O_cluster_status:</td>\n",
       "<td>locked, healthy</td></tr>\n",
       "<tr><td>H2O_connection_url:</td>\n",
       "<td>http://127.0.0.1:54321</td></tr>\n",
       "<tr><td>H2O_connection_proxy:</td>\n",
       "<td>{\"http\": null, \"https\": null}</td></tr>\n",
       "<tr><td>H2O_internal_security:</td>\n",
       "<td>False</td></tr>\n",
       "<tr><td>Python_version:</td>\n",
       "<td>3.9.13 final</td></tr></tbody>\n",
       "  </table>\n",
       "</div>\n"
      ],
      "text/plain": [
       "--------------------------  -----------------------------\n",
       "H2O_cluster_uptime:         01 secs\n",
       "H2O_cluster_timezone:       America/Chicago\n",
       "H2O_data_parsing_timezone:  UTC\n",
       "H2O_cluster_version:        3.40.0.3\n",
       "H2O_cluster_version_age:    1 month and 3 days\n",
       "H2O_cluster_name:           H2O_from_python_haric_9vb4rx\n",
       "H2O_cluster_total_nodes:    1\n",
       "H2O_cluster_free_memory:    3.961 Gb\n",
       "H2O_cluster_total_cores:    16\n",
       "H2O_cluster_allowed_cores:  16\n",
       "H2O_cluster_status:         locked, healthy\n",
       "H2O_connection_url:         http://127.0.0.1:54321\n",
       "H2O_connection_proxy:       {\"http\": null, \"https\": null}\n",
       "H2O_internal_security:      False\n",
       "Python_version:             3.9.13 final\n",
       "--------------------------  -----------------------------"
      ]
     },
     "metadata": {},
     "output_type": "display_data"
    },
    {
     "name": "stdout",
     "output_type": "stream",
     "text": [
      "Parse progress: |████████████████████████████████████████████████████████████████| (done) 100%\n"
     ]
    }
   ],
   "source": [
    "import h2o\n",
    "import pandas as pd\n",
    "# Initialize H2O cluster\n",
    "h2o.init()\n",
    "# Convert pandas dataframe to H2O dataframe\n",
    "h2o_df = h2o.H2OFrame(df)"
   ]
  },
  {
   "cell_type": "code",
   "execution_count": 31,
   "id": "eba542c9",
   "metadata": {},
   "outputs": [],
   "source": [
    "# Split the data into train, test, and validation sets\n",
    "train, test, valid = h2o_df.split_frame(ratios=[0.7, 0.15], seed=123)"
   ]
  },
  {
   "cell_type": "code",
   "execution_count": 32,
   "id": "ffcce758",
   "metadata": {},
   "outputs": [],
   "source": [
    "# Convert the 'LowDoc' column to a factor (categorical variable)\n",
    "h2o_df['LowDoc'] = h2o_df['LowDoc'].asfactor()\n",
    "\n",
    "# Get the unique levels of the 'LowDoc' column\n",
    "unique_levels = h2o_df['LowDoc'].unique()\n",
    "\n",
    "# Perform one-hot encoding\n",
    "for level in unique_levels.as_data_frame(use_pandas=True).iloc[:, 0]:\n",
    "    new_col_name = f\"LowDoc_{level}\"\n",
    "    one_hot_column = (h2o_df['LowDoc'] == level).ifelse(1, 0)\n",
    "    one_hot_column.set_names([new_col_name])\n",
    "    h2o_df = h2o_df.cbind(one_hot_column)\n",
    "\n",
    "# Remove the original 'LowDoc' column\n",
    "h2o_df = h2o_df.drop('LowDoc')"
   ]
  },
  {
   "cell_type": "code",
   "execution_count": 33,
   "id": "abb9455e",
   "metadata": {},
   "outputs": [],
   "source": [
    "# Get the unique levels of the 'LowDoc' column across all datasets\n",
    "unique_levels_train = train['LowDoc'].unique().as_data_frame(use_pandas=True).iloc[:, 0].tolist()\n",
    "unique_levels_test = test['LowDoc'].unique().as_data_frame(use_pandas=True).iloc[:, 0].tolist()\n",
    "unique_levels_valid = valid['LowDoc'].unique().as_data_frame(use_pandas=True).iloc[:, 0].tolist()\n",
    "unique_levels = set(unique_levels_train + unique_levels_test + unique_levels_valid)\n",
    "\n",
    "# Perform one-hot encoding for all datasets\n",
    "for level in unique_levels:\n",
    "    new_col_name = f\"LowDoc_{level}\"\n",
    "    train_one_hot_column = (train['LowDoc'] == level).ifelse(1, 0)\n",
    "    train_one_hot_column.set_names([new_col_name])\n",
    "    train = train.cbind(train_one_hot_column)\n",
    "    \n",
    "    test_one_hot_column = (test['LowDoc'] == level).ifelse(1, 0)\n",
    "    test_one_hot_column.set_names([new_col_name])\n",
    "    test = test.cbind(test_one_hot_column)\n",
    "    \n",
    "    valid_one_hot_column = (valid['LowDoc'] == level).ifelse(1, 0)\n",
    "    valid_one_hot_column.set_names([new_col_name])\n",
    "    valid = valid.cbind(valid_one_hot_column)\n",
    "\n",
    "# Remove the original 'LowDoc' column for all datasets\n",
    "train = train.drop('LowDoc')\n",
    "test = test.drop('LowDoc')\n",
    "valid = valid.drop('LowDoc')\n"
   ]
  },
  {
   "cell_type": "code",
   "execution_count": 34,
   "id": "d3666d31",
   "metadata": {},
   "outputs": [],
   "source": [
    "# Choose which columns to encode\n",
    "cat_columns = [\"City\", \"State\", \"Bank\", \"BankState\", \"RevLineCr\"]\n",
    "response = \"MIS_Status\"\n",
    "\n",
    "train[cat_columns+[response]] = train[cat_columns+[response]].asfactor()"
   ]
  },
  {
   "cell_type": "code",
   "execution_count": 35,
   "id": "834172ba",
   "metadata": {},
   "outputs": [
    {
     "name": "stdout",
     "output_type": "stream",
     "text": [
      "targetencoder Model Build progress: |████████████████████████████████████████████| (done) 100%\n"
     ]
    }
   ],
   "source": [
    "from h2o.estimators import H2OTargetEncoderEstimator\n",
    "# Train a Target Encoder model\n",
    "data_te = H2OTargetEncoderEstimator(#fold_column=fold_column,\n",
    "                                    data_leakage_handling=None,\n",
    "                                    blending=True,\n",
    "                                    inflection_point=3,\n",
    "                                    smoothing=10,\n",
    "                                    noise=0.15,     \n",
    "                                    seed=1234)\n",
    "\n",
    "data_te.train(x=cat_columns,\n",
    "              y=response,\n",
    "              training_frame=train)\n",
    "\n",
    "# New target encoded dataset\n",
    "train = data_te.transform(frame=train, as_training=True)\n",
    "test = data_te.transform(frame=test, as_training=False)\n",
    "valid = data_te.transform(frame=valid, as_training=False)\n",
    "\n",
    "\n",
    "predictors = train.columns\n",
    "for col in cat_columns+[response]:\n",
    "    predictors.remove(col)"
   ]
  },
  {
   "cell_type": "code",
   "execution_count": 36,
   "id": "e65a87c5",
   "metadata": {},
   "outputs": [],
   "source": [
    "# Columns to drop\n",
    "columns_to_drop = [\"City\", \"State\", \"Bank\", \"BankState\", \"RevLineCr\"]\n",
    "\n",
    "# Drop the specified columns from the train dataset\n",
    "train = train.drop(columns_to_drop)\n",
    "\n",
    "# Drop the specified columns from the test dataset\n",
    "test = test.drop(columns_to_drop)\n",
    "\n",
    "# Drop the specified columns from the valid dataset\n",
    "valid = valid.drop(columns_to_drop)\n"
   ]
  },
  {
   "cell_type": "code",
   "execution_count": 37,
   "id": "31173302",
   "metadata": {},
   "outputs": [],
   "source": [
    "def feature_engineering(data):\n",
    "    data['Employment_Growth'] = data['CreateJob'] - data['RetainedJob']\n",
    "    data['Employment_Opportunity'] = data['NoEmp'] * data['NewExist']\n",
    "    data['Employees_more_than_10'] = (data['NoEmp'] > 10).ifelse(1, 0)\n",
    "    data['GrAppv_more_than100k'] = (data['GrAppv'] > 100000).ifelse(1, 0)\n",
    "    data['SBA_AppvPct'] = data['SBA_Appv'] / (data['GrAppv'] + 1)\n",
    "    data = data.drop(['Zip', 'FranchiseCode'], axis=1)\n",
    "    data['NoEmp_per_CreateJob'] = data['NoEmp'] / (data['CreateJob'] + 1)\n",
    "    data['DisbursementGross_per_Employee'] = data['DisbursementGross'] / (data['NoEmp'] + 1)\n",
    "    data['DisbursementGross_per_CreateJob'] = data['DisbursementGross'] / (data['CreateJob'] + 1)\n",
    "    data['DisbursementGross_BalanceGross_Ratio'] = data['DisbursementGross'] / (data['BalanceGross'] + 1)\n",
    "    data['CreateJob_per_NoEmp'] = data['CreateJob'] / (data['NoEmp'] + 1)\n",
    "    \n",
    "    return data\n",
    "\n",
    "test = feature_engineering(test)\n",
    "train = feature_engineering(train)\n",
    "valid = feature_engineering(valid)\n"
   ]
  },
  {
   "cell_type": "code",
   "execution_count": 38,
   "id": "c4ff7251",
   "metadata": {},
   "outputs": [],
   "source": [
    "import pandas as pd\n",
    "import optuna\n",
    "from h2o.estimators.gbm import H2OGradientBoostingEstimator\n",
    "from sklearn.metrics import f1_score\n",
    "import warnings\n",
    "warnings.filterwarnings(\"ignore\", category=RuntimeWarning)\n",
    "\n",
    "resp_var = \"MIS_Status\"\n",
    "gbm_predictors = train.columns\n",
    "gbm_predictors.remove(resp_var)\n",
    "train_df = train.as_data_frame()\n",
    "X_train = train_df[gbm_predictors]\n",
    "y_train = train_df[resp_var]"
   ]
  },
  {
   "cell_type": "code",
   "execution_count": 39,
   "id": "080a1017",
   "metadata": {},
   "outputs": [],
   "source": [
    "# Define objective function for Optuna\n",
    "def optuna_objective(trial):\n",
    "    tree_num = trial.suggest_int('ntrees', 10, 150)\n",
    "    depth_max = trial.suggest_int('max_depth', 3, 9)\n",
    "    rate_sample = trial.suggest_float('sample_rate', 0.5, 1.0)\n",
    "    rate_col_sample = trial.suggest_float('col_sample_rate', 0.5, 1.0)\n",
    "\n",
    "    gbm_model = H2OGradientBoostingEstimator(nfolds=5,\n",
    "                                             seed=1111,\n",
    "                                             ntrees=tree_num,\n",
    "                                             max_depth=depth_max,\n",
    "                                             sample_rate=rate_sample,\n",
    "                                             col_sample_rate=rate_col_sample,\n",
    "                                             keep_cross_validation_predictions=False)\n",
    "    \n",
    "    gbm_model.train(x=gbm_predictors, y=resp_var, training_frame=train, validation_frame=valid)\n",
    "    return gbm_model.auc(valid=True)\n"
   ]
  },
  {
   "cell_type": "code",
   "execution_count": 40,
   "id": "8b5c5460",
   "metadata": {},
   "outputs": [
    {
     "name": "stderr",
     "output_type": "stream",
     "text": [
      "\u001b[32m[I 2023-05-07 19:43:01,561]\u001b[0m A new study created in memory with name: no-name-18833534-a059-4192-999d-270604b2957e\u001b[0m\n"
     ]
    },
    {
     "name": "stdout",
     "output_type": "stream",
     "text": [
      "gbm Model Build progress: |█████████████████████████████████████████████████████"
     ]
    },
    {
     "name": "stderr",
     "output_type": "stream",
     "text": [
      "\u001b[32m[I 2023-05-07 19:43:26,870]\u001b[0m Trial 0 finished with value: 0.784246958045524 and parameters: {'ntrees': 23, 'max_depth': 9, 'sample_rate': 0.6717867116036095, 'col_sample_rate': 0.655238470934922}. Best is trial 0 with value: 0.784246958045524.\u001b[0m\n"
     ]
    },
    {
     "name": "stdout",
     "output_type": "stream",
     "text": [
      "█| (done) 100%\n",
      "gbm Model Build progress: |█████████████████████████████████████████████████████"
     ]
    },
    {
     "name": "stderr",
     "output_type": "stream",
     "text": [
      "\u001b[32m[I 2023-05-07 19:43:33,464]\u001b[0m Trial 1 finished with value: 0.750284370445797 and parameters: {'ntrees': 10, 'max_depth': 4, 'sample_rate': 0.6188958600791898, 'col_sample_rate': 0.8679579366203547}. Best is trial 0 with value: 0.784246958045524.\u001b[0m\n"
     ]
    },
    {
     "name": "stdout",
     "output_type": "stream",
     "text": [
      "█| (done) 100%\n",
      "gbm Model Build progress: |█████████████████████████████████████████████████████"
     ]
    },
    {
     "name": "stderr",
     "output_type": "stream",
     "text": [
      "\u001b[32m[I 2023-05-07 19:44:25,809]\u001b[0m Trial 2 finished with value: 0.7918246553492442 and parameters: {'ntrees': 79, 'max_depth': 8, 'sample_rate': 0.5632531556039517, 'col_sample_rate': 0.8033246597503303}. Best is trial 2 with value: 0.7918246553492442.\u001b[0m\n"
     ]
    },
    {
     "name": "stdout",
     "output_type": "stream",
     "text": [
      "█| (done) 100%\n",
      "gbm Model Build progress: |█████████████████████████████████████████████████████"
     ]
    },
    {
     "name": "stderr",
     "output_type": "stream",
     "text": [
      "\u001b[32m[I 2023-05-07 19:44:56,149]\u001b[0m Trial 3 finished with value: 0.7718987662147012 and parameters: {'ntrees': 75, 'max_depth': 4, 'sample_rate': 0.7175795912387604, 'col_sample_rate': 0.6218357571377213}. Best is trial 2 with value: 0.7918246553492442.\u001b[0m\n"
     ]
    },
    {
     "name": "stdout",
     "output_type": "stream",
     "text": [
      "█| (done) 100%\n",
      "gbm Model Build progress: |██████████████████████████████████████████████████████| (done) 100%\n"
     ]
    },
    {
     "name": "stderr",
     "output_type": "stream",
     "text": [
      "\u001b[32m[I 2023-05-07 19:45:39,044]\u001b[0m Trial 4 finished with value: 0.7912181330799024 and parameters: {'ntrees': 64, 'max_depth': 8, 'sample_rate': 0.8275923636716016, 'col_sample_rate': 0.5742233364442924}. Best is trial 2 with value: 0.7918246553492442.\u001b[0m\n"
     ]
    },
    {
     "name": "stdout",
     "output_type": "stream",
     "text": [
      "gbm Model Build progress: |█████████████████████████████████████████████████████"
     ]
    },
    {
     "name": "stderr",
     "output_type": "stream",
     "text": [
      "\u001b[32m[I 2023-05-07 19:46:43,876]\u001b[0m Trial 5 finished with value: 0.791692845676215 and parameters: {'ntrees': 100, 'max_depth': 7, 'sample_rate': 0.8054371470771224, 'col_sample_rate': 0.965009276100955}. Best is trial 2 with value: 0.7918246553492442.\u001b[0m\n"
     ]
    },
    {
     "name": "stdout",
     "output_type": "stream",
     "text": [
      "█| (done) 100%\n",
      "gbm Model Build progress: |████████████████████████████████████████████████████"
     ]
    },
    {
     "name": "stderr",
     "output_type": "stream",
     "text": [
      "\u001b[32m[I 2023-05-07 19:47:53,753]\u001b[0m Trial 6 finished with value: 0.7925270224170524 and parameters: {'ntrees': 125, 'max_depth': 8, 'sample_rate': 0.5427004631547709, 'col_sample_rate': 0.8325013642483752}. Best is trial 6 with value: 0.7925270224170524.\u001b[0m\n"
     ]
    },
    {
     "name": "stdout",
     "output_type": "stream",
     "text": [
      "██| (done) 100%\n",
      "gbm Model Build progress: |█████████████████████████████████████████████████████"
     ]
    },
    {
     "name": "stderr",
     "output_type": "stream",
     "text": [
      "\u001b[32m[I 2023-05-07 19:48:58,372]\u001b[0m Trial 7 finished with value: 0.7923832736322506 and parameters: {'ntrees': 110, 'max_depth': 9, 'sample_rate': 0.6340043184023714, 'col_sample_rate': 0.6215383628125433}. Best is trial 6 with value: 0.7925270224170524.\u001b[0m\n"
     ]
    },
    {
     "name": "stdout",
     "output_type": "stream",
     "text": [
      "█| (done) 100%\n",
      "gbm Model Build progress: |█████████████████████████████████████████████████████"
     ]
    },
    {
     "name": "stderr",
     "output_type": "stream",
     "text": [
      "\u001b[32m[I 2023-05-07 19:49:54,587]\u001b[0m Trial 8 finished with value: 0.7876286366232063 and parameters: {'ntrees': 121, 'max_depth': 5, 'sample_rate': 0.8972397381473802, 'col_sample_rate': 0.9336655139626157}. Best is trial 6 with value: 0.7925270224170524.\u001b[0m\n"
     ]
    },
    {
     "name": "stdout",
     "output_type": "stream",
     "text": [
      "█| (done) 100%\n",
      "gbm Model Build progress: |████████████████████████████████████████████████████"
     ]
    },
    {
     "name": "stderr",
     "output_type": "stream",
     "text": [
      "\u001b[32m[I 2023-05-07 19:51:05,190]\u001b[0m Trial 9 finished with value: 0.7938347977738867 and parameters: {'ntrees': 122, 'max_depth': 9, 'sample_rate': 0.6355613839068042, 'col_sample_rate': 0.8804274770594925}. Best is trial 9 with value: 0.7938347977738867.\u001b[0m\n"
     ]
    },
    {
     "name": "stdout",
     "output_type": "stream",
     "text": [
      "██| (done) 100%\n",
      "gbm Model Build progress: |█████████████████████████████████████████████████████"
     ]
    },
    {
     "name": "stderr",
     "output_type": "stream",
     "text": [
      "\u001b[32m[I 2023-05-07 19:52:16,776]\u001b[0m Trial 10 finished with value: 0.7904993117272973 and parameters: {'ntrees': 142, 'max_depth': 6, 'sample_rate': 0.9983815687936208, 'col_sample_rate': 0.7197707353179779}. Best is trial 9 with value: 0.7938347977738867.\u001b[0m\n"
     ]
    },
    {
     "name": "stdout",
     "output_type": "stream",
     "text": [
      "█| (done) 100%\n",
      "gbm Model Build progress: |████████████████████████████████████████████████████"
     ]
    },
    {
     "name": "stderr",
     "output_type": "stream",
     "text": [
      "\u001b[32m[I 2023-05-07 19:53:23,957]\u001b[0m Trial 11 finished with value: 0.7921813962733996 and parameters: {'ntrees': 141, 'max_depth': 7, 'sample_rate': 0.500403792187252, 'col_sample_rate': 0.8298370082914582}. Best is trial 9 with value: 0.7938347977738867.\u001b[0m\n"
     ]
    },
    {
     "name": "stdout",
     "output_type": "stream",
     "text": [
      "██| (done) 100%\n",
      "gbm Model Build progress: |████████████████████████████████████████████████████"
     ]
    },
    {
     "name": "stderr",
     "output_type": "stream",
     "text": [
      "\u001b[32m[I 2023-05-07 19:54:34,508]\u001b[0m Trial 12 finished with value: 0.7936756284232546 and parameters: {'ntrees': 124, 'max_depth': 9, 'sample_rate': 0.5372292674515176, 'col_sample_rate': 0.8938612658209701}. Best is trial 9 with value: 0.7938347977738867.\u001b[0m\n"
     ]
    },
    {
     "name": "stdout",
     "output_type": "stream",
     "text": [
      "██| (done) 100%\n",
      "gbm Model Build progress: |████████████████████████████████████████████████████"
     ]
    },
    {
     "name": "stderr",
     "output_type": "stream",
     "text": [
      "\u001b[32m[I 2023-05-07 19:55:44,754]\u001b[0m Trial 13 finished with value: 0.7933387871203464 and parameters: {'ntrees': 102, 'max_depth': 9, 'sample_rate': 0.6367044229302184, 'col_sample_rate': 0.9976944548090521}. Best is trial 9 with value: 0.7938347977738867.\u001b[0m\n"
     ]
    },
    {
     "name": "stdout",
     "output_type": "stream",
     "text": [
      "██| (done) 100%\n",
      "gbm Model Build progress: |█████████████████████████████████████████████████████"
     ]
    },
    {
     "name": "stderr",
     "output_type": "stream",
     "text": [
      "\u001b[32m[I 2023-05-07 19:56:31,897]\u001b[0m Trial 14 finished with value: 0.7731226380094066 and parameters: {'ntrees': 150, 'max_depth': 3, 'sample_rate': 0.5738983904103485, 'col_sample_rate': 0.9006546813349586}. Best is trial 9 with value: 0.7938347977738867.\u001b[0m\n"
     ]
    },
    {
     "name": "stdout",
     "output_type": "stream",
     "text": [
      "█| (done) 100%\n",
      "gbm Model Build progress: |█████████████████████████████████████████████████████"
     ]
    },
    {
     "name": "stderr",
     "output_type": "stream",
     "text": [
      "\u001b[32m[I 2023-05-07 19:57:02,336]\u001b[0m Trial 15 finished with value: 0.7847323217950156 and parameters: {'ntrees': 44, 'max_depth': 7, 'sample_rate': 0.5081884326049778, 'col_sample_rate': 0.9107697853750275}. Best is trial 9 with value: 0.7938347977738867.\u001b[0m\n"
     ]
    },
    {
     "name": "stdout",
     "output_type": "stream",
     "text": [
      "█| (done) 100%\n",
      "gbm Model Build progress: |██████████████████████████████████████████████████████| (done) 100%\n"
     ]
    },
    {
     "name": "stderr",
     "output_type": "stream",
     "text": [
      "\u001b[32m[I 2023-05-07 19:58:13,046]\u001b[0m Trial 16 finished with value: 0.7941602830401188 and parameters: {'ntrees': 126, 'max_depth': 9, 'sample_rate': 0.7050724990442061, 'col_sample_rate': 0.767020728293506}. Best is trial 16 with value: 0.7941602830401188.\u001b[0m\n"
     ]
    },
    {
     "name": "stdout",
     "output_type": "stream",
     "text": [
      "gbm Model Build progress: |█████████████████████████████████████████████████████"
     ]
    },
    {
     "name": "stderr",
     "output_type": "stream",
     "text": [
      "\u001b[32m[I 2023-05-07 19:59:01,035]\u001b[0m Trial 17 finished with value: 0.7886760004912637 and parameters: {'ntrees': 92, 'max_depth': 6, 'sample_rate': 0.7077549989959244, 'col_sample_rate': 0.7644338542354666}. Best is trial 16 with value: 0.7941602830401188.\u001b[0m\n"
     ]
    },
    {
     "name": "stdout",
     "output_type": "stream",
     "text": [
      "█| (done) 100%\n",
      "gbm Model Build progress: |████████████████████████████████████████████████████"
     ]
    },
    {
     "name": "stderr",
     "output_type": "stream",
     "text": [
      "\u001b[32m[I 2023-05-07 20:00:03,976]\u001b[0m Trial 18 finished with value: 0.7925723105915888 and parameters: {'ntrees': 131, 'max_depth': 8, 'sample_rate': 0.7488604056402846, 'col_sample_rate': 0.5014714972856844}. Best is trial 16 with value: 0.7941602830401188.\u001b[0m\n"
     ]
    },
    {
     "name": "stdout",
     "output_type": "stream",
     "text": [
      "██| (done) 100%\n",
      "gbm Model Build progress: |█████████████████████████████████████████████████████"
     ]
    },
    {
     "name": "stderr",
     "output_type": "stream",
     "text": [
      "\u001b[32m[I 2023-05-07 20:01:07,082]\u001b[0m Trial 19 finished with value: 0.7918857967927087 and parameters: {'ntrees': 112, 'max_depth': 7, 'sample_rate': 0.6940996648879284, 'col_sample_rate': 0.7521620174856634}. Best is trial 16 with value: 0.7941602830401188.\u001b[0m\n"
     ]
    },
    {
     "name": "stdout",
     "output_type": "stream",
     "text": [
      "█| (done) 100%\n",
      "gbm Model Build progress: |█████████████████████████████████████████████████████"
     ]
    },
    {
     "name": "stderr",
     "output_type": "stream",
     "text": [
      "\u001b[32m[I 2023-05-07 20:01:51,347]\u001b[0m Trial 20 finished with value: 0.7911106272516324 and parameters: {'ntrees': 58, 'max_depth': 9, 'sample_rate': 0.5942609591257502, 'col_sample_rate': 0.7086009823429067}. Best is trial 16 with value: 0.7941602830401188.\u001b[0m\n"
     ]
    },
    {
     "name": "stdout",
     "output_type": "stream",
     "text": [
      "█| (done) 100%\n",
      "gbm Model Build progress: |████████████████████████████████████████████████████"
     ]
    },
    {
     "name": "stderr",
     "output_type": "stream",
     "text": [
      "\u001b[32m[I 2023-05-07 20:03:03,068]\u001b[0m Trial 21 finished with value: 0.7939333709861041 and parameters: {'ntrees': 130, 'max_depth': 9, 'sample_rate': 0.6534138662444985, 'col_sample_rate': 0.8726026303407548}. Best is trial 16 with value: 0.7941602830401188.\u001b[0m\n"
     ]
    },
    {
     "name": "stdout",
     "output_type": "stream",
     "text": [
      "██| (done) 100%\n",
      "gbm Model Build progress: |████████████████████████████████████████████████████"
     ]
    },
    {
     "name": "stderr",
     "output_type": "stream",
     "text": [
      "\u001b[32m[I 2023-05-07 20:04:12,962]\u001b[0m Trial 22 finished with value: 0.7929989223251973 and parameters: {'ntrees': 138, 'max_depth': 8, 'sample_rate': 0.6653560512540504, 'col_sample_rate': 0.8590813831828965}. Best is trial 16 with value: 0.7941602830401188.\u001b[0m\n"
     ]
    },
    {
     "name": "stdout",
     "output_type": "stream",
     "text": [
      "██| (done) 100%\n",
      "gbm Model Build progress: |████████████████████████████████████████████████████"
     ]
    },
    {
     "name": "stderr",
     "output_type": "stream",
     "text": [
      "\u001b[32m[I 2023-05-07 20:05:20,389]\u001b[0m Trial 23 finished with value: 0.7929667292619265 and parameters: {'ntrees': 115, 'max_depth': 9, 'sample_rate': 0.6209180249870511, 'col_sample_rate': 0.7905024399441992}. Best is trial 16 with value: 0.7941602830401188.\u001b[0m\n"
     ]
    },
    {
     "name": "stdout",
     "output_type": "stream",
     "text": [
      "██| (done) 100%\n",
      "gbm Model Build progress: |█████████████████████████████████████████████████████"
     ]
    },
    {
     "name": "stderr",
     "output_type": "stream",
     "text": [
      "\u001b[32m[I 2023-05-07 20:06:22,212]\u001b[0m Trial 24 finished with value: 0.7928073174748068 and parameters: {'ntrees': 92, 'max_depth': 8, 'sample_rate': 0.6612261937439963, 'col_sample_rate': 0.848456501429401}. Best is trial 16 with value: 0.7941602830401188.\u001b[0m\n"
     ]
    },
    {
     "name": "stdout",
     "output_type": "stream",
     "text": [
      "█| (done) 100%\n",
      "gbm Model Build progress: |████████████████████████████████████████████████████"
     ]
    },
    {
     "name": "stderr",
     "output_type": "stream",
     "text": [
      "\u001b[32m[I 2023-05-07 20:07:32,562]\u001b[0m Trial 25 finished with value: 0.7936715173897303 and parameters: {'ntrees': 149, 'max_depth': 9, 'sample_rate': 0.5963649574545834, 'col_sample_rate': 0.800619125709232}. Best is trial 16 with value: 0.7941602830401188.\u001b[0m\n"
     ]
    },
    {
     "name": "stdout",
     "output_type": "stream",
     "text": [
      "██| (done) 100%\n",
      "gbm Model Build progress: |████████████████████████████████████████████████████"
     ]
    },
    {
     "name": "stderr",
     "output_type": "stream",
     "text": [
      "\u001b[32m[I 2023-05-07 20:08:46,309]\u001b[0m Trial 26 finished with value: 0.792991784494553 and parameters: {'ntrees': 135, 'max_depth': 8, 'sample_rate': 0.7431746333124803, 'col_sample_rate': 0.941372013539105}. Best is trial 16 with value: 0.7941602830401188.\u001b[0m\n"
     ]
    },
    {
     "name": "stdout",
     "output_type": "stream",
     "text": [
      "██| (done) 100%\n",
      "gbm Model Build progress: |█████████████████████████████████████████████████████"
     ]
    },
    {
     "name": "stderr",
     "output_type": "stream",
     "text": [
      "\u001b[32m[I 2023-05-07 20:09:47,651]\u001b[0m Trial 27 finished with value: 0.7928293312744201 and parameters: {'ntrees': 103, 'max_depth': 7, 'sample_rate': 0.6823654176348556, 'col_sample_rate': 0.8739890366075564}. Best is trial 16 with value: 0.7941602830401188.\u001b[0m\n"
     ]
    },
    {
     "name": "stdout",
     "output_type": "stream",
     "text": [
      "█| (done) 100%\n",
      "gbm Model Build progress: |█████████████████████████████████████████████████████"
     ]
    },
    {
     "name": "stderr",
     "output_type": "stream",
     "text": [
      "\u001b[32m[I 2023-05-07 20:10:29,183]\u001b[0m Trial 28 finished with value: 0.7841589262172872 and parameters: {'ntrees': 89, 'max_depth': 5, 'sample_rate': 0.7113495986388376, 'col_sample_rate': 0.8164363217690888}. Best is trial 16 with value: 0.7941602830401188.\u001b[0m\n"
     ]
    },
    {
     "name": "stdout",
     "output_type": "stream",
     "text": [
      "█| (done) 100%\n",
      "gbm Model Build progress: |████████████████████████████████████████████████████"
     ]
    },
    {
     "name": "stderr",
     "output_type": "stream",
     "text": [
      "\u001b[32m[I 2023-05-07 20:11:41,114]\u001b[0m Trial 29 finished with value: 0.7942117841512798 and parameters: {'ntrees': 130, 'max_depth': 9, 'sample_rate': 0.6696283391201072, 'col_sample_rate': 0.8862752427470799}. Best is trial 29 with value: 0.7942117841512798.\u001b[0m\n"
     ]
    },
    {
     "name": "stdout",
     "output_type": "stream",
     "text": [
      "██| (done) 100%\n",
      "gbm Model Build progress: |█████████████████████████████████████████████████████"
     ]
    },
    {
     "name": "stderr",
     "output_type": "stream",
     "text": [
      "\u001b[32m[I 2023-05-07 20:12:10,829]\u001b[0m Trial 30 finished with value: 0.7888547446407412 and parameters: {'ntrees': 35, 'max_depth': 9, 'sample_rate': 0.6727356356613042, 'col_sample_rate': 0.7186659390510872}. Best is trial 29 with value: 0.7942117841512798.\u001b[0m\n"
     ]
    },
    {
     "name": "stdout",
     "output_type": "stream",
     "text": [
      "█| (done) 100%\n",
      "gbm Model Build progress: |████████████████████████████████████████████████████"
     ]
    },
    {
     "name": "stderr",
     "output_type": "stream",
     "text": [
      "\u001b[32m[I 2023-05-07 20:13:22,871]\u001b[0m Trial 31 finished with value: 0.7938533317718819 and parameters: {'ntrees': 129, 'max_depth': 9, 'sample_rate': 0.6597020355552378, 'col_sample_rate': 0.8751205117224476}. Best is trial 29 with value: 0.7942117841512798.\u001b[0m\n"
     ]
    },
    {
     "name": "stdout",
     "output_type": "stream",
     "text": [
      "██| (done) 100%\n",
      "gbm Model Build progress: |████████████████████████████████████████████████████"
     ]
    },
    {
     "name": "stderr",
     "output_type": "stream",
     "text": [
      "\u001b[32m[I 2023-05-07 20:14:33,776]\u001b[0m Trial 32 finished with value: 0.794305592436039 and parameters: {'ntrees': 131, 'max_depth': 9, 'sample_rate': 0.6598271462935372, 'col_sample_rate': 0.8433615794982756}. Best is trial 32 with value: 0.794305592436039.\u001b[0m\n"
     ]
    },
    {
     "name": "stdout",
     "output_type": "stream",
     "text": [
      "██| (done) 100%\n",
      "gbm Model Build progress: |████████████████████████████████████████████████████"
     ]
    },
    {
     "name": "stderr",
     "output_type": "stream",
     "text": [
      "\u001b[32m[I 2023-05-07 20:15:39,422]\u001b[0m Trial 33 finished with value: 0.7931031704869365 and parameters: {'ntrees': 118, 'max_depth': 8, 'sample_rate': 0.6073124718621532, 'col_sample_rate': 0.8383210169615078}. Best is trial 32 with value: 0.794305592436039.\u001b[0m\n"
     ]
    },
    {
     "name": "stdout",
     "output_type": "stream",
     "text": [
      "██| (done) 100%\n",
      "gbm Model Build progress: |█████████████████████████████████████████████████████"
     ]
    },
    {
     "name": "stderr",
     "output_type": "stream",
     "text": [
      "\u001b[32m[I 2023-05-07 20:15:50,868]\u001b[0m Trial 34 finished with value: 0.7766954830688745 and parameters: {'ntrees': 10, 'max_depth': 9, 'sample_rate': 0.7199605317017284, 'col_sample_rate': 0.7874946967765556}. Best is trial 32 with value: 0.794305592436039.\u001b[0m\n"
     ]
    },
    {
     "name": "stdout",
     "output_type": "stream",
     "text": [
      "█| (done) 100%\n",
      "gbm Model Build progress: |████████████████████████████████████████████████████"
     ]
    },
    {
     "name": "stderr",
     "output_type": "stream",
     "text": [
      "\u001b[32m[I 2023-05-07 20:17:00,032]\u001b[0m Trial 35 finished with value: 0.7930644559529714 and parameters: {'ntrees': 134, 'max_depth': 8, 'sample_rate': 0.686611547348394, 'col_sample_rate': 0.8606720470859573}. Best is trial 32 with value: 0.794305592436039.\u001b[0m\n"
     ]
    },
    {
     "name": "stdout",
     "output_type": "stream",
     "text": [
      "██| (done) 100%\n",
      "gbm Model Build progress: |████████████████████████████████████████████████████"
     ]
    },
    {
     "name": "stderr",
     "output_type": "stream",
     "text": [
      "\u001b[32m[I 2023-05-07 20:18:12,444]\u001b[0m Trial 36 finished with value: 0.7940226260917295 and parameters: {'ntrees': 145, 'max_depth': 8, 'sample_rate': 0.7669034025206145, 'col_sample_rate': 0.8117880394341789}. Best is trial 32 with value: 0.794305592436039.\u001b[0m\n"
     ]
    },
    {
     "name": "stdout",
     "output_type": "stream",
     "text": [
      "██| (done) 100%\n",
      "gbm Model Build progress: |████████████████████████████████████████████████████"
     ]
    },
    {
     "name": "stderr",
     "output_type": "stream",
     "text": [
      "\u001b[32m[I 2023-05-07 20:19:21,559]\u001b[0m Trial 37 finished with value: 0.7934381393397777 and parameters: {'ntrees': 145, 'max_depth': 8, 'sample_rate': 0.7778960569911252, 'col_sample_rate': 0.7794213720103618}. Best is trial 32 with value: 0.794305592436039.\u001b[0m\n"
     ]
    },
    {
     "name": "stdout",
     "output_type": "stream",
     "text": [
      "██| (done) 100%\n",
      "gbm Model Build progress: |█████████████████████████████████████████████████████"
     ]
    },
    {
     "name": "stderr",
     "output_type": "stream",
     "text": [
      "\u001b[32m[I 2023-05-07 20:20:27,331]\u001b[0m Trial 38 finished with value: 0.7937397343432621 and parameters: {'ntrees': 108, 'max_depth': 8, 'sample_rate': 0.7706424288235737, 'col_sample_rate': 0.8218533474217998}. Best is trial 32 with value: 0.794305592436039.\u001b[0m\n"
     ]
    },
    {
     "name": "stdout",
     "output_type": "stream",
     "text": [
      "█| (done) 100%\n",
      "gbm Model Build progress: |█████████████████████████████████████████████████████"
     ]
    },
    {
     "name": "stderr",
     "output_type": "stream",
     "text": [
      "\u001b[32m[I 2023-05-07 20:21:13,678]\u001b[0m Trial 39 finished with value: 0.7900216268643695 and parameters: {'ntrees': 74, 'max_depth': 7, 'sample_rate': 0.7233198161211388, 'col_sample_rate': 0.7521137285148182}. Best is trial 32 with value: 0.794305592436039.\u001b[0m\n"
     ]
    },
    {
     "name": "stdout",
     "output_type": "stream",
     "text": [
      "█| (done) 100%\n",
      "gbm Model Build progress: |████████████████████████████████████████████████████"
     ]
    },
    {
     "name": "stderr",
     "output_type": "stream",
     "text": [
      "\u001b[32m[I 2023-05-07 20:22:25,152]\u001b[0m Trial 40 finished with value: 0.7942621420103391 and parameters: {'ntrees': 141, 'max_depth': 9, 'sample_rate': 0.7369519430198087, 'col_sample_rate': 0.8175128157382766}. Best is trial 32 with value: 0.794305592436039.\u001b[0m\n"
     ]
    },
    {
     "name": "stdout",
     "output_type": "stream",
     "text": [
      "██| (done) 100%\n",
      "gbm Model Build progress: |█████████████████████████████████████████████████████"
     ]
    },
    {
     "name": "stderr",
     "output_type": "stream",
     "text": [
      "\u001b[32m[I 2023-05-07 20:23:38,562]\u001b[0m Trial 41 finished with value: 0.7942203808499793 and parameters: {'ntrees': 140, 'max_depth': 9, 'sample_rate': 0.7442752611174095, 'col_sample_rate': 0.8090172056333771}. Best is trial 32 with value: 0.794305592436039.\u001b[0m\n"
     ]
    },
    {
     "name": "stdout",
     "output_type": "stream",
     "text": [
      "█| (done) 100%\n",
      "gbm Model Build progress: |████████████████████████████████████████████████████"
     ]
    },
    {
     "name": "stderr",
     "output_type": "stream",
     "text": [
      "\u001b[32m[I 2023-05-07 20:24:49,881]\u001b[0m Trial 42 finished with value: 0.7938890150235337 and parameters: {'ntrees': 137, 'max_depth': 9, 'sample_rate': 0.7382759181088229, 'col_sample_rate': 0.8366237775694138}. Best is trial 32 with value: 0.794305592436039.\u001b[0m\n"
     ]
    },
    {
     "name": "stdout",
     "output_type": "stream",
     "text": [
      "██| (done) 100%\n",
      "gbm Model Build progress: |████████████████████████████████████████████████████"
     ]
    },
    {
     "name": "stderr",
     "output_type": "stream",
     "text": [
      "\u001b[32m[I 2023-05-07 20:25:58,809]\u001b[0m Trial 43 finished with value: 0.7940367877346896 and parameters: {'ntrees': 128, 'max_depth': 9, 'sample_rate': 0.6969727836000762, 'col_sample_rate': 0.7752406473544793}. Best is trial 32 with value: 0.794305592436039.\u001b[0m\n"
     ]
    },
    {
     "name": "stdout",
     "output_type": "stream",
     "text": [
      "██| (done) 100%\n",
      "gbm Model Build progress: |████████████████████████████████████████████████████"
     ]
    },
    {
     "name": "stderr",
     "output_type": "stream",
     "text": [
      "\u001b[32m[I 2023-05-07 20:27:08,434]\u001b[0m Trial 44 finished with value: 0.7941269488493108 and parameters: {'ntrees': 120, 'max_depth': 9, 'sample_rate': 0.8058939205491993, 'col_sample_rate': 0.7956811697775295}. Best is trial 32 with value: 0.794305592436039.\u001b[0m\n"
     ]
    },
    {
     "name": "stdout",
     "output_type": "stream",
     "text": [
      "██| (done) 100%\n",
      "gbm Model Build progress: |████████████████████████████████████████████████████"
     ]
    },
    {
     "name": "stderr",
     "output_type": "stream",
     "text": [
      "\u001b[32m[I 2023-05-07 20:28:22,014]\u001b[0m Trial 45 finished with value: 0.7947149451467924 and parameters: {'ntrees': 140, 'max_depth': 9, 'sample_rate': 0.7294909027249541, 'col_sample_rate': 0.8423534748289169}. Best is trial 45 with value: 0.7947149451467924.\u001b[0m\n"
     ]
    },
    {
     "name": "stdout",
     "output_type": "stream",
     "text": [
      "██| (done) 100%\n",
      "gbm Model Build progress: |█████████████████████████████████████████████████████"
     ]
    },
    {
     "name": "stderr",
     "output_type": "stream",
     "text": [
      "\u001b[32m[I 2023-05-07 20:29:06,024]\u001b[0m Trial 46 finished with value: 0.7714845310172189 and parameters: {'ntrees': 142, 'max_depth': 3, 'sample_rate': 0.7245693005672242, 'col_sample_rate': 0.8449391849850951}. Best is trial 45 with value: 0.7947149451467924.\u001b[0m\n"
     ]
    },
    {
     "name": "stdout",
     "output_type": "stream",
     "text": [
      "█| (done) 100%\n",
      "gbm Model Build progress: |█████████████████████████████████████████████████████"
     ]
    },
    {
     "name": "stderr",
     "output_type": "stream",
     "text": [
      "\u001b[32m[I 2023-05-07 20:30:06,857]\u001b[0m Trial 47 finished with value: 0.7878777768218495 and parameters: {'ntrees': 138, 'max_depth': 5, 'sample_rate': 0.6440404068570571, 'col_sample_rate': 0.8987839314790765}. Best is trial 45 with value: 0.7947149451467924.\u001b[0m\n"
     ]
    },
    {
     "name": "stdout",
     "output_type": "stream",
     "text": [
      "█| (done) 100%\n",
      "gbm Model Build progress: |█████████████████████████████████████████████████████"
     ]
    },
    {
     "name": "stderr",
     "output_type": "stream",
     "text": [
      "\u001b[32m[I 2023-05-07 20:31:00,876]\u001b[0m Trial 48 finished with value: 0.7827812644708556 and parameters: {'ntrees': 149, 'max_depth': 4, 'sample_rate': 0.6745212899173364, 'col_sample_rate': 0.8204604076515828}. Best is trial 45 with value: 0.7947149451467924.\u001b[0m\n"
     ]
    },
    {
     "name": "stdout",
     "output_type": "stream",
     "text": [
      "█| (done) 100%\n",
      "gbm Model Build progress: |████████████████████████████████████████████████████"
     ]
    },
    {
     "name": "stderr",
     "output_type": "stream",
     "text": [
      "\u001b[32m[I 2023-05-07 20:32:13,607]\u001b[0m Trial 49 finished with value: 0.7947950348784523 and parameters: {'ntrees': 122, 'max_depth': 9, 'sample_rate': 0.7570288815328313, 'col_sample_rate': 0.9193513823261129}. Best is trial 49 with value: 0.7947950348784523.\u001b[0m\n"
     ]
    },
    {
     "name": "stdout",
     "output_type": "stream",
     "text": [
      "██| (done) 100%\n",
      "gbm Model Build progress: |████████████████████████████████████████████████████"
     ]
    },
    {
     "name": "stderr",
     "output_type": "stream",
     "text": [
      "\u001b[32m[I 2023-05-07 20:33:27,100]\u001b[0m Trial 50 finished with value: 0.794402293906378 and parameters: {'ntrees': 108, 'max_depth': 9, 'sample_rate': 0.8425255373641425, 'col_sample_rate': 0.919713608816831}. Best is trial 49 with value: 0.7947950348784523.\u001b[0m\n"
     ]
    },
    {
     "name": "stdout",
     "output_type": "stream",
     "text": [
      "██| (done) 100%\n",
      "gbm Model Build progress: |████████████████████████████████████████████████████"
     ]
    },
    {
     "name": "stderr",
     "output_type": "stream",
     "text": [
      "\u001b[32m[I 2023-05-07 20:34:40,806]\u001b[0m Trial 51 finished with value: 0.7948979403150299 and parameters: {'ntrees': 122, 'max_depth': 9, 'sample_rate': 0.8475445358047095, 'col_sample_rate': 0.918050490761779}. Best is trial 51 with value: 0.7948979403150299.\u001b[0m\n"
     ]
    },
    {
     "name": "stdout",
     "output_type": "stream",
     "text": [
      "██| (done) 100%\n",
      "gbm Model Build progress: |████████████████████████████████████████████████████"
     ]
    },
    {
     "name": "stderr",
     "output_type": "stream",
     "text": [
      "\u001b[32m[I 2023-05-07 20:35:54,096]\u001b[0m Trial 52 finished with value: 0.7945868390629083 and parameters: {'ntrees': 121, 'max_depth': 9, 'sample_rate': 0.8418688275173432, 'col_sample_rate': 0.9232602762298691}. Best is trial 51 with value: 0.7948979403150299.\u001b[0m\n"
     ]
    },
    {
     "name": "stdout",
     "output_type": "stream",
     "text": [
      "██| (done) 100%\n",
      "gbm Model Build progress: |█████████████████████████████████████████████████████"
     ]
    },
    {
     "name": "stderr",
     "output_type": "stream",
     "text": [
      "\u001b[32m[I 2023-05-07 20:37:05,844]\u001b[0m Trial 53 finished with value: 0.7937875092032503 and parameters: {'ntrees': 109, 'max_depth': 8, 'sample_rate': 0.8848637758214375, 'col_sample_rate': 0.9183505451289427}. Best is trial 51 with value: 0.7948979403150299.\u001b[0m\n"
     ]
    },
    {
     "name": "stdout",
     "output_type": "stream",
     "text": [
      "█| (done) 100%\n",
      "gbm Model Build progress: |████████████████████████████████████████████████████"
     ]
    },
    {
     "name": "stderr",
     "output_type": "stream",
     "text": [
      "\u001b[32m[I 2023-05-07 20:38:20,733]\u001b[0m Trial 54 finished with value: 0.7949653341176057 and parameters: {'ntrees': 122, 'max_depth': 9, 'sample_rate': 0.850286727850599, 'col_sample_rate': 0.943002619093375}. Best is trial 54 with value: 0.7949653341176057.\u001b[0m\n"
     ]
    },
    {
     "name": "stdout",
     "output_type": "stream",
     "text": [
      "██| (done) 100%\n",
      "gbm Model Build progress: |████████████████████████████████████████████████████"
     ]
    },
    {
     "name": "stderr",
     "output_type": "stream",
     "text": [
      "\u001b[32m[I 2023-05-07 20:39:36,529]\u001b[0m Trial 55 finished with value: 0.7948146776633818 and parameters: {'ntrees': 117, 'max_depth': 9, 'sample_rate': 0.8530984515549312, 'col_sample_rate': 0.9544298883892679}. Best is trial 54 with value: 0.7949653341176057.\u001b[0m\n"
     ]
    },
    {
     "name": "stdout",
     "output_type": "stream",
     "text": [
      "██| (done) 100%\n",
      "gbm Model Build progress: |█████████████████████████████████████████████████████"
     ]
    },
    {
     "name": "stderr",
     "output_type": "stream",
     "text": [
      "\u001b[32m[I 2023-05-07 20:40:49,843]\u001b[0m Trial 56 finished with value: 0.794038883028032 and parameters: {'ntrees': 115, 'max_depth': 8, 'sample_rate': 0.8525990745634279, 'col_sample_rate': 0.963864357722859}. Best is trial 54 with value: 0.7949653341176057.\u001b[0m\n"
     ]
    },
    {
     "name": "stdout",
     "output_type": "stream",
     "text": [
      "█| (done) 100%\n",
      "gbm Model Build progress: |██████████████████████████████████████████████████████| (done) 100%\n"
     ]
    },
    {
     "name": "stderr",
     "output_type": "stream",
     "text": [
      "\u001b[32m[I 2023-05-07 20:42:00,814]\u001b[0m Trial 57 finished with value: 0.7942824634757959 and parameters: {'ntrees': 98, 'max_depth': 9, 'sample_rate': 0.8168217580576168, 'col_sample_rate': 0.938255918225203}. Best is trial 54 with value: 0.7949653341176057.\u001b[0m\n"
     ]
    },
    {
     "name": "stdout",
     "output_type": "stream",
     "text": [
      "gbm Model Build progress: |████████████████████████████████████████████████████"
     ]
    },
    {
     "name": "stderr",
     "output_type": "stream",
     "text": [
      "\u001b[32m[I 2023-05-07 20:43:13,407]\u001b[0m Trial 58 finished with value: 0.7938428562494202 and parameters: {'ntrees': 123, 'max_depth': 8, 'sample_rate': 0.7960741729889547, 'col_sample_rate': 0.9666653527819521}. Best is trial 54 with value: 0.7949653341176057.\u001b[0m\n"
     ]
    },
    {
     "name": "stdout",
     "output_type": "stream",
     "text": [
      "██| (done) 100%\n",
      "gbm Model Build progress: |████████████████████████████████████████████████████"
     ]
    },
    {
     "name": "stderr",
     "output_type": "stream",
     "text": [
      "\u001b[32m[I 2023-05-07 20:44:28,038]\u001b[0m Trial 59 finished with value: 0.7944143475086047 and parameters: {'ntrees': 116, 'max_depth': 9, 'sample_rate': 0.8646208371377117, 'col_sample_rate': 0.9015761002318047}. Best is trial 54 with value: 0.7949653341176057.\u001b[0m\n"
     ]
    },
    {
     "name": "stdout",
     "output_type": "stream",
     "text": [
      "██| (done) 100%\n",
      "gbm Model Build progress: |█████████████████████████████████████████████████████"
     ]
    },
    {
     "name": "stderr",
     "output_type": "stream",
     "text": [
      "\u001b[32m[I 2023-05-07 20:45:37,994]\u001b[0m Trial 60 finished with value: 0.7945064764426609 and parameters: {'ntrees': 85, 'max_depth': 9, 'sample_rate': 0.826214577231384, 'col_sample_rate': 0.9546134730246711}. Best is trial 54 with value: 0.7949653341176057.\u001b[0m\n"
     ]
    },
    {
     "name": "stdout",
     "output_type": "stream",
     "text": [
      "█| (done) 100%\n",
      "gbm Model Build progress: |█████████████████████████████████████████████████████"
     ]
    },
    {
     "name": "stderr",
     "output_type": "stream",
     "text": [
      "\u001b[32m[I 2023-05-07 20:46:36,553]\u001b[0m Trial 61 finished with value: 0.7939199659243926 and parameters: {'ntrees': 68, 'max_depth': 9, 'sample_rate': 0.829359500588192, 'col_sample_rate': 0.9967106653833213}. Best is trial 54 with value: 0.7949653341176057.\u001b[0m\n"
     ]
    },
    {
     "name": "stdout",
     "output_type": "stream",
     "text": [
      "█| (done) 100%\n",
      "gbm Model Build progress: |█████████████████████████████████████████████████████"
     ]
    },
    {
     "name": "stderr",
     "output_type": "stream",
     "text": [
      "\u001b[32m[I 2023-05-07 20:47:25,362]\u001b[0m Trial 62 finished with value: 0.7928487287901087 and parameters: {'ntrees': 55, 'max_depth': 9, 'sample_rate': 0.8770493895338922, 'col_sample_rate': 0.9226683877355363}. Best is trial 54 with value: 0.7949653341176057.\u001b[0m\n"
     ]
    },
    {
     "name": "stdout",
     "output_type": "stream",
     "text": [
      "█| (done) 100%\n",
      "gbm Model Build progress: |█████████████████████████████████████████████████████"
     ]
    },
    {
     "name": "stderr",
     "output_type": "stream",
     "text": [
      "\u001b[32m[I 2023-05-07 20:48:38,563]\u001b[0m Trial 63 finished with value: 0.7955205627749805 and parameters: {'ntrees': 97, 'max_depth': 9, 'sample_rate': 0.9048049220743591, 'col_sample_rate': 0.9437235593472866}. Best is trial 63 with value: 0.7955205627749805.\u001b[0m\n"
     ]
    },
    {
     "name": "stdout",
     "output_type": "stream",
     "text": [
      "█| (done) 100%\n",
      "gbm Model Build progress: |█████████████████████████████████████████████████████"
     ]
    },
    {
     "name": "stderr",
     "output_type": "stream",
     "text": [
      "\u001b[32m[I 2023-05-07 20:49:38,772]\u001b[0m Trial 64 finished with value: 0.7888794035239399 and parameters: {'ntrees': 103, 'max_depth': 6, 'sample_rate': 0.913281321873916, 'col_sample_rate': 0.9294634357440674}. Best is trial 63 with value: 0.7955205627749805.\u001b[0m\n"
     ]
    },
    {
     "name": "stdout",
     "output_type": "stream",
     "text": [
      "█| (done) 100%\n",
      "gbm Model Build progress: |█████████████████████████████████████████████████████"
     ]
    },
    {
     "name": "stderr",
     "output_type": "stream",
     "text": [
      "\u001b[32m[I 2023-05-07 20:50:50,899]\u001b[0m Trial 65 finished with value: 0.7953469055426096 and parameters: {'ntrees': 98, 'max_depth': 9, 'sample_rate': 0.9119627055071405, 'col_sample_rate': 0.9050733163791245}. Best is trial 63 with value: 0.7955205627749805.\u001b[0m\n"
     ]
    },
    {
     "name": "stdout",
     "output_type": "stream",
     "text": [
      "█| (done) 100%\n",
      "gbm Model Build progress: |█████████████████████████████████████████████████████"
     ]
    },
    {
     "name": "stderr",
     "output_type": "stream",
     "text": [
      "\u001b[32m[I 2023-05-07 20:52:02,006]\u001b[0m Trial 66 finished with value: 0.7942729607681005 and parameters: {'ntrees': 96, 'max_depth': 8, 'sample_rate': 0.9184818309434378, 'col_sample_rate': 0.9063145407878754}. Best is trial 63 with value: 0.7955205627749805.\u001b[0m\n"
     ]
    },
    {
     "name": "stdout",
     "output_type": "stream",
     "text": [
      "█| (done) 100%\n",
      "gbm Model Build progress: |██████████████████████████████████████████████████████| (done) 100%\n"
     ]
    },
    {
     "name": "stderr",
     "output_type": "stream",
     "text": [
      "\u001b[32m[I 2023-05-07 20:53:16,415]\u001b[0m Trial 67 finished with value: 0.794668889532119 and parameters: {'ntrees': 125, 'max_depth': 9, 'sample_rate': 0.9034023895920138, 'col_sample_rate': 0.8838818405367219}. Best is trial 63 with value: 0.7955205627749805.\u001b[0m\n"
     ]
    },
    {
     "name": "stdout",
     "output_type": "stream",
     "text": [
      "gbm Model Build progress: |█████████████████████████████████████████████████████"
     ]
    },
    {
     "name": "stderr",
     "output_type": "stream",
     "text": [
      "\u001b[32m[I 2023-05-07 20:54:22,549]\u001b[0m Trial 68 finished with value: 0.7942221109541825 and parameters: {'ntrees': 85, 'max_depth': 8, 'sample_rate': 0.8878913290079424, 'col_sample_rate': 0.9447251694954734}. Best is trial 63 with value: 0.7955205627749805.\u001b[0m\n"
     ]
    },
    {
     "name": "stdout",
     "output_type": "stream",
     "text": [
      "█| (done) 100%\n",
      "gbm Model Build progress: |████████████████████████████████████████████████████"
     ]
    },
    {
     "name": "stderr",
     "output_type": "stream",
     "text": [
      "\u001b[32m[I 2023-05-07 20:55:37,077]\u001b[0m Trial 69 finished with value: 0.7951776697663345 and parameters: {'ntrees': 112, 'max_depth': 9, 'sample_rate': 0.9335784779105945, 'col_sample_rate': 0.8892978739730755}. Best is trial 63 with value: 0.7955205627749805.\u001b[0m\n"
     ]
    },
    {
     "name": "stdout",
     "output_type": "stream",
     "text": [
      "██| (done) 100%\n",
      "gbm Model Build progress: |█████████████████████████████████████████████████████"
     ]
    },
    {
     "name": "stderr",
     "output_type": "stream",
     "text": [
      "\u001b[32m[I 2023-05-07 20:56:17,734]\u001b[0m Trial 70 finished with value: 0.7771735335930673 and parameters: {'ntrees': 96, 'max_depth': 4, 'sample_rate': 0.926568130624087, 'col_sample_rate': 0.8906341200535}. Best is trial 63 with value: 0.7955205627749805.\u001b[0m\n"
     ]
    },
    {
     "name": "stdout",
     "output_type": "stream",
     "text": [
      "█| (done) 100%\n",
      "gbm Model Build progress: |████████████████████████████████████████████████████"
     ]
    },
    {
     "name": "stderr",
     "output_type": "stream",
     "text": [
      "\u001b[32m[I 2023-05-07 20:57:32,789]\u001b[0m Trial 71 finished with value: 0.7943840205217053 and parameters: {'ntrees': 112, 'max_depth': 9, 'sample_rate': 0.936647766669768, 'col_sample_rate': 0.910487275465544}. Best is trial 63 with value: 0.7955205627749805.\u001b[0m\n"
     ]
    },
    {
     "name": "stdout",
     "output_type": "stream",
     "text": [
      "██| (done) 100%\n",
      "gbm Model Build progress: |████████████████████████████████████████████████████"
     ]
    },
    {
     "name": "stderr",
     "output_type": "stream",
     "text": [
      "\u001b[32m[I 2023-05-07 20:58:45,025]\u001b[0m Trial 72 finished with value: 0.7945547902340033 and parameters: {'ntrees': 103, 'max_depth': 9, 'sample_rate': 0.9439739810362004, 'col_sample_rate': 0.8638212788956726}. Best is trial 63 with value: 0.7955205627749805.\u001b[0m\n"
     ]
    },
    {
     "name": "stdout",
     "output_type": "stream",
     "text": [
      "██| (done) 100%\n",
      "gbm Model Build progress: |████████████████████████████████████████████████████"
     ]
    },
    {
     "name": "stderr",
     "output_type": "stream",
     "text": [
      "\u001b[32m[I 2023-05-07 20:59:59,749]\u001b[0m Trial 73 finished with value: 0.7944348679749952 and parameters: {'ntrees': 107, 'max_depth': 9, 'sample_rate': 0.8642644879018978, 'col_sample_rate': 0.9485069716620728}. Best is trial 63 with value: 0.7955205627749805.\u001b[0m\n"
     ]
    },
    {
     "name": "stdout",
     "output_type": "stream",
     "text": [
      "██| (done) 100%\n",
      "gbm Model Build progress: |████████████████████████████████████████████████████"
     ]
    },
    {
     "name": "stderr",
     "output_type": "stream",
     "text": [
      "\u001b[32m[I 2023-05-07 21:01:13,566]\u001b[0m Trial 74 finished with value: 0.7952656753916013 and parameters: {'ntrees': 114, 'max_depth': 9, 'sample_rate': 0.8990079720021371, 'col_sample_rate': 0.9336835683267699}. Best is trial 63 with value: 0.7955205627749805.\u001b[0m\n"
     ]
    },
    {
     "name": "stdout",
     "output_type": "stream",
     "text": [
      "██| (done) 100%\n",
      "gbm Model Build progress: |████████████████████████████████████████████████████"
     ]
    },
    {
     "name": "stderr",
     "output_type": "stream",
     "text": [
      "\u001b[32m[I 2023-05-07 21:02:28,599]\u001b[0m Trial 75 finished with value: 0.7947477958810021 and parameters: {'ntrees': 113, 'max_depth': 9, 'sample_rate': 0.8963406460389343, 'col_sample_rate': 0.9768597505110308}. Best is trial 63 with value: 0.7955205627749805.\u001b[0m\n"
     ]
    },
    {
     "name": "stdout",
     "output_type": "stream",
     "text": [
      "██| (done) 100%\n",
      "gbm Model Build progress: |██████████████████████████████████████████████████████| (done) 100%\n"
     ]
    },
    {
     "name": "stderr",
     "output_type": "stream",
     "text": [
      "\u001b[32m[I 2023-05-07 21:03:44,499]\u001b[0m Trial 76 finished with value: 0.7946510682076933 and parameters: {'ntrees': 119, 'max_depth': 9, 'sample_rate': 0.9547945731837089, 'col_sample_rate': 0.9374869740008781}. Best is trial 63 with value: 0.7955205627749805.\u001b[0m\n"
     ]
    },
    {
     "name": "stdout",
     "output_type": "stream",
     "text": [
      "gbm Model Build progress: |█████████████████████████████████████████████████████"
     ]
    },
    {
     "name": "stderr",
     "output_type": "stream",
     "text": [
      "\u001b[32m[I 2023-05-07 21:04:54,575]\u001b[0m Trial 77 finished with value: 0.7938465721138304 and parameters: {'ntrees': 92, 'max_depth': 8, 'sample_rate': 0.8772090194618141, 'col_sample_rate': 0.934456571498604}. Best is trial 63 with value: 0.7955205627749805.\u001b[0m\n"
     ]
    },
    {
     "name": "stdout",
     "output_type": "stream",
     "text": [
      "█| (done) 100%\n",
      "gbm Model Build progress: |████████████████████████████████████████████████████"
     ]
    },
    {
     "name": "stderr",
     "output_type": "stream",
     "text": [
      "\u001b[32m[I 2023-05-07 21:06:08,483]\u001b[0m Trial 78 finished with value: 0.795295820374088 and parameters: {'ntrees': 106, 'max_depth': 9, 'sample_rate': 0.9066449411771274, 'col_sample_rate': 0.9591160860730688}. Best is trial 63 with value: 0.7955205627749805.\u001b[0m\n"
     ]
    },
    {
     "name": "stdout",
     "output_type": "stream",
     "text": [
      "██| (done) 100%\n",
      "gbm Model Build progress: |█████████████████████████████████████████████████████"
     ]
    },
    {
     "name": "stderr",
     "output_type": "stream",
     "text": [
      "\u001b[32m[I 2023-05-07 21:07:22,259]\u001b[0m Trial 79 finished with value: 0.7933042549108689 and parameters: {'ntrees': 106, 'max_depth': 8, 'sample_rate': 0.9037917673277092, 'col_sample_rate': 0.9828399319059669}. Best is trial 63 with value: 0.7955205627749805.\u001b[0m\n"
     ]
    },
    {
     "name": "stdout",
     "output_type": "stream",
     "text": [
      "█| (done) 100%\n",
      "gbm Model Build progress: |█████████████████████████████████████████████████████"
     ]
    },
    {
     "name": "stderr",
     "output_type": "stream",
     "text": [
      "\u001b[32m[I 2023-05-07 21:08:37,325]\u001b[0m Trial 80 finished with value: 0.795480889353954 and parameters: {'ntrees': 100, 'max_depth': 9, 'sample_rate': 0.9612600863900154, 'col_sample_rate': 0.9523965511065814}. Best is trial 63 with value: 0.7955205627749805.\u001b[0m\n"
     ]
    },
    {
     "name": "stdout",
     "output_type": "stream",
     "text": [
      "█| (done) 100%\n",
      "gbm Model Build progress: |█████████████████████████████████████████████████████"
     ]
    },
    {
     "name": "stderr",
     "output_type": "stream",
     "text": [
      "\u001b[32m[I 2023-05-07 21:09:54,528]\u001b[0m Trial 81 finished with value: 0.7941769556829983 and parameters: {'ntrees': 100, 'max_depth': 9, 'sample_rate': 0.9578899789589579, 'col_sample_rate': 0.956207888402262}. Best is trial 63 with value: 0.7955205627749805.\u001b[0m\n"
     ]
    },
    {
     "name": "stdout",
     "output_type": "stream",
     "text": [
      "█| (done) 100%\n",
      "gbm Model Build progress: |█████████████████████████████████████████████████████"
     ]
    },
    {
     "name": "stderr",
     "output_type": "stream",
     "text": [
      "\u001b[32m[I 2023-05-07 21:11:03,416]\u001b[0m Trial 82 finished with value: 0.7946457506572387 and parameters: {'ntrees': 79, 'max_depth': 9, 'sample_rate': 0.9152647869411934, 'col_sample_rate': 0.9531026641375218}. Best is trial 63 with value: 0.7955205627749805.\u001b[0m\n"
     ]
    },
    {
     "name": "stdout",
     "output_type": "stream",
     "text": [
      "█| (done) 100%\n",
      "gbm Model Build progress: |████████████████████████████████████████████████████"
     ]
    },
    {
     "name": "stderr",
     "output_type": "stream",
     "text": [
      "\u001b[32m[I 2023-05-07 21:12:20,480]\u001b[0m Trial 83 finished with value: 0.7949959488650487 and parameters: {'ntrees': 112, 'max_depth': 9, 'sample_rate': 0.9733160426657995, 'col_sample_rate': 0.9674813400028176}. Best is trial 63 with value: 0.7955205627749805.\u001b[0m\n"
     ]
    },
    {
     "name": "stdout",
     "output_type": "stream",
     "text": [
      "██| (done) 100%\n",
      "gbm Model Build progress: |█████████████████████████████████████████████████████"
     ]
    },
    {
     "name": "stderr",
     "output_type": "stream",
     "text": [
      "\u001b[32m[I 2023-05-07 21:13:34,625]\u001b[0m Trial 84 finished with value: 0.7952029570486856 and parameters: {'ntrees': 88, 'max_depth': 9, 'sample_rate': 0.9832757332780823, 'col_sample_rate': 0.9697841015931796}. Best is trial 63 with value: 0.7955205627749805.\u001b[0m\n"
     ]
    },
    {
     "name": "stdout",
     "output_type": "stream",
     "text": [
      "█| (done) 100%\n",
      "gbm Model Build progress: |█████████████████████████████████████████████████████"
     ]
    },
    {
     "name": "stderr",
     "output_type": "stream",
     "text": [
      "\u001b[32m[I 2023-05-07 21:14:51,629]\u001b[0m Trial 85 finished with value: 0.7951265255821148 and parameters: {'ntrees': 88, 'max_depth': 9, 'sample_rate': 0.9799746800874661, 'col_sample_rate': 0.9781652098542228}. Best is trial 63 with value: 0.7955205627749805.\u001b[0m\n"
     ]
    },
    {
     "name": "stdout",
     "output_type": "stream",
     "text": [
      "█| (done) 100%\n",
      "gbm Model Build progress: |█████████████████████████████████████████████████████"
     ]
    },
    {
     "name": "stderr",
     "output_type": "stream",
     "text": [
      "\u001b[32m[I 2023-05-07 21:16:06,618]\u001b[0m Trial 86 finished with value: 0.7947557131909858 and parameters: {'ntrees': 88, 'max_depth': 9, 'sample_rate': 0.9741505759050374, 'col_sample_rate': 0.9751684883777475}. Best is trial 63 with value: 0.7955205627749805.\u001b[0m\n"
     ]
    },
    {
     "name": "stdout",
     "output_type": "stream",
     "text": [
      "█| (done) 100%\n",
      "gbm Model Build progress: |█████████████████████████████████████████████████████"
     ]
    },
    {
     "name": "stderr",
     "output_type": "stream",
     "text": [
      "\u001b[32m[I 2023-05-07 21:17:22,755]\u001b[0m Trial 87 finished with value: 0.7954847508691069 and parameters: {'ntrees': 93, 'max_depth': 9, 'sample_rate': 0.9948738362721669, 'col_sample_rate': 0.9885712337968188}. Best is trial 63 with value: 0.7955205627749805.\u001b[0m\n"
     ]
    },
    {
     "name": "stdout",
     "output_type": "stream",
     "text": [
      "█| (done) 100%\n",
      "gbm Model Build progress: |█████████████████████████████████████████████████████"
     ]
    },
    {
     "name": "stderr",
     "output_type": "stream",
     "text": [
      "\u001b[32m[I 2023-05-07 21:18:27,063]\u001b[0m Trial 88 finished with value: 0.7940145692686356 and parameters: {'ntrees': 81, 'max_depth': 8, 'sample_rate': 0.9882755729007273, 'col_sample_rate': 0.9905943575358195}. Best is trial 63 with value: 0.7955205627749805.\u001b[0m\n"
     ]
    },
    {
     "name": "stdout",
     "output_type": "stream",
     "text": [
      "█| (done) 100%\n",
      "gbm Model Build progress: |█████████████████████████████████████████████████████"
     ]
    },
    {
     "name": "stderr",
     "output_type": "stream",
     "text": [
      "\u001b[32m[I 2023-05-07 21:19:43,773]\u001b[0m Trial 89 finished with value: 0.7945513241240271 and parameters: {'ntrees': 94, 'max_depth': 9, 'sample_rate': 0.9990235138871888, 'col_sample_rate': 0.9869283734660967}. Best is trial 63 with value: 0.7955205627749805.\u001b[0m\n"
     ]
    },
    {
     "name": "stdout",
     "output_type": "stream",
     "text": [
      "█| (done) 100%\n",
      "gbm Model Build progress: |█████████████████████████████████████████████████████"
     ]
    },
    {
     "name": "stderr",
     "output_type": "stream",
     "text": [
      "\u001b[32m[I 2023-05-07 21:20:46,428]\u001b[0m Trial 90 finished with value: 0.7918607908972057 and parameters: {'ntrees': 89, 'max_depth': 7, 'sample_rate': 0.9315322698781888, 'col_sample_rate': 0.9993373014716848}. Best is trial 63 with value: 0.7955205627749805.\u001b[0m\n"
     ]
    },
    {
     "name": "stdout",
     "output_type": "stream",
     "text": [
      "█| (done) 100%\n",
      "gbm Model Build progress: |█████████████████████████████████████████████████████"
     ]
    },
    {
     "name": "stderr",
     "output_type": "stream",
     "text": [
      "\u001b[32m[I 2023-05-07 21:22:03,210]\u001b[0m Trial 91 finished with value: 0.7949862235501403 and parameters: {'ntrees': 100, 'max_depth': 9, 'sample_rate': 0.9798485946025967, 'col_sample_rate': 0.9713453328127116}. Best is trial 63 with value: 0.7955205627749805.\u001b[0m\n"
     ]
    },
    {
     "name": "stdout",
     "output_type": "stream",
     "text": [
      "█| (done) 100%\n",
      "gbm Model Build progress: |█████████████████████████████████████████████████████"
     ]
    },
    {
     "name": "stderr",
     "output_type": "stream",
     "text": [
      "\u001b[32m[I 2023-05-07 21:23:16,213]\u001b[0m Trial 92 finished with value: 0.7951150689826894 and parameters: {'ntrees': 83, 'max_depth': 9, 'sample_rate': 0.9646781544086017, 'col_sample_rate': 0.9807859188109412}. Best is trial 63 with value: 0.7955205627749805.\u001b[0m\n"
     ]
    },
    {
     "name": "stdout",
     "output_type": "stream",
     "text": [
      "█| (done) 100%\n",
      "gbm Model Build progress: |█████████████████████████████████████████████████████"
     ]
    },
    {
     "name": "stderr",
     "output_type": "stream",
     "text": [
      "\u001b[32m[I 2023-05-07 21:24:21,187]\u001b[0m Trial 93 finished with value: 0.7951899990899023 and parameters: {'ntrees': 72, 'max_depth': 9, 'sample_rate': 0.9586110157880116, 'col_sample_rate': 0.9808147137413498}. Best is trial 63 with value: 0.7955205627749805.\u001b[0m\n"
     ]
    },
    {
     "name": "stdout",
     "output_type": "stream",
     "text": [
      "█| (done) 100%\n",
      "gbm Model Build progress: |█████████████████████████████████████████████████████"
     ]
    },
    {
     "name": "stderr",
     "output_type": "stream",
     "text": [
      "\u001b[32m[I 2023-05-07 21:25:31,223]\u001b[0m Trial 94 finished with value: 0.7943058178760055 and parameters: {'ntrees': 76, 'max_depth': 9, 'sample_rate': 0.9885404812082607, 'col_sample_rate': 0.9609168808525032}. Best is trial 63 with value: 0.7955205627749805.\u001b[0m\n"
     ]
    },
    {
     "name": "stdout",
     "output_type": "stream",
     "text": [
      "█| (done) 100%\n",
      "gbm Model Build progress: |█████████████████████████████████████████████████████"
     ]
    },
    {
     "name": "stderr",
     "output_type": "stream",
     "text": [
      "\u001b[32m[I 2023-05-07 21:26:30,983]\u001b[0m Trial 95 finished with value: 0.7942758152393824 and parameters: {'ntrees': 66, 'max_depth': 9, 'sample_rate': 0.9539634615345921, 'col_sample_rate': 0.9809068017153166}. Best is trial 63 with value: 0.7955205627749805.\u001b[0m\n"
     ]
    },
    {
     "name": "stdout",
     "output_type": "stream",
     "text": [
      "█| (done) 100%\n",
      "gbm Model Build progress: |█████████████████████████████████████████████████████"
     ]
    },
    {
     "name": "stderr",
     "output_type": "stream",
     "text": [
      "\u001b[32m[I 2023-05-07 21:27:45,883]\u001b[0m Trial 96 finished with value: 0.7953446209269077 and parameters: {'ntrees': 94, 'max_depth': 9, 'sample_rate': 0.9409150330992114, 'col_sample_rate': 0.9655217098517083}. Best is trial 63 with value: 0.7955205627749805.\u001b[0m\n"
     ]
    },
    {
     "name": "stdout",
     "output_type": "stream",
     "text": [
      "█| (done) 100%\n",
      "gbm Model Build progress: |█████████████████████████████████████████████████████"
     ]
    },
    {
     "name": "stderr",
     "output_type": "stream",
     "text": [
      "\u001b[32m[I 2023-05-07 21:28:59,940]\u001b[0m Trial 97 finished with value: 0.7939069083471111 and parameters: {'ntrees': 105, 'max_depth': 8, 'sample_rate': 0.9436744669703152, 'col_sample_rate': 0.9632578165145594}. Best is trial 63 with value: 0.7955205627749805.\u001b[0m\n"
     ]
    },
    {
     "name": "stdout",
     "output_type": "stream",
     "text": [
      "█| (done) 100%\n",
      "gbm Model Build progress: |█████████████████████████████████████████████████████"
     ]
    },
    {
     "name": "stderr",
     "output_type": "stream",
     "text": [
      "\u001b[32m[I 2023-05-07 21:30:17,019]\u001b[0m Trial 98 finished with value: 0.7950883709890927 and parameters: {'ntrees': 93, 'max_depth': 9, 'sample_rate': 0.9423633960617201, 'col_sample_rate': 0.9494896421699007}. Best is trial 63 with value: 0.7955205627749805.\u001b[0m\n"
     ]
    },
    {
     "name": "stdout",
     "output_type": "stream",
     "text": [
      "█| (done) 100%\n",
      "gbm Model Build progress: |█████████████████████████████████████████████████████"
     ]
    },
    {
     "name": "stderr",
     "output_type": "stream",
     "text": [
      "\u001b[32m[I 2023-05-07 21:31:21,146]\u001b[0m Trial 99 finished with value: 0.7946088530985843 and parameters: {'ntrees': 73, 'max_depth': 9, 'sample_rate': 0.9476947763671222, 'col_sample_rate': 0.9338788140310941}. Best is trial 63 with value: 0.7955205627749805.\u001b[0m\n"
     ]
    },
    {
     "name": "stdout",
     "output_type": "stream",
     "text": [
      "█| (done) 100%\n"
     ]
    }
   ],
   "source": [
    "# Run Optuna optimization\n",
    "optuna_study = optuna.create_study(direction='maximize', sampler=optuna.samplers.TPESampler(seed=1111))\n",
    "optuna_study.optimize(optuna_objective, n_trials=100)#It takes lot of processing time\n"
   ]
  },
  {
   "cell_type": "code",
   "execution_count": 41,
   "id": "ebba4b27",
   "metadata": {},
   "outputs": [
    {
     "name": "stdout",
     "output_type": "stream",
     "text": [
      "gbm Model Build progress: |██████████████████████████████████████████████████████| (done) 100%\n",
      "Best model's AUC: 0.7955\n"
     ]
    }
   ],
   "source": [
    "# Get the best model based on AUC\n",
    "optimal_params = optuna_study.best_params\n",
    "gbm_optimal = H2OGradientBoostingEstimator(nfolds=5,\n",
    "                                           seed=1111,\n",
    "                                           **optimal_params,\n",
    "                                           keep_cross_validation_predictions=False)\n",
    "gbm_optimal.train(x=gbm_predictors, y=resp_var, training_frame=train, validation_frame=valid)\n",
    "\n",
    "# Calculate and print AUC for the best model\n",
    "auc_value = gbm_optimal.auc(valid=True)\n",
    "print(f\"Best model's AUC: {auc_value:.4f}\")\n"
   ]
  },
  {
   "cell_type": "code",
   "execution_count": 42,
   "id": "699a81cb",
   "metadata": {},
   "outputs": [
    {
     "name": "stdout",
     "output_type": "stream",
     "text": [
      "Optimal threshold: 0.2810\n",
      "F1 score at optimal threshold: 0.5715\n"
     ]
    }
   ],
   "source": [
    "import numpy as np\n",
    "performance = gbm_optimal.model_performance()\n",
    "\n",
    "# Find the optimal threshold for the F1 score\n",
    "threshold_optimal = performance.find_threshold_by_max_metric('f1')\n",
    "f1_metric_scores = performance.metric('f1')\n",
    "\n",
    "# Find the F1 score at the optimal threshold\n",
    "f1_score_optimal = None\n",
    "for f1_score in f1_metric_scores:\n",
    "    if f1_score[0] == threshold_optimal:\n",
    "        f1_score_optimal = f1_score[1]\n",
    "        break\n",
    "\n",
    "print(f\"Optimal threshold: {threshold_optimal:.4f}\")\n",
    "print(f\"F1 score at optimal threshold: {f1_score_optimal:.4f}\")\n"
   ]
  },
  {
   "cell_type": "code",
   "execution_count": 43,
   "id": "8c2e2e68",
   "metadata": {},
   "outputs": [
    {
     "name": "stdout",
     "output_type": "stream",
     "text": [
      "Test set AUC: 0.7956\n",
      "Confusion Matrix (Act/Pred) for max f1 @ threshold = 0.24822398539932186\n",
      "       0      1      Error    Rate\n",
      "-----  -----  -----  -------  ------------------\n",
      "0      83716  16010  0.1605   (16010.0/99726.0)\n",
      "1      9105   12134  0.4287   (9105.0/21239.0)\n",
      "Total  92821  28144  0.2076   (25115.0/120965.0)\n"
     ]
    }
   ],
   "source": [
    "# Calculate performance metrics on test set\n",
    "test_perf = gbm_optimal.model_performance(test)\n",
    "test_auc = test_perf.auc()\n",
    "test_f1_scores = test_perf.metric('f1')\n",
    "test_f1_score = None\n",
    "for f1_score in test_f1_scores:\n",
    "    if f1_score[0] == threshold_optimal:\n",
    "        test_f1_score = f1_score[1]\n",
    "        break\n",
    "\n",
    "print(f\"Test set AUC: {test_auc:.4f}\")\n",
    "print(gbm_optimal.confusion_matrix(valid=True))"
   ]
  },
  {
   "cell_type": "code",
   "execution_count": 44,
   "id": "25219103",
   "metadata": {},
   "outputs": [],
   "source": [
    "import shap\n",
    "# The function is to calculate Shapley values (contributions) and plot them for multiple records\n",
    "def examine_all_reason_codes(data, model):    \n",
    "    shap_contribs = model.predict_contributions(data)\n",
    "    \n",
    "    col_mapping = {}\n",
    "    for i in data.col_names: \n",
    "        related_cols = [x for x in shap_contribs.col_names if \"{}.\".format(i) in x]\n",
    "        if len(related_cols) > 0:\n",
    "            col_mapping[i] = related_cols\n",
    "            \n",
    "    for k, v in col_mapping.items():\n",
    "        if len(v) > 1:\n",
    "            shap_contribs[k] = shap_contribs[v].sum(axis=1,return_frame=True)\n",
    "            shap_contribs = shap_contribs.drop(v)\n",
    "        \n",
    "    shap_cols = [i for i in shap_contribs.col_names if i != \"BiasTerm\"]\n",
    "    bias_term = shap_contribs.as_data_frame()[\"BiasTerm\"].values\n",
    "    X = data.as_data_frame(use_pandas=True)\n",
    "    shap_contribs = shap_contribs.as_data_frame(use_pandas=True)\n",
    "    \n",
    "    return shap.summary_plot(shap_contribs[shap_cols].values, \n",
    "                             X[shap_cols].values,\n",
    "                             feature_names=shap_cols\n",
    "                            )"
   ]
  },
  {
   "cell_type": "code",
   "execution_count": 46,
   "id": "9ee8405d",
   "metadata": {},
   "outputs": [
    {
     "name": "stdout",
     "output_type": "stream",
     "text": [
      "contributions progress: |████████████████████████████████████████████████████████| (done) 100%\n"
     ]
    },
    {
     "data": {
      "image/png": "[encoded data removed]",
      "text/plain": [
       "<Figure size 800x950 with 2 Axes>"
      ]
     },
     "metadata": {},
     "output_type": "display_data"
    }
   ],
   "source": [
    "examine_all_reason_codes(train, gbm_optimal)"
   ]
  }
 ],
 "metadata": {
  "kernelspec": {
   "display_name": "Python 3 (ipykernel)",
   "language": "python",
   "name": "python3"
  },
  "language_info": {
   "codemirror_mode": {
    "name": "ipython",
    "version": 3
   },
   "file_extension": ".py",
   "mimetype": "text/x-python",
   "name": "python",
   "nbconvert_exporter": "python",
   "pygments_lexer": "ipython3",
   "version": "3.9.13"
  }
 },
 "nbformat": 4,
 "nbformat_minor": 5
}
